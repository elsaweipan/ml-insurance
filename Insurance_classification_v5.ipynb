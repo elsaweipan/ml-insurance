{
 "cells": [
  {
   "cell_type": "markdown",
   "metadata": {},
   "source": [
    "### Q. Any idea on managing these 200+ features after ohe?"
   ]
  },
  {
   "cell_type": "code",
   "execution_count": null,
   "metadata": {
    "colab": {},
    "colab_type": "code",
    "id": "UewBJeoOQJPS"
   },
   "outputs": [],
   "source": [
    "# ## for colab\n",
    "# # !pip install -U -q PyDrive\n",
    "\n",
    "# from pydrive.auth import GoogleAuth\n",
    "# from pydrive.drive import GoogleDrive\n",
    "# from google.colab import auth\n",
    "# from oauth2client.client import GoogleCredentials\n",
    "\n",
    "# auth.authenticate_user()\n",
    "# gauth = GoogleAuth()\n",
    "# gauth.credentials = GoogleCredentials.get_application_default()\n",
    "# drive = GoogleDrive(gauth)"
   ]
  },
  {
   "cell_type": "code",
   "execution_count": null,
   "metadata": {
    "colab": {},
    "colab_type": "code",
    "id": "7fm4rNqJQJPV"
   },
   "outputs": [],
   "source": [
    "# ## for colab\n",
    "# # Load the Drive helper and mount\n",
    "# from google.colab import drive\n",
    "\n",
    "# # This will prompt for authorization.\n",
    "# drive.mount('/content/drive')"
   ]
  },
  {
   "cell_type": "code",
   "execution_count": 55,
   "metadata": {
    "colab": {},
    "colab_type": "code",
    "id": "_7JDkhojQJPe"
   },
   "outputs": [],
   "source": [
    "## common imports\n",
    "import numpy as np\n",
    "import pandas as pd\n",
    "import os\n",
    "import pickle\n",
    "import warnings\n",
    "warnings.filterwarnings(\"ignore\")\n",
    "from datetime import datetime"
   ]
  },
  {
   "cell_type": "code",
   "execution_count": 56,
   "metadata": {
    "colab": {},
    "colab_type": "code",
    "id": "VdOROy68ePGT"
   },
   "outputs": [],
   "source": [
    "## to plot pretty figures\n",
    "%matplotlib inline\n",
    "import matplotlib\n",
    "import matplotlib.pyplot as plt\n",
    "import seaborn as sns\n",
    "plt.rcParams['axes.labelsize'] = 14\n",
    "plt.rcParams['xtick.labelsize'] = 12\n",
    "plt.rcParams['ytick.labelsize'] = 12\n",
    "\n",
    "## to make this notebook's output stable across runs\n",
    "np.random.seed(42)"
   ]
  },
  {
   "cell_type": "code",
   "execution_count": 57,
   "metadata": {
    "colab": {},
    "colab_type": "code",
    "id": "wbdc3bSlQJPX"
   },
   "outputs": [
    {
     "name": "stdout",
     "output_type": "stream",
     "text": [
      "1.13.0-rc2\n"
     ]
    }
   ],
   "source": [
    "import tensorflow as tf\n",
    "print(tf.__version__)"
   ]
  },
  {
   "cell_type": "code",
   "execution_count": 58,
   "metadata": {
    "colab": {},
    "colab_type": "code",
    "id": "Ie-NfyEAQJPh"
   },
   "outputs": [],
   "source": [
    "## import sklearn packages\n",
    "# from sklearn.metrics import precision_score, recall_score\n",
    "# from sklearn.metrics import confusion_matrix\n",
    "# from sklearn.metrics import mean_absolute_error\n",
    "from sklearn.metrics import accuracy_score\n",
    "from sklearn.metrics import classification_report\n",
    "# from sklearn.metrics import roc_curve, auc, roc_auc_score\n",
    "# from sklearn.metrics import precision_recall_curve"
   ]
  },
  {
   "cell_type": "markdown",
   "metadata": {
    "colab_type": "text",
    "id": "-1rcyJUyQJPd"
   },
   "source": [
    "# 01_ReadData"
   ]
  },
  {
   "cell_type": "code",
   "execution_count": 59,
   "metadata": {
    "colab": {},
    "colab_type": "code",
    "id": "4CgvBUrYQJPi"
   },
   "outputs": [],
   "source": [
    "## for colab \n",
    "## read the data\n",
    "# df_all = pd.read_csv('/content/drive/My Drive/Final Project_Nisal David Elsa/insurance_classification_data.csv')  "
   ]
  },
  {
   "cell_type": "code",
   "execution_count": 78,
   "metadata": {},
   "outputs": [],
   "source": [
    "# # read in the raw data to a data frame and saves it to pickle\n",
    "# df_all = pd.read_csv('../final_project_data/insurance_classification_data.csv')\n",
    "with open('../final_project_data/insurance_clf_data.pickle','wb') as file:\n",
    "    pickle.dump(df_all, file)"
   ]
  },
  {
   "cell_type": "code",
   "execution_count": 116,
   "metadata": {},
   "outputs": [],
   "source": [
    "## read the data\n",
    "with open('../final_project_data/insurance_clf_data.pickle','rb') as file:\n",
    "    df_all = pickle.load(file)"
   ]
  },
  {
   "cell_type": "code",
   "execution_count": 117,
   "metadata": {
    "colab": {},
    "colab_type": "code",
    "id": "gBgm9MgRQJPk",
    "outputId": "c97a6036-c97e-44ac-a678-dacab321a9d6"
   },
   "outputs": [
    {
     "data": {
      "text/plain": [
       "(1795672, 89)"
      ]
     },
     "execution_count": 117,
     "metadata": {},
     "output_type": "execute_result"
    }
   ],
   "source": [
    "df_all.shape"
   ]
  },
  {
   "cell_type": "code",
   "execution_count": 92,
   "metadata": {
    "colab": {},
    "colab_type": "code",
    "id": "DXsVhX9-QJPq",
    "outputId": "8d65bbdb-01e7-4ac9-a11e-14fbd42c0f42",
    "scrolled": true
   },
   "outputs": [
    {
     "name": "stdout",
     "output_type": "stream",
     "text": [
      "<class 'pandas.core.frame.DataFrame'>\n",
      "RangeIndex: 1795672 entries, 0 to 1795671\n",
      "Data columns (total 89 columns):\n",
      "uniqueID    int64\n",
      "Var01       object\n",
      "Var03       object\n",
      "Var07       int64\n",
      "Var10       float64\n",
      "Var11       object\n",
      "Var13       object\n",
      "Var14       object\n",
      "Var19       object\n",
      "Var20       object\n",
      "Var21       object\n",
      "Var23       object\n",
      "Var25       object\n",
      "Var26       float64\n",
      "Var27       float64\n",
      "Var28       float64\n",
      "Var29       float64\n",
      "Var30       int64\n",
      "Var31       int64\n",
      "Var32       int64\n",
      "Var33       int64\n",
      "Var34       int64\n",
      "Var35       int64\n",
      "Var42       int64\n",
      "pred_s      float64\n",
      "Var47       float64\n",
      "Var48       object\n",
      "Var49       object\n",
      "Var50       int64\n",
      "Var51       object\n",
      "Var52       object\n",
      "Var53       object\n",
      "Var55       object\n",
      "c01         object\n",
      "c02         object\n",
      "c03         object\n",
      "c06         object\n",
      "c07         object\n",
      "c08         float64\n",
      "c09         float64\n",
      "c10         float64\n",
      "c11         float64\n",
      "c12         float64\n",
      "c13         object\n",
      "c14         object\n",
      "c15         float64\n",
      "c17         object\n",
      "c18         float64\n",
      "c19         float64\n",
      "c20         object\n",
      "c21         object\n",
      "c22         object\n",
      "c23         object\n",
      "c24         object\n",
      "c25         object\n",
      "c27         float64\n",
      "c28         object\n",
      "c29         object\n",
      "c30         object\n",
      "c31         object\n",
      "c32         object\n",
      "c33         object\n",
      "c36         object\n",
      "c37         object\n",
      "Var54       int64\n",
      "Var56       object\n",
      "Var02       float64\n",
      "Var04       int64\n",
      "Var05       int64\n",
      "Var06       int64\n",
      "Var08       int64\n",
      "Var09       int64\n",
      "Var12       float64\n",
      "Var15       int64\n",
      "Var16       int64\n",
      "Var18       int64\n",
      "Var22       int64\n",
      "Var24       int64\n",
      "c04         float64\n",
      "c05         float64\n",
      "c16         float64\n",
      "c26         float64\n",
      "c34         float64\n",
      "c35         float64\n",
      "c38         float64\n",
      "c39         float64\n",
      "c40         float64\n",
      "id          float64\n",
      "train       object\n",
      "dtypes: float64(28), int64(21), object(40)\n",
      "memory usage: 1.2+ GB\n"
     ]
    }
   ],
   "source": [
    "df_all.info()"
   ]
  },
  {
   "cell_type": "code",
   "execution_count": 93,
   "metadata": {
    "colab": {},
    "colab_type": "code",
    "id": "ioBOhY2TQJPn",
    "outputId": "94849144-7ef5-4066-92f9-57e4e64f554e"
   },
   "outputs": [
    {
     "data": {
      "text/html": [
       "<div>\n",
       "<style scoped>\n",
       "    .dataframe tbody tr th:only-of-type {\n",
       "        vertical-align: middle;\n",
       "    }\n",
       "\n",
       "    .dataframe tbody tr th {\n",
       "        vertical-align: top;\n",
       "    }\n",
       "\n",
       "    .dataframe thead th {\n",
       "        text-align: right;\n",
       "    }\n",
       "</style>\n",
       "<table border=\"1\" class=\"dataframe\">\n",
       "  <thead>\n",
       "    <tr style=\"text-align: right;\">\n",
       "      <th></th>\n",
       "      <th>uniqueID</th>\n",
       "      <th>Var01</th>\n",
       "      <th>Var03</th>\n",
       "      <th>Var07</th>\n",
       "      <th>Var10</th>\n",
       "      <th>Var11</th>\n",
       "      <th>Var13</th>\n",
       "      <th>Var14</th>\n",
       "      <th>Var19</th>\n",
       "      <th>Var20</th>\n",
       "      <th>...</th>\n",
       "      <th>c05</th>\n",
       "      <th>c16</th>\n",
       "      <th>c26</th>\n",
       "      <th>c34</th>\n",
       "      <th>c35</th>\n",
       "      <th>c38</th>\n",
       "      <th>c39</th>\n",
       "      <th>c40</th>\n",
       "      <th>id</th>\n",
       "      <th>train</th>\n",
       "    </tr>\n",
       "  </thead>\n",
       "  <tbody>\n",
       "    <tr>\n",
       "      <th>0</th>\n",
       "      <td>352373</td>\n",
       "      <td>A</td>\n",
       "      <td>A</td>\n",
       "      <td>0</td>\n",
       "      <td>2.0</td>\n",
       "      <td>B</td>\n",
       "      <td>A</td>\n",
       "      <td>A</td>\n",
       "      <td>C</td>\n",
       "      <td>B</td>\n",
       "      <td>...</td>\n",
       "      <td>28.0</td>\n",
       "      <td>8.0</td>\n",
       "      <td>21.0</td>\n",
       "      <td>20.0</td>\n",
       "      <td>19.0</td>\n",
       "      <td>14.0</td>\n",
       "      <td>17.0</td>\n",
       "      <td>13.0</td>\n",
       "      <td>8747.0</td>\n",
       "      <td>Y</td>\n",
       "    </tr>\n",
       "    <tr>\n",
       "      <th>1</th>\n",
       "      <td>352373</td>\n",
       "      <td>A</td>\n",
       "      <td>A</td>\n",
       "      <td>0</td>\n",
       "      <td>2.0</td>\n",
       "      <td>B</td>\n",
       "      <td>A</td>\n",
       "      <td>A</td>\n",
       "      <td>C</td>\n",
       "      <td>B</td>\n",
       "      <td>...</td>\n",
       "      <td>28.0</td>\n",
       "      <td>8.0</td>\n",
       "      <td>21.0</td>\n",
       "      <td>20.0</td>\n",
       "      <td>19.0</td>\n",
       "      <td>14.0</td>\n",
       "      <td>17.0</td>\n",
       "      <td>13.0</td>\n",
       "      <td>8747.0</td>\n",
       "      <td>Y</td>\n",
       "    </tr>\n",
       "    <tr>\n",
       "      <th>2</th>\n",
       "      <td>765898</td>\n",
       "      <td>A</td>\n",
       "      <td>A</td>\n",
       "      <td>0</td>\n",
       "      <td>2.0</td>\n",
       "      <td>B</td>\n",
       "      <td>A</td>\n",
       "      <td>A</td>\n",
       "      <td>C</td>\n",
       "      <td>B</td>\n",
       "      <td>...</td>\n",
       "      <td>29.0</td>\n",
       "      <td>21.0</td>\n",
       "      <td>21.0</td>\n",
       "      <td>20.0</td>\n",
       "      <td>19.0</td>\n",
       "      <td>5.0</td>\n",
       "      <td>17.0</td>\n",
       "      <td>13.0</td>\n",
       "      <td>8747.0</td>\n",
       "      <td>Y</td>\n",
       "    </tr>\n",
       "    <tr>\n",
       "      <th>3</th>\n",
       "      <td>765898</td>\n",
       "      <td>A</td>\n",
       "      <td>A</td>\n",
       "      <td>0</td>\n",
       "      <td>2.0</td>\n",
       "      <td>B</td>\n",
       "      <td>A</td>\n",
       "      <td>A</td>\n",
       "      <td>C</td>\n",
       "      <td>B</td>\n",
       "      <td>...</td>\n",
       "      <td>29.0</td>\n",
       "      <td>21.0</td>\n",
       "      <td>21.0</td>\n",
       "      <td>20.0</td>\n",
       "      <td>19.0</td>\n",
       "      <td>5.0</td>\n",
       "      <td>17.0</td>\n",
       "      <td>13.0</td>\n",
       "      <td>8747.0</td>\n",
       "      <td>Y</td>\n",
       "    </tr>\n",
       "    <tr>\n",
       "      <th>4</th>\n",
       "      <td>138374</td>\n",
       "      <td>B</td>\n",
       "      <td>A</td>\n",
       "      <td>0</td>\n",
       "      <td>2.0</td>\n",
       "      <td>A</td>\n",
       "      <td>E</td>\n",
       "      <td>A</td>\n",
       "      <td>C</td>\n",
       "      <td>B</td>\n",
       "      <td>...</td>\n",
       "      <td>24.0</td>\n",
       "      <td>24.0</td>\n",
       "      <td>21.0</td>\n",
       "      <td>0.0</td>\n",
       "      <td>19.0</td>\n",
       "      <td>30.0</td>\n",
       "      <td>17.0</td>\n",
       "      <td>13.0</td>\n",
       "      <td>40261.0</td>\n",
       "      <td>Y</td>\n",
       "    </tr>\n",
       "  </tbody>\n",
       "</table>\n",
       "<p>5 rows × 89 columns</p>\n",
       "</div>"
      ],
      "text/plain": [
       "   uniqueID Var01 Var03  Var07  Var10 Var11 Var13 Var14 Var19 Var20  ...  \\\n",
       "0    352373     A     A      0    2.0     B     A     A     C     B  ...   \n",
       "1    352373     A     A      0    2.0     B     A     A     C     B  ...   \n",
       "2    765898     A     A      0    2.0     B     A     A     C     B  ...   \n",
       "3    765898     A     A      0    2.0     B     A     A     C     B  ...   \n",
       "4    138374     B     A      0    2.0     A     E     A     C     B  ...   \n",
       "\n",
       "    c05   c16   c26   c34   c35   c38   c39   c40       id  train  \n",
       "0  28.0   8.0  21.0  20.0  19.0  14.0  17.0  13.0   8747.0      Y  \n",
       "1  28.0   8.0  21.0  20.0  19.0  14.0  17.0  13.0   8747.0      Y  \n",
       "2  29.0  21.0  21.0  20.0  19.0   5.0  17.0  13.0   8747.0      Y  \n",
       "3  29.0  21.0  21.0  20.0  19.0   5.0  17.0  13.0   8747.0      Y  \n",
       "4  24.0  24.0  21.0   0.0  19.0  30.0  17.0  13.0  40261.0      Y  \n",
       "\n",
       "[5 rows x 89 columns]"
      ]
     },
     "execution_count": 93,
     "metadata": {},
     "output_type": "execute_result"
    }
   ],
   "source": [
    "df_all.head()"
   ]
  },
  {
   "cell_type": "markdown",
   "metadata": {
    "colab_type": "text",
    "id": "bnsE_H19cCPt"
   },
   "source": [
    "# 02a_DataManipulation_basic"
   ]
  },
  {
   "cell_type": "markdown",
   "metadata": {
    "colab_type": "text",
    "id": "XDHLX2C8QJPt"
   },
   "source": [
    "#### Remove duplicates"
   ]
  },
  {
   "cell_type": "code",
   "execution_count": 118,
   "metadata": {
    "colab": {},
    "colab_type": "code",
    "id": "SINLrVuAQJPt",
    "outputId": "d21ada1c-6f68-46d7-b7fc-a26391437332"
   },
   "outputs": [
    {
     "name": "stdout",
     "output_type": "stream",
     "text": [
      "Duplicate Rows except first occurrence based on all columns are :\n"
     ]
    },
    {
     "data": {
      "text/plain": [
       "(1537, 89)"
      ]
     },
     "execution_count": 118,
     "metadata": {},
     "output_type": "execute_result"
    }
   ],
   "source": [
    "## check duplicates\n",
    "duplicateRowsDF = df_all[df_all.duplicated()]\n",
    "print(\"Duplicate Rows except first occurrence based on all columns are :\")\n",
    "duplicateRowsDF.shape"
   ]
  },
  {
   "cell_type": "code",
   "execution_count": 119,
   "metadata": {
    "colab": {},
    "colab_type": "code",
    "id": "bU5SurAHQJPw"
   },
   "outputs": [
    {
     "name": "stdout",
     "output_type": "stream",
     "text": [
      "(1794135, 89)\n"
     ]
    }
   ],
   "source": [
    "df_all = df_all.drop_duplicates()\n",
    "print(df_all.shape)"
   ]
  },
  {
   "cell_type": "markdown",
   "metadata": {},
   "source": [
    "#### remove data where pred_s is missing?  what do we need to do with id missing ?"
   ]
  },
  {
   "cell_type": "code",
   "execution_count": 115,
   "metadata": {},
   "outputs": [
    {
     "name": "stdout",
     "output_type": "stream",
     "text": [
      "(1646188, 89)\n"
     ]
    }
   ],
   "source": [
    "# df_all = df_all.dropna(subset=['pred_s'])\n",
    "# print(df_all.shape)"
   ]
  },
  {
   "cell_type": "code",
   "execution_count": 114,
   "metadata": {},
   "outputs": [
    {
     "name": "stdout",
     "output_type": "stream",
     "text": [
      "uniqueID: 780363 unique values\n",
      "Var01:\n",
      "['A' 'B' 'C']\n",
      "Var03:\n",
      "['A' 'B' 'C' 'D' 'E' 'F' 'G' 'H' 'I' 'J' 'L' 'N' 'P' 'Q' 'Z']\n",
      "Var07:\n",
      "[0 1 2 3 4 5]\n",
      "Var10:\n",
      "[-1.  1.  2.  3.  4.  5.  6.  7.  8.  9. 10. 11. 12. 13. 14. 15. 16. 17.]\n",
      "Var11:\n",
      "['A' 'B' 'C' 'D' 'E' 'F' 'G' 'Z']\n",
      "Var13:\n",
      "['A' 'B' 'C' 'D' 'E' 'F' 'G' 'H' 'I' 'J' 'K' 'L' 'M' 'N' 'O' 'P' 'Q' 'R'\n",
      " 'S']\n",
      "Var14:\n",
      "['A' 'B' 'C' 'D' 'E' 'F' 'Z']\n",
      "Var19:\n",
      "['A' 'B' 'C' 'D' 'E' 'F' 'G']\n",
      "Var20:\n",
      "['A' 'B']\n",
      "Var21:\n",
      "['A' 'B' 'C' 'D' 'Z']\n",
      "Var23:\n",
      "['A' 'B' 'C' 'Z']\n",
      "Var25:\n",
      "['A' 'B' 'C' 'D' 'E' 'F' 'G' 'H' 'I' 'J' 'K' 'L' 'M']\n",
      "Var26:\n",
      "[ 1.  2.  3.  4.  5.  6.  7.  8.  9. 10. 11. 12. 13. 14. 15. 16. 17. 18.\n",
      " 19. 20.]\n",
      "Var27:\n",
      "[-1.  1.  2.  3.  4.  5.  6.  7.  8.  9. 10. 11. 12. 13. 14. 15. 16. 17.]\n",
      "Var28:\n",
      "[ 1.  2.  3.  4.  5.  6.  7.  8.  9. 10. 11. 12. 13. 14. 15. nan]\n",
      "Var29:\n",
      "[-1.  1.  2.  3.  4.  5.  6.  7.  8.  9. 10. 11. 12. 13. 14. 15. 16. 17.\n",
      " nan]\n",
      "Var30:\n",
      "[0 1 2 3]\n",
      "Var31:\n",
      "[0 1 2 3]\n",
      "Var32:\n",
      "[0 1 2 3]\n",
      "Var33:\n",
      "[0 1 2 3]\n",
      "Var34:\n",
      "[0 1 2 3]\n",
      "Var35:\n",
      "[0 1 2 3 4 5]\n",
      "Var42:\n",
      "[0 1 2 3]\n",
      "pred_s:\n",
      "[ 0.  1.  2.  3.  4.  5.  6.  7.  8.  9. 10. 11. 12. 13. 14. 15. 16. 17.\n",
      " 18. 19. 20. 21. 22. 23. 24. 25. 26. 27. 28. 29. 30. 31. 32. 33. 34. 35.\n",
      " 36. 37. 38. 39. 40. 41. 42. 43. 44. 45. 46. 47. 48. 49. 50. 51. 52. 53.\n",
      " 54. 55. 56. 57. 58. 59. 60. 61. 62. 63. 64. 65. 66. 67. 68. 69. 70. 71.\n",
      " 72. 73. 74. 75. 76. 77. 78. 79. 80. 81. 82. 83. 84. 85. 86. 87. 88. 89.\n",
      " 90. 91. 92. 93. 94. 95. 96. 97. 98. 99.]\n",
      "Var47:\n",
      "[0. 1.]\n",
      "Var48:\n",
      "['A' 'B' 'C' 'D' 'E' 'F' 'G' 'H' 'I' 'J' 'K' 'L' 'M' 'N' 'O' 'P' 'Q']\n",
      "Var49:\n",
      "['A' 'B']\n",
      "Var50:\n",
      "[1 2 3 4 5]\n",
      "Var51:\n",
      "['A' 'B' 'C' 'D' 'E' 'F' 'G' 'H' 'I' 'J' 'L' 'M' 'N' 'P' 'Q' 'Z']\n",
      "Var52:\n",
      "['A' 'B']\n",
      "Var53:\n",
      "['A' 'B' 'C' 'D' 'E' 'F' 'X']\n",
      "Var55:\n",
      "['A' 'B' 'C' 'D' 'E' 'F' 'G']\n",
      "c01:\n",
      "['A' 'B' 'C' 'D' 'F' 'G' 'H']\n",
      "c02:\n",
      "['A' 'B' 'C' 'D' 'E' 'F' 'G' 'H']\n",
      "c03:\n",
      "['A' 'B' 'C' 'D' 'E' 'F' 'G' 'H' 'I' 'J' 'K' 'L']\n",
      "c06:\n",
      "['N' 'Y']\n",
      "c07:\n",
      "['N' 'Y']\n",
      "c08:\n",
      "[ 0.  1.  2.  3. nan]\n",
      "c09:\n",
      "[ 0.  1.  2.  3. nan]\n",
      "c10:\n",
      "[ 0.  1. nan]\n",
      "c11:\n",
      "[ 0.  1.  2. nan]\n",
      "c12:\n",
      "[ 0.  1.  2. nan]\n",
      "c13:\n",
      "['A' 'B' 'C' 'D' 'E' 'F' 'G' 'H' 'I']\n",
      "c14:\n",
      "['N' 'O' 'Y']\n",
      "c15:\n",
      "[ 0.  1.  2. nan]\n",
      "c17:\n",
      "['A' 'B' 'C' 'E' 'F']\n",
      "c18:\n",
      "[ 0.  1.  2.  3. nan]\n",
      "c19:\n",
      "[ 1.  2.  3.  4.  5.  6.  7.  8. nan]\n",
      "c20:\n",
      "['N' 'O' 'Y']\n",
      "c21:\n",
      "['N' 'O' 'Y']\n",
      "c22:\n",
      "['E' 'F']\n",
      "c23:\n",
      "['N' 'Y']\n",
      "c24:\n",
      "['N' 'Y']\n",
      "c25:\n",
      "['A' 'B' 'C' 'D' 'E' 'F']\n",
      "c27:\n",
      "[ 0.  1.  2.  3.  4.  5.  6.  7.  8. nan]\n",
      "c28:\n",
      "['A' 'B' 'C']\n",
      "c29:\n",
      "['A' 'B' 'C']\n",
      "c30:\n",
      "['A' 'B' 'C']\n",
      "c31:\n",
      "['A' 'B' 'C']\n",
      "c32:\n",
      "['A' 'B' 'C']\n",
      "c33:\n",
      "['A' 'B' 'C']\n",
      "c36:\n",
      "['N' 'Y']\n",
      "c37:\n",
      "['N' 'Y']\n",
      "Var54:\n",
      "[0 1 2 3 4 5]\n",
      "Var56:\n",
      "['A' 'B']\n",
      "Var02:\n",
      "[ 0.  1.  2.  3.  4.  5.  6.  7.  8.  9. 11. 12. 14. 16. 17. 18. 19. 21.\n",
      " 22. 23. 24. 25. 26. 27. 28. 29. 30. 31. 32. 33. 34. 35. 36. 37. 38. 39.]\n",
      "Var04:\n",
      "[ 0  1  3  4  7  9 11 13 15 17 19 21 23 26 28 30 32 33 35 36 37 38 39]\n",
      "Var05:\n",
      "[ 0  1  2  4  5  7  8  9 11 12 13 14 15 16 17 18 19 20 21 22 23 24 25 26\n",
      " 27 28 29 30 31 32 33 34 35 36 37 38 39]\n",
      "Var06:\n",
      "[ 8 17 20 22 23 24 30 35 36 37 38 39]\n",
      "Var08:\n",
      "[ 0  6 15 20 24 26 28 29 31 32 33 34 35 36 37 38 39]\n",
      "Var09:\n",
      "[ 6 16 21 24 26 28 29 31 32 33 34 35 36 37 38 39]\n",
      "Var12:\n",
      "[ 0.  1.  2.  3.  4.  5.  6.  7.  8.  9. 10. 11. 12. 13. 14. 15. 16. 17.\n",
      " 18. 19. 20. 21. 22. 23. 24. 25. 26. 27. 28. 29. 30. 31. 32. 33. 34. 35.\n",
      " 36. 37. 38. 39. nan]\n",
      "Var15:\n",
      "[ 0  1  2  3  5  6  7  8 10 14 17 18 20 22 23 24 25 27 29 30 33 35 36 37\n",
      " 38 39]\n",
      "Var16:\n",
      "[ 5 12 16 18 20 21 22 23 30 36 37 38 39]\n",
      "Var18:\n",
      "[ 0  2  3  4  5  6  7  8  9 10 11 12 13 14 15 16 17 18 19 20 22 23 24 25\n",
      " 26 27 28 29 30 31 32 33 34 35 36 37 38 39]\n",
      "Var22:\n",
      "[ 0  1  3  4  5  6  7  8 24]\n",
      "Var24:\n",
      "[ 0  1 20]\n",
      "c04:\n",
      "[ 0.  2.  5.  7. 10. 14. 17. 22. 26. 30. 33. 37. nan]\n",
      "c05:\n",
      "[ 3. 10. 14. 16. 18. 19. 20. 21. 22. 23. 24. 25. 26. 27. 28. 29. 30. 31.\n",
      " 32. 33. 34. 35. 36. 37. 38. 39. nan]\n",
      "c16:\n",
      "[ 0.  1.  2.  3.  5.  8. 11. 15. 18. 21. 24. 27. 30. 32. 34. 36. 37. 39.\n",
      " nan]\n",
      "c26:\n",
      "[ 0.  1.  2.  3.  4.  5.  6.  7.  8.  9. 21. 35. 37. 38. 39. nan]\n",
      "c34:\n",
      "[ 0. 20. 39. nan]\n",
      "c35:\n",
      "[ 0. 19. 39. nan]\n",
      "c38:\n",
      "[ 5. 14. 21. 25. 28. 30. 32. 33. 34. 35. 36. 37. 38. 39. nan]\n",
      "c39:\n",
      "[17. 35. 38. 39. nan]\n",
      "c40:\n",
      "[13. 31. 36. 37. 38. 39. nan]\n",
      "id: 35430 unique values\n",
      "train:\n",
      "['Y']\n"
     ]
    }
   ],
   "source": [
    "# Look at some of the unique values within each variable \n",
    "for col in list(df_all.columns):\n",
    "    uniques = df_all[col].unique() # get a list of unique values  \n",
    "    uniques.sort()\n",
    "    # if number of unique values is less than 30, print the values. Otherwise print the number of unique values\n",
    "    if len(uniques)<105:\n",
    "        print(col + ':')\n",
    "        print(uniques)\n",
    "    else:\n",
    "        print(col + ': ' + str(len(uniques)) + ' unique values')"
   ]
  },
  {
   "cell_type": "markdown",
   "metadata": {
    "colab_type": "text",
    "id": "9G3APZzldINX"
   },
   "source": [
    "# 02b_DataManipulations_missings"
   ]
  },
  {
   "cell_type": "markdown",
   "metadata": {},
   "source": [
    "#### replacing missing by the mode if it is categorical and the mean if numeric"
   ]
  },
  {
   "cell_type": "code",
   "execution_count": 85,
   "metadata": {
    "colab": {},
    "colab_type": "code",
    "id": "plQoQuQjQJP-"
   },
   "outputs": [],
   "source": [
    "## check missing values\n",
    "def check_missings(df):\n",
    "    total = df.isnull().sum()\n",
    "    percent = df.isnull().sum()/df.isnull().count()*100\n",
    "    missing = pd.concat([total, percent], axis=1, keys=['Total', 'Percent'])\n",
    "    return missing"
   ]
  },
  {
   "cell_type": "code",
   "execution_count": 86,
   "metadata": {
    "colab": {},
    "colab_type": "code",
    "id": "WJa6BkeUQJQA"
   },
   "outputs": [],
   "source": [
    "missing_list = check_missings(df_all)"
   ]
  },
  {
   "cell_type": "code",
   "execution_count": 87,
   "metadata": {},
   "outputs": [
    {
     "name": "stdout",
     "output_type": "stream",
     "text": [
      "         Total    Percent\n",
      "c04     663757  40.318842\n",
      "c39     436774  26.531128\n",
      "c40     432324  26.260820\n",
      "c38     421798  25.621435\n",
      "c16     258918  15.727554\n",
      "c05     252331  15.327437\n",
      "id      163260   9.916964\n",
      "c18     157720   9.580445\n",
      "c15     155295   9.433143\n",
      "c08     154590   9.390319\n",
      "c09     154590   9.390319\n",
      "c10     154590   9.390319\n",
      "c19      69516   4.222637\n",
      "c26      54755   3.326004\n",
      "c27      37962   2.305940\n",
      "c34      25457   1.546344\n",
      "c35      25457   1.546344\n",
      "c12      10468   0.635862\n",
      "c11       9156   0.556166\n",
      "Var12     5197   0.315683\n",
      "pred_s      82   0.004981\n",
      "Var02       11   0.000668\n",
      "Var10       11   0.000668\n",
      "Var29        5   0.000304\n",
      "Var28        5   0.000304\n",
      "Var26        4   0.000243\n",
      "Var27        4   0.000243\n"
     ]
    }
   ],
   "source": [
    "print(missing_list[missing_list.Total>0].sort_values(by='Total',ascending=False))"
   ]
  },
  {
   "cell_type": "code",
   "execution_count": 88,
   "metadata": {},
   "outputs": [],
   "source": [
    "indicator_cols = missing_list.loc[missing_list['Total']>0].drop_duplicates().index.values.tolist()"
   ]
  },
  {
   "cell_type": "code",
   "execution_count": 89,
   "metadata": {},
   "outputs": [
    {
     "data": {
      "text/plain": [
       "['Var10',\n",
       " 'Var26',\n",
       " 'Var28',\n",
       " 'pred_s',\n",
       " 'c08',\n",
       " 'c11',\n",
       " 'c12',\n",
       " 'c15',\n",
       " 'c18',\n",
       " 'c19',\n",
       " 'c27',\n",
       " 'Var12',\n",
       " 'c04',\n",
       " 'c05',\n",
       " 'c16',\n",
       " 'c26',\n",
       " 'c34',\n",
       " 'c38',\n",
       " 'c39',\n",
       " 'c40',\n",
       " 'id']"
      ]
     },
     "execution_count": 89,
     "metadata": {},
     "output_type": "execute_result"
    }
   ],
   "source": [
    "indicator_cols"
   ]
  },
  {
   "cell_type": "markdown",
   "metadata": {},
   "source": [
    "<p>** A little confused with the following instruction. **<br> So you could create one missing indicator variable and use it for all of them.  Then for example if you create a logistic model and the target follows a different  pattern for examples with imputed mean than for cases that really are at the mean  (which is almost certainly will) then the missing indicator can pick that up."
   ]
  },
  {
   "cell_type": "code",
   "execution_count": 121,
   "metadata": {},
   "outputs": [
    {
     "name": "stdout",
     "output_type": "stream",
     "text": [
      "['uniqueID', 'Var01', 'Var03', 'Var07', 'Var10', 'Var11', 'Var13', 'Var14', 'Var19', 'Var20', 'Var21', 'Var23', 'Var25', 'Var26', 'Var27', 'Var28', 'Var29', 'Var30', 'Var31', 'Var32', 'Var33', 'Var34', 'Var35', 'Var42', 'pred_s', 'Var47', 'Var48', 'Var49', 'Var50', 'Var51', 'Var52', 'Var53', 'Var55', 'c01', 'c02', 'c03', 'c06', 'c07', 'c08', 'c09', 'c10', 'c11', 'c12', 'c13', 'c14', 'c15', 'c17', 'c18', 'c19', 'c20', 'c21', 'c22', 'c23', 'c24', 'c25', 'c27', 'c28', 'c29', 'c30', 'c31', 'c32', 'c33', 'c36', 'c37', 'Var54', 'Var56', 'Var02', 'Var04', 'Var05', 'Var06', 'Var08', 'Var09', 'Var12', 'Var15', 'Var16', 'Var18', 'Var22', 'Var24', 'c04', 'c05', 'c16', 'c26', 'c34', 'c35', 'c38', 'c39', 'c40', 'id', 'train']\n"
     ]
    }
   ],
   "source": [
    "print(list(df_all))"
   ]
  },
  {
   "cell_type": "code",
   "execution_count": 122,
   "metadata": {},
   "outputs": [],
   "source": [
    "target = ['Var47']\n",
    "\n",
    "labels = ['uniqueID','id', 'train']\n",
    "\n",
    "features = ['Var01', 'Var03', 'Var07', 'Var10', 'Var11', 'Var13',\n",
    "             'Var14', 'Var19', 'Var20', 'Var21', 'Var23', 'Var25', 'Var26',\n",
    "             'Var27', 'Var28', 'Var29', 'Var30', 'Var31', 'Var32', 'Var33', \n",
    "             'Var34', 'Var35', 'Var42', 'Var48', 'Var49', \n",
    "             'Var50', 'Var51', 'Var52', 'Var53', 'Var55', \n",
    "             'c01', 'c02', 'c03', 'c06', 'c07', 'c08', 'c09', 'c10', 'c11', 'c12', \n",
    "             'c13', 'c14', 'c15', 'c17', 'c18', 'c19', 'c20', 'c21', 'c22', 'c23', \n",
    "             'c24', 'c25', 'c27', 'c28', 'c29', 'c30', 'c31', 'c32', 'c33', 'c36', 'c37', \n",
    "             'Var54', 'Var56', 'Var02', 'Var04', 'Var05', 'Var06', 'Var08', 'Var09', \n",
    "             'Var12', 'Var15', 'Var16', 'Var18', 'Var22', 'Var24', \n",
    "             'c04', 'c05', 'c16', 'c26', 'c34', 'c35', 'c38', 'c39', 'c40']\n",
    "\n",
    "\n",
    "na_indicator_cols = ['Var10', 'Var26', 'Var28', 'c08','c11', 'c12', 'c15',\n",
    "                          'c18', 'c19', 'c27', 'Var12', 'c04', 'c05', 'c16', 'c26', \n",
    "                          'c34', 'c38', 'c39', 'c40',]"
   ]
  },
  {
   "cell_type": "code",
   "execution_count": 123,
   "metadata": {},
   "outputs": [],
   "source": [
    "df_na_indicators = df_all[na_indicator_cols].isnull().astype(int8).add_suffix('_NA')"
   ]
  },
  {
   "cell_type": "code",
   "execution_count": 124,
   "metadata": {},
   "outputs": [],
   "source": [
    "## Remove duplicated Missing Indicators\n",
    "\n",
    "# df_na_indicators = df_all[features].isnull().astype(int).add_suffix('_NA')\n",
    "\n",
    "# def duplicate_columns(df):\n",
    "#     \"\"\"Find duplicate columns in a DataFrame based on their values.\n",
    "    \n",
    "#     [Source] https://github.com/pandas-dev/pandas/issues/11250 \n",
    "    \n",
    "#     \"\"\"   \n",
    "#     groups = df.columns.to_series().groupby(df.dtypes).groups\n",
    "#     dups = []\n",
    "\n",
    "#     for t, v in groups.items():\n",
    "\n",
    "#         cs = df[v].columns\n",
    "#         vs = df[v]\n",
    "#         lcs = len(cs)\n",
    "\n",
    "#         for i in range(lcs):\n",
    "#             iv = vs.iloc[:,i].tolist()\n",
    "#             for j in range(i+1, lcs):\n",
    "#                 jv = vs.iloc[:,j].tolist()\n",
    "#                 if iv == jv:\n",
    "#                     dups.append(cs[i])\n",
    "#                     break\n",
    "\n",
    "#     return dups\n",
    "\n",
    "\n",
    "# dup_col_list = duplicate_columns(df_na_indicators)\n",
    "# df_na_indicators = df_na_indicators.drop(duplicate_columns_list, axis=1)\n",
    "# print(df_na_indicators.columns)"
   ]
  },
  {
   "cell_type": "code",
   "execution_count": 125,
   "metadata": {
    "colab": {},
    "colab_type": "code",
    "id": "SxfBMyrXdH8H"
   },
   "outputs": [],
   "source": [
    "## Impute missing values \n",
    "## [Source] https://stackoverflow.com/questions/25239958/impute-categorical-missing-values-in-scikit-learn\n",
    "\n",
    "from sklearn.base import TransformerMixin\n",
    "\n",
    "class DataFrameImputer(TransformerMixin):\n",
    "\n",
    "    def __init__(self):\n",
    "        \"\"\"Impute missing values.\n",
    "\n",
    "        Columns of dtype object are imputed with the most frequent value \n",
    "        in column.\n",
    "\n",
    "        Columns of other types are imputed with mean of column.\n",
    "\n",
    "        \"\"\"\n",
    "    def fit(self, X, y=None):\n",
    "\n",
    "        self.fill = pd.Series([X[c].value_counts().index[0]\n",
    "            if X[c].dtype == np.dtype('O') else X[c].mean() for c in X],index=X.columns)\n",
    "\n",
    "        return self\n",
    "\n",
    "    def transform(self, X, y=None):\n",
    "        return X.fillna(self.fill)"
   ]
  },
  {
   "cell_type": "code",
   "execution_count": 137,
   "metadata": {},
   "outputs": [],
   "source": [
    "df_all_filled = DataFrameImputer().fit_transform(df_all[features])\n",
    "# print(df_all_filled.head().transpose())\n",
    "\n",
    "df_all_a = pd.concat([df_all_filled, df_na_indicators, df_all[['train','Var47','pred_s', 'uniqueID','id']]], axis=1) \n",
    "\n",
    "df_all_b = pd.get_dummies(df_all_a)"
   ]
  },
  {
   "cell_type": "code",
   "execution_count": 133,
   "metadata": {},
   "outputs": [
    {
     "name": "stdout",
     "output_type": "stream",
     "text": [
      "Var07:\n",
      "[0 1 2 3 4 5]\n",
      "Var10:\n",
      "[-1.          1.          2.          3.          4.          5.\n",
      "  6.          7.          8.          8.59283036  9.         10.\n",
      " 11.         12.         13.         14.         15.         16.\n",
      " 17.        ]\n",
      "Var26:\n",
      "[ 1.          2.          3.          4.          5.          6.\n",
      "  7.          8.          9.          9.64562565 10.         11.\n",
      " 12.         13.         14.         15.         16.         17.\n",
      " 18.         19.         20.        ]\n",
      "Var27:\n",
      "[-1.          1.          2.          3.          4.          5.\n",
      "  6.          7.          8.          8.51465361  9.         10.\n",
      " 11.         12.         13.         14.         15.         16.\n",
      " 17.        ]\n",
      "Var28:\n",
      "[ 1.          2.          3.          4.          5.          6.\n",
      "  7.          8.          8.04023677  9.         10.         11.\n",
      " 12.         13.         14.         15.        ]\n",
      "Var29:\n",
      "[-1.          1.          2.          3.          4.          5.\n",
      "  6.          7.          8.          8.60179418  9.         10.\n",
      " 11.         12.         13.         14.         15.         16.\n",
      " 17.        ]\n",
      "Var30:\n",
      "[0 1 2 3]\n",
      "Var31:\n",
      "[0 1 2 3]\n",
      "Var32:\n",
      "[0 1 2 3]\n",
      "Var33:\n",
      "[0 1 2 3]\n",
      "Var34:\n",
      "[0 1 2 3]\n",
      "Var35:\n",
      "[0 1 2 3 4 5]\n",
      "Var42:\n",
      "[0 1 2 3]\n",
      "Var50:\n",
      "[1 2 3 4 5]\n",
      "c08:\n",
      "[0.         0.03609512 1.         2.         3.        ]\n",
      "c09:\n",
      "[0.         0.07994872 1.         2.         3.        ]\n",
      "c10:\n",
      "[0.         0.01669365 1.        ]\n",
      "c11:\n",
      "[0.        0.0154116 1.        2.       ]\n",
      "c12:\n",
      "[0.         0.08277425 1.         2.        ]\n",
      "c15:\n",
      "[0.         0.01414859 1.         2.        ]\n",
      "c18:\n",
      "[0.         0.80408364 1.         2.         3.        ]\n",
      "c19:\n",
      "[1.         2.         3.         3.63857755 4.         5.\n",
      " 6.         7.         8.        ]\n",
      "c27:\n",
      "[0.         1.         2.         2.03368532 3.         4.\n",
      " 5.         6.         7.         8.        ]\n",
      "Var54:\n",
      "[0 1 2 3 4 5]\n",
      "Var02: 37 unique values\n",
      "Var04:\n",
      "[ 0  1  3  4  7  9 11 13 15 17 19 21 23 26 28 30 32 33 35 36 37 38 39]\n",
      "Var05: 37 unique values\n",
      "Var06:\n",
      "[ 8 17 20 22 23 24 30 35 36 37 38 39]\n",
      "Var08:\n",
      "[ 0  6 15 20 24 26 28 29 31 32 33 34 35 36 37 38 39]\n",
      "Var09:\n",
      "[ 6 16 21 24 26 28 29 31 32 33 34 35 36 37 38 39]\n",
      "Var12: 41 unique values\n",
      "Var15:\n",
      "[ 0  1  2  3  5  6  7  8 10 14 17 18 20 22 23 24 25 27 29 30 33 35 36 37\n",
      " 38 39]\n",
      "Var16:\n",
      "[ 5 12 16 18 20 21 22 23 30 36 37 38 39]\n",
      "Var18: 38 unique values\n",
      "Var22:\n",
      "[ 0  1  3  4  5  6  7  8 24]\n",
      "Var24:\n",
      "[ 0  1 20]\n",
      "c04:\n",
      "[ 0.          2.          5.          7.         10.         14.\n",
      " 17.         19.58688849 22.         26.         30.         33.\n",
      " 37.        ]\n",
      "c05:\n",
      "[ 3.         10.         14.         16.         18.         19.\n",
      " 19.27188323 20.         21.         22.         23.         24.\n",
      " 25.         26.         27.         28.         29.         30.\n",
      " 31.         32.         33.         34.         35.         36.\n",
      " 37.         38.         39.        ]\n",
      "c16:\n",
      "[ 0.         1.         2.         3.         5.         8.\n",
      " 11.        15.        18.        19.5601197 21.        24.\n",
      " 27.        30.        32.        34.        36.        37.\n",
      " 39.       ]\n",
      "c26:\n",
      "[ 0.          1.          2.          3.          4.          5.\n",
      "  6.          7.          8.          9.         19.34183091 21.\n",
      " 35.         37.         38.         39.        ]\n",
      "c34:\n",
      "[ 0.         19.94766907 20.         39.        ]\n",
      "c35:\n",
      "[ 0.        19.        19.1361047 39.       ]\n",
      "c38:\n",
      "[ 5.         14.         19.34213938 21.         25.         28.\n",
      " 30.         32.         33.         34.         35.         36.\n",
      " 37.         38.         39.        ]\n",
      "c39:\n",
      "[17.         19.86877783 35.         38.         39.        ]\n",
      "c40:\n",
      "[13.         19.46715774 31.         36.         37.         38.\n",
      " 39.        ]\n",
      "Var10_NA:\n",
      "[0 1]\n",
      "Var26_NA:\n",
      "[0 1]\n",
      "Var28_NA:\n",
      "[0 1]\n",
      "c08_NA:\n",
      "[0 1]\n",
      "c11_NA:\n",
      "[0 1]\n",
      "c12_NA:\n",
      "[0 1]\n",
      "c15_NA:\n",
      "[0 1]\n",
      "c18_NA:\n",
      "[0 1]\n",
      "c19_NA:\n",
      "[0 1]\n",
      "c27_NA:\n",
      "[0 1]\n",
      "Var12_NA:\n",
      "[0 1]\n",
      "c04_NA:\n",
      "[0 1]\n",
      "c05_NA:\n",
      "[0 1]\n",
      "c16_NA:\n",
      "[0 1]\n",
      "c26_NA:\n",
      "[0 1]\n",
      "c34_NA:\n",
      "[0 1]\n",
      "c38_NA:\n",
      "[0 1]\n",
      "c39_NA:\n",
      "[0 1]\n",
      "c40_NA:\n",
      "[0 1]\n",
      "Var47:\n",
      "[ 0.  1. nan]\n",
      "Var01_A:\n",
      "[0 1]\n",
      "Var01_B:\n",
      "[0 1]\n",
      "Var01_C:\n",
      "[0 1]\n",
      "Var03_A:\n",
      "[0 1]\n",
      "Var03_B:\n",
      "[0 1]\n",
      "Var03_C:\n",
      "[0 1]\n",
      "Var03_D:\n",
      "[0 1]\n",
      "Var03_E:\n",
      "[0 1]\n",
      "Var03_F:\n",
      "[0 1]\n",
      "Var03_G:\n",
      "[0 1]\n",
      "Var03_H:\n",
      "[0 1]\n",
      "Var03_I:\n",
      "[0 1]\n",
      "Var03_J:\n",
      "[0 1]\n",
      "Var03_L:\n",
      "[0 1]\n",
      "Var03_N:\n",
      "[0 1]\n",
      "Var03_P:\n",
      "[0 1]\n",
      "Var03_Q:\n",
      "[0 1]\n",
      "Var03_Z:\n",
      "[0 1]\n",
      "Var11_A:\n",
      "[0 1]\n",
      "Var11_B:\n",
      "[0 1]\n",
      "Var11_C:\n",
      "[0 1]\n",
      "Var11_D:\n",
      "[0 1]\n",
      "Var11_E:\n",
      "[0 1]\n",
      "Var11_F:\n",
      "[0 1]\n",
      "Var11_G:\n",
      "[0 1]\n",
      "Var11_Z:\n",
      "[0 1]\n",
      "Var13_A:\n",
      "[0 1]\n",
      "Var13_B:\n",
      "[0 1]\n",
      "Var13_C:\n",
      "[0 1]\n",
      "Var13_D:\n",
      "[0 1]\n",
      "Var13_E:\n",
      "[0 1]\n",
      "Var13_F:\n",
      "[0 1]\n",
      "Var13_G:\n",
      "[0 1]\n",
      "Var13_H:\n",
      "[0 1]\n",
      "Var13_I:\n",
      "[0 1]\n",
      "Var13_J:\n",
      "[0 1]\n",
      "Var13_K:\n",
      "[0 1]\n",
      "Var13_L:\n",
      "[0 1]\n",
      "Var13_M:\n",
      "[0 1]\n",
      "Var13_N:\n",
      "[0 1]\n",
      "Var13_O:\n",
      "[0 1]\n",
      "Var13_P:\n",
      "[0 1]\n",
      "Var13_Q:\n",
      "[0 1]\n",
      "Var13_R:\n",
      "[0 1]\n",
      "Var13_S:\n",
      "[0 1]\n",
      "Var13_Z:\n",
      "[0 1]\n",
      "Var14_A:\n",
      "[0 1]\n",
      "Var14_B:\n",
      "[0 1]\n",
      "Var14_C:\n",
      "[0 1]\n",
      "Var14_D:\n",
      "[0 1]\n",
      "Var14_E:\n",
      "[0 1]\n",
      "Var14_F:\n",
      "[0 1]\n",
      "Var14_Z:\n",
      "[0 1]\n",
      "Var19_A:\n",
      "[0 1]\n",
      "Var19_B:\n",
      "[0 1]\n",
      "Var19_C:\n",
      "[0 1]\n",
      "Var19_D:\n",
      "[0 1]\n",
      "Var19_E:\n",
      "[0 1]\n",
      "Var19_F:\n",
      "[0 1]\n",
      "Var19_G:\n",
      "[0 1]\n",
      "Var19_Z:\n",
      "[0 1]\n",
      "Var20_A:\n",
      "[0 1]\n",
      "Var20_B:\n",
      "[0 1]\n",
      "Var21_A:\n",
      "[0 1]\n",
      "Var21_B:\n",
      "[0 1]\n",
      "Var21_C:\n",
      "[0 1]\n",
      "Var21_D:\n",
      "[0 1]\n",
      "Var21_Z:\n",
      "[0 1]\n",
      "Var23_A:\n",
      "[0 1]\n",
      "Var23_B:\n",
      "[0 1]\n",
      "Var23_C:\n",
      "[0 1]\n",
      "Var23_Z:\n",
      "[0 1]\n",
      "Var25_A:\n",
      "[0 1]\n",
      "Var25_B:\n",
      "[0 1]\n",
      "Var25_C:\n",
      "[0 1]\n",
      "Var25_D:\n",
      "[0 1]\n",
      "Var25_E:\n",
      "[0 1]\n",
      "Var25_F:\n",
      "[0 1]\n",
      "Var25_G:\n",
      "[0 1]\n",
      "Var25_H:\n",
      "[0 1]\n",
      "Var25_I:\n",
      "[0 1]\n",
      "Var25_J:\n",
      "[0 1]\n",
      "Var25_K:\n",
      "[0 1]\n",
      "Var25_L:\n",
      "[0 1]\n",
      "Var25_M:\n",
      "[0 1]\n",
      "Var25_Z:\n",
      "[0 1]\n",
      "Var48_A:\n",
      "[0 1]\n",
      "Var48_B:\n",
      "[0 1]\n",
      "Var48_C:\n",
      "[0 1]\n",
      "Var48_D:\n",
      "[0 1]\n",
      "Var48_E:\n",
      "[0 1]\n",
      "Var48_F:\n",
      "[0 1]\n",
      "Var48_G:\n",
      "[0 1]\n",
      "Var48_H:\n",
      "[0 1]\n",
      "Var48_I:\n",
      "[0 1]\n",
      "Var48_J:\n",
      "[0 1]\n",
      "Var48_K:\n",
      "[0 1]\n",
      "Var48_L:\n",
      "[0 1]\n",
      "Var48_M:\n",
      "[0 1]\n",
      "Var48_N:\n",
      "[0 1]\n",
      "Var48_O:\n",
      "[0 1]\n",
      "Var48_P:\n",
      "[0 1]\n",
      "Var48_Q:\n",
      "[0 1]\n",
      "Var49_A:\n",
      "[0 1]\n",
      "Var49_B:\n",
      "[0 1]\n",
      "Var51_A:\n",
      "[0 1]\n",
      "Var51_B:\n",
      "[0 1]\n",
      "Var51_C:\n",
      "[0 1]\n",
      "Var51_D:\n",
      "[0 1]\n",
      "Var51_E:\n",
      "[0 1]\n",
      "Var51_F:\n",
      "[0 1]\n",
      "Var51_G:\n",
      "[0 1]\n",
      "Var51_H:\n",
      "[0 1]\n",
      "Var51_I:\n",
      "[0 1]\n",
      "Var51_J:\n",
      "[0 1]\n",
      "Var51_L:\n",
      "[0 1]\n",
      "Var51_M:\n",
      "[0 1]\n",
      "Var51_N:\n",
      "[0 1]\n",
      "Var51_P:\n",
      "[0 1]\n",
      "Var51_Q:\n",
      "[0 1]\n",
      "Var51_Z:\n",
      "[0 1]\n",
      "Var52_A:\n",
      "[0 1]\n",
      "Var52_B:\n",
      "[0 1]\n",
      "Var53_A:\n",
      "[0 1]\n",
      "Var53_B:\n",
      "[0 1]\n",
      "Var53_C:\n",
      "[0 1]\n",
      "Var53_D:\n",
      "[0 1]\n",
      "Var53_E:\n",
      "[0 1]\n",
      "Var53_F:\n",
      "[0 1]\n",
      "Var53_X:\n",
      "[0 1]\n",
      "Var55_A:\n",
      "[0 1]\n",
      "Var55_B:\n",
      "[0 1]\n",
      "Var55_C:\n",
      "[0 1]\n",
      "Var55_D:\n",
      "[0 1]\n",
      "Var55_E:\n",
      "[0 1]\n",
      "Var55_F:\n",
      "[0 1]\n",
      "Var55_G:\n",
      "[0 1]\n",
      "Var55_X:\n",
      "[0 1]\n",
      "c01_A:\n",
      "[0 1]\n",
      "c01_B:\n",
      "[0 1]\n",
      "c01_C:\n",
      "[0 1]\n",
      "c01_D:\n",
      "[0 1]\n",
      "c01_F:\n",
      "[0 1]\n",
      "c01_G:\n",
      "[0 1]\n",
      "c01_H:\n",
      "[0 1]\n",
      "c02_A:\n",
      "[0 1]\n",
      "c02_B:\n",
      "[0 1]\n",
      "c02_C:\n",
      "[0 1]\n",
      "c02_D:\n",
      "[0 1]\n",
      "c02_E:\n",
      "[0 1]\n",
      "c02_F:\n",
      "[0 1]\n",
      "c02_G:\n",
      "[0 1]\n",
      "c02_H:\n",
      "[0 1]\n",
      "c03_A:\n",
      "[0 1]\n",
      "c03_B:\n",
      "[0 1]\n",
      "c03_C:\n",
      "[0 1]\n",
      "c03_D:\n",
      "[0 1]\n",
      "c03_E:\n",
      "[0 1]\n",
      "c03_F:\n",
      "[0 1]\n",
      "c03_G:\n",
      "[0 1]\n",
      "c03_H:\n",
      "[0 1]\n",
      "c03_I:\n",
      "[0 1]\n",
      "c03_J:\n",
      "[0 1]\n",
      "c03_K:\n",
      "[0 1]\n",
      "c03_L:\n",
      "[0 1]\n",
      "c06_N:\n",
      "[0 1]\n",
      "c06_Y:\n",
      "[0 1]\n",
      "c07_N:\n",
      "[0 1]\n",
      "c07_Y:\n",
      "[0 1]\n",
      "c13_A:\n",
      "[0 1]\n",
      "c13_B:\n",
      "[0 1]\n",
      "c13_C:\n",
      "[0 1]\n",
      "c13_D:\n",
      "[0 1]\n",
      "c13_E:\n",
      "[0 1]\n",
      "c13_F:\n",
      "[0 1]\n",
      "c13_G:\n",
      "[0 1]\n",
      "c13_H:\n",
      "[0 1]\n",
      "c13_I:\n",
      "[0 1]\n",
      "c14_N:\n",
      "[0 1]\n",
      "c14_O:\n",
      "[0 1]\n",
      "c14_Y:\n",
      "[0 1]\n",
      "c17_A:\n",
      "[0 1]\n",
      "c17_B:\n",
      "[0 1]\n",
      "c17_C:\n",
      "[0 1]\n",
      "c17_E:\n",
      "[0 1]\n",
      "c17_F:\n",
      "[0 1]\n",
      "c20_N:\n",
      "[0 1]\n",
      "c20_O:\n",
      "[0 1]\n",
      "c20_Y:\n",
      "[0 1]\n",
      "c21_N:\n",
      "[0 1]\n",
      "c21_O:\n",
      "[0 1]\n",
      "c21_Y:\n",
      "[0 1]\n",
      "c22_E:\n",
      "[0 1]\n",
      "c22_F:\n",
      "[0 1]\n",
      "c23_N:\n",
      "[0 1]\n",
      "c23_Y:\n",
      "[0 1]\n",
      "c24_N:\n",
      "[0 1]\n",
      "c24_Y:\n",
      "[0 1]\n",
      "c25_A:\n",
      "[0 1]\n",
      "c25_B:\n",
      "[0 1]\n",
      "c25_C:\n",
      "[0 1]\n",
      "c25_D:\n",
      "[0 1]\n",
      "c25_E:\n",
      "[0 1]\n",
      "c25_F:\n",
      "[0 1]\n",
      "c28_A:\n",
      "[0 1]\n",
      "c28_B:\n",
      "[0 1]\n",
      "c28_C:\n",
      "[0 1]\n",
      "c29_A:\n",
      "[0 1]\n",
      "c29_B:\n",
      "[0 1]\n",
      "c29_C:\n",
      "[0 1]\n",
      "c30_A:\n",
      "[0 1]\n",
      "c30_B:\n",
      "[0 1]\n",
      "c30_C:\n",
      "[0 1]\n",
      "c31_A:\n",
      "[0 1]\n",
      "c31_B:\n",
      "[0 1]\n",
      "c31_C:\n",
      "[0 1]\n",
      "c32_A:\n",
      "[0 1]\n",
      "c32_B:\n",
      "[0 1]\n",
      "c32_C:\n",
      "[0 1]\n",
      "c33_A:\n",
      "[0 1]\n",
      "c33_B:\n",
      "[0 1]\n",
      "c33_C:\n",
      "[0 1]\n",
      "c36_N:\n",
      "[0 1]\n",
      "c36_Y:\n",
      "[0 1]\n",
      "c37_N:\n",
      "[0 1]\n",
      "c37_Y:\n",
      "[0 1]\n",
      "Var56_A:\n",
      "[0 1]\n",
      "Var56_B:\n",
      "[0 1]\n",
      "train_N:\n",
      "[0 1]\n",
      "train_Y:\n",
      "[0 1]\n"
     ]
    }
   ],
   "source": [
    "check_unique_values(df_all_b)"
   ]
  },
  {
   "cell_type": "code",
   "execution_count": 89,
   "metadata": {},
   "outputs": [],
   "source": [
    "with open('../final_project_data/insurance_clf_data_new.pickle','wb') as file:\n",
    "    pickle.dump(df_all_b, file)"
   ]
  },
  {
   "cell_type": "markdown",
   "metadata": {
    "colab_type": "text",
    "id": "Za5cbbpUQJP0"
   },
   "source": [
    "# 03a_EDA_basic"
   ]
  },
  {
   "cell_type": "markdown",
   "metadata": {
    "colab_type": "text",
    "id": "pYs365bjQJP0"
   },
   "source": [
    "### check for distributions, correlation, ...\n",
    "<p>Q. how to deal with categorical data?\n",
    "<p>Todo. correlcation analysis"
   ]
  },
  {
   "cell_type": "markdown",
   "metadata": {
    "colab_type": "text",
    "id": "36VD1i8CQJP1"
   },
   "source": [
    "#### Train test split"
   ]
  },
  {
   "cell_type": "code",
   "execution_count": 102,
   "metadata": {
    "colab": {},
    "colab_type": "code",
    "id": "ACsjnO3mQJP1",
    "outputId": "2acdb071-83d8-4507-db1e-6f0f46257185"
   },
   "outputs": [
    {
     "name": "stdout",
     "output_type": "stream",
     "text": [
      "(1646270, 89)\n"
     ]
    }
   ],
   "source": [
    "## training set\n",
    "df_train = df_all.loc[df_all.train==\"Y\"]\n",
    "print(df_train.shape)"
   ]
  },
  {
   "cell_type": "code",
   "execution_count": null,
   "metadata": {
    "colab": {},
    "colab_type": "code",
    "id": "WCNYXawrQJP3",
    "outputId": "49a9c98e-c789-4bc2-9a31-06f839ec8c7b"
   },
   "outputs": [],
   "source": [
    "## test set\n",
    "df_test = df_all.loc[df_all.train==\"N\"]\n",
    "print(df_test.shape)"
   ]
  },
  {
   "cell_type": "code",
   "execution_count": null,
   "metadata": {
    "colab": {},
    "colab_type": "code",
    "id": "CYBS9CuRQJP7"
   },
   "outputs": [],
   "source": [
    "# # Split numeric and categorical features for training set\n",
    "# cat_train_feats = data_train.select_dtypes(include=['object']).columns\n",
    "# num_train_feats = data_train.select_dtypes(include=['float64','int64']).columns\n",
    "# num_train_df = data_train[num_train_feats]\n",
    "# cat_train_df = data_train[cat_train_feats]\n",
    "# print('There are %d numeric features and %d categorical features in the training dataset\\n' %(len(num_train_feats),len(cat_train_feats)))\n",
    "# print('Numeric features:\\n',num_train_feats.values)\n",
    "# print('Categorical features:\\n',cat_train_feats.values)"
   ]
  },
  {
   "cell_type": "markdown",
   "metadata": {
    "colab_type": "text",
    "id": "bDCHKsCbQJQZ"
   },
   "source": [
    "#### Unique values within each variable"
   ]
  },
  {
   "cell_type": "code",
   "execution_count": 132,
   "metadata": {
    "colab": {},
    "colab_type": "code",
    "id": "zW0IOjA7QJQa",
    "outputId": "e6b47fb2-4e88-4647-e853-83c0d6aaea40",
    "scrolled": true
   },
   "outputs": [],
   "source": [
    "# Look at some of the unique values within each variable \n",
    "def check_unique_values(df):\n",
    "    for col in list(df.columns):\n",
    "        uniques = df[col].unique() # get a list of unique values  \n",
    "        uniques.sort()\n",
    "        # if number of unique values is less than 30, print the values. Otherwise print the number of unique values\n",
    "        if len(uniques)<30:\n",
    "            print(col + ':')\n",
    "            print(uniques)\n",
    "        else:\n",
    "            print(col + ': ' + str(len(uniques)) + ' unique values')"
   ]
  },
  {
   "cell_type": "markdown",
   "metadata": {
    "colab_type": "text",
    "id": "1_B5saRRQJQG"
   },
   "source": [
    "# 03a_EDA_distribution"
   ]
  },
  {
   "cell_type": "code",
   "execution_count": 111,
   "metadata": {
    "colab": {},
    "colab_type": "code",
    "id": "p87MypcMQJQG"
   },
   "outputs": [],
   "source": [
    "def cat_barplot(var):\n",
    "    clean_var = df_train[var].fillna('Missing')\n",
    "    var_counts = clean_var.value_counts()\n",
    "    barplot = sns.barplot(x=var_counts.index, y=var_counts.values, alpha=1)\n",
    "    return var_counts, barplot"
   ]
  },
  {
   "cell_type": "code",
   "execution_count": 112,
   "metadata": {
    "colab": {},
    "colab_type": "code",
    "id": "qeBzmHNfQJQI",
    "outputId": "fa443b15-60a4-4dfa-bc90-eab54b72d258"
   },
   "outputs": [],
   "source": [
    "# plt.figure(figsize=(16,16))\n",
    "# plt.subplot(221); cat_barplot('Var03')\n",
    "# plt.subplot(222); cat_barplot('Var01')"
   ]
  },
  {
   "cell_type": "code",
   "execution_count": 113,
   "metadata": {
    "colab": {},
    "colab_type": "code",
    "id": "qeBzmHNfQJQI",
    "outputId": "fa443b15-60a4-4dfa-bc90-eab54b72d258"
   },
   "outputs": [
    {
     "data": {
      "text/plain": [
       "(19.586888    663757\n",
       " 37.000000    117448\n",
       " 22.000000    116979\n",
       " 30.000000    108399\n",
       " 14.000000    104846\n",
       " 5.000000      92679\n",
       " 17.000000     92440\n",
       " 10.000000     90592\n",
       " 26.000000     81311\n",
       " 33.000000     65597\n",
       " 2.000000      56748\n",
       " 7.000000      30819\n",
       " 0.000000      24655\n",
       " Name: c04, dtype: int64,\n",
       " <matplotlib.axes._subplots.AxesSubplot at 0x1a353724a8>)"
      ]
     },
     "execution_count": 113,
     "metadata": {},
     "output_type": "execute_result"
    },
    {
     "data": {
      "image/png": "[encoded data removed]",
      "text/plain": [
       "<Figure size 432x288 with 1 Axes>"
      ]
     },
     "metadata": {
      "needs_background": "light"
     },
     "output_type": "display_data"
    }
   ],
   "source": [
    "cat_barplot('c04')"
   ]
  },
  {
   "cell_type": "code",
   "execution_count": null,
   "metadata": {
    "colab": {},
    "colab_type": "code",
    "id": "qeBzmHNfQJQI",
    "outputId": "fa443b15-60a4-4dfa-bc90-eab54b72d258"
   },
   "outputs": [],
   "source": [
    "plt.figure(figsize=(16,16))\n",
    "cat_barplot('c05')"
   ]
  },
  {
   "cell_type": "markdown",
   "metadata": {},
   "source": [
    "# 03b_EDA_boxplot"
   ]
  },
  {
   "cell_type": "markdown",
   "metadata": {
    "colab_type": "text",
    "id": "mMW9QQhIQJQP"
   },
   "source": [
    "#### Categorical data & odrinary data, relation with classification target 0/1 (Boxplots)"
   ]
  },
  {
   "cell_type": "code",
   "execution_count": null,
   "metadata": {
    "colab": {},
    "colab_type": "code",
    "collapsed": true,
    "id": "uajHEA8HQJQP",
    "outputId": "6006ff46-a647-40e9-d874-93bc9eef14f9"
   },
   "outputs": [],
   "source": [
    "df_train.boxplot('c04','Var47', rot = 30,figsize=(5,6))"
   ]
  },
  {
   "cell_type": "markdown",
   "metadata": {},
   "source": [
    "# 03a_EDA_pred_s"
   ]
  },
  {
   "cell_type": "markdown",
   "metadata": {
    "colab_type": "text",
    "id": "4KheMpTbQJQR"
   },
   "source": [
    "#### Exsiting linear model accuracy pred_s  |  threshold = 50\n",
    "<p> the following could be replaced by confusion matrix"
   ]
  },
  {
   "cell_type": "code",
   "execution_count": 48,
   "metadata": {
    "colab": {},
    "colab_type": "code",
    "id": "IH5sZhvEQJQS",
    "outputId": "a0d337af-d85f-46a7-a7fc-aabb7850f442"
   },
   "outputs": [
    {
     "name": "stdout",
     "output_type": "stream",
     "text": [
      "0.0    836051\n",
      "1.0    810219\n",
      "Name: Var47, dtype: int64\n"
     ]
    }
   ],
   "source": [
    "Var47_counts = df_train['Var47'].value_counts()\n",
    "print(Var47_counts)"
   ]
  },
  {
   "cell_type": "code",
   "execution_count": null,
   "metadata": {
    "colab": {},
    "colab_type": "code",
    "id": "0fYpS2zgQJQV",
    "outputId": "d6e1ca53-f57e-491b-d4ea-09131f376415"
   },
   "outputs": [],
   "source": [
    "TP = len(data_train[(data_train['pred_s']>=50) & (data_train['Var47']==1)]) \n",
    "TN = len(data_train[(data_train['pred_s']<50) & (data_train['Var47']==0)]) \n",
    "accuracy = (TP+TN)/(data_train.shape[0])\n",
    "print(accuracy)"
   ]
  },
  {
   "cell_type": "markdown",
   "metadata": {
    "colab_type": "text",
    "id": "XokWyc5lQJQY"
   },
   "source": [
    "# 04a_LinearModel"
   ]
  },
  {
   "cell_type": "markdown",
   "metadata": {
    "colab_type": "text",
    "id": "uhZDzXybQJQZ"
   },
   "source": [
    "<p>Q. How to impute missing values\n",
    "<p>Q. What could we do with categorical data ABCDE? What could we do with discreate numerical data 1 2 3 4 5?\n",
    "<p>Q. In theory, we can only use training set for model building, however, the categorical data make onehot encoding complicated if we conduct it for train and test set seperately. And error \"X has 254 features per sample; expecting 273\" happened. Is there any good way to do it?"
   ]
  },
  {
   "cell_type": "code",
   "execution_count": 6,
   "metadata": {},
   "outputs": [],
   "source": [
    "## read the data\n",
    "with open('../final_project_data/insurance_clf_data_new.pickle','rb') as file:\n",
    "    df_all = pickle.load(file)"
   ]
  },
  {
   "cell_type": "code",
   "execution_count": 7,
   "metadata": {},
   "outputs": [
    {
     "name": "stdout",
     "output_type": "stream",
     "text": [
      "<class 'pandas.core.frame.DataFrame'>\n",
      "Int64Index: 1794135 entries, 0 to 1795671\n",
      "Columns: 299 entries, uniqueID to train_Y\n",
      "dtypes: float64(28), int64(41), uint8(230)\n",
      "memory usage: 1.3 GB\n"
     ]
    }
   ],
   "source": [
    "df_all.info()"
   ]
  },
  {
   "cell_type": "markdown",
   "metadata": {},
   "source": [
    "#### df_train & df_test"
   ]
  },
  {
   "cell_type": "code",
   "execution_count": 11,
   "metadata": {
    "colab": {},
    "colab_type": "code",
    "id": "kMGtzUTIQJQ9",
    "outputId": "68554218-0384-4c70-d502-966974b37f5a"
   },
   "outputs": [
    {
     "name": "stdout",
     "output_type": "stream",
     "text": [
      "(1646270, 299) (147865, 299)\n"
     ]
    }
   ],
   "source": [
    "df_train = df_all.loc[df_all.train_Y==1]\n",
    "df_test = df_all.loc[df_all.train_Y==0]\n",
    "print(df_train.shape, df_test.shape)"
   ]
  },
  {
   "cell_type": "code",
   "execution_count": 51,
   "metadata": {},
   "outputs": [
    {
     "name": "stdout",
     "output_type": "stream",
     "text": [
      "0.492154    147865\n",
      "Name: Var47, dtype: int64\n"
     ]
    }
   ],
   "source": [
    "Var47_counts = df_test['Var47'].value_counts()\n",
    "print(Var47_counts)"
   ]
  },
  {
   "cell_type": "code",
   "execution_count": 54,
   "metadata": {},
   "outputs": [
    {
     "data": {
      "text/plain": [
       "11         0.492154\n",
       "12         0.492154\n",
       "13         0.492154\n",
       "14         0.492154\n",
       "15         0.492154\n",
       "26         0.492154\n",
       "56         0.492154\n",
       "57         0.492154\n",
       "78         0.492154\n",
       "103        0.492154\n",
       "104        0.492154\n",
       "124        0.492154\n",
       "125        0.492154\n",
       "129        0.492154\n",
       "130        0.492154\n",
       "145        0.492154\n",
       "146        0.492154\n",
       "157        0.492154\n",
       "158        0.492154\n",
       "159        0.492154\n",
       "183        0.492154\n",
       "184        0.492154\n",
       "197        0.492154\n",
       "198        0.492154\n",
       "230        0.492154\n",
       "250        0.492154\n",
       "251        0.492154\n",
       "285        0.492154\n",
       "286        0.492154\n",
       "287        0.492154\n",
       "             ...   \n",
       "1795468    0.492154\n",
       "1795471    0.492154\n",
       "1795485    0.492154\n",
       "1795486    0.492154\n",
       "1795487    0.492154\n",
       "1795488    0.492154\n",
       "1795502    0.492154\n",
       "1795503    0.492154\n",
       "1795522    0.492154\n",
       "1795523    0.492154\n",
       "1795545    0.492154\n",
       "1795546    0.492154\n",
       "1795547    0.492154\n",
       "1795548    0.492154\n",
       "1795560    0.492154\n",
       "1795606    0.492154\n",
       "1795607    0.492154\n",
       "1795608    0.492154\n",
       "1795628    0.492154\n",
       "1795630    0.492154\n",
       "1795631    0.492154\n",
       "1795636    0.492154\n",
       "1795637    0.492154\n",
       "1795638    0.492154\n",
       "1795639    0.492154\n",
       "1795640    0.492154\n",
       "1795641    0.492154\n",
       "1795642    0.492154\n",
       "1795667    0.492154\n",
       "1795668    0.492154\n",
       "Name: Var47, Length: 147865, dtype: float64"
      ]
     },
     "execution_count": 54,
     "metadata": {},
     "output_type": "execute_result"
    }
   ],
   "source": [
    "df_test['Var47']"
   ]
  },
  {
   "cell_type": "markdown",
   "metadata": {
    "colab_type": "text",
    "id": "TH_3ODdtQJRH"
   },
   "source": [
    "#### Sampling (This part needs furture improvement)\n",
    "<p> Limited by our computing resources, we are now using a small sample of data to train models."
   ]
  },
  {
   "cell_type": "markdown",
   "metadata": {
    "colab_type": "text",
    "id": "cakrCWcPQJRL"
   },
   "source": [
    "<p> Considering stratified sampling?"
   ]
  },
  {
   "cell_type": "code",
   "execution_count": 22,
   "metadata": {
    "colab": {},
    "colab_type": "code",
    "id": "Cw2niVHJQJRH",
    "outputId": "f7a343ae-1c14-4b4e-cdb1-793df40cd27f"
   },
   "outputs": [
    {
     "name": "stdout",
     "output_type": "stream",
     "text": [
      "(1481643, 299) (164627, 299)\n"
     ]
    }
   ],
   "source": [
    "from sklearn.model_selection import train_test_split\n",
    "df_train_b, df_train_s = train_test_split(df_train, test_size=0.1, random_state=42)\n",
    "print(df_train_b.shape, df_train_s.shape)"
   ]
  },
  {
   "cell_type": "code",
   "execution_count": null,
   "metadata": {
    "colab": {},
    "colab_type": "code",
    "id": "z84PACZYQJRM"
   },
   "outputs": [],
   "source": [
    "# # Divide by 1.5 to limit the number of income categories\n",
    "# housing[\"income_cat\"] = np.ceil(housing[\"median_income\"] / 1.5)\n",
    "# # Label those above 5 as 5\n",
    "# housing[\"income_cat\"].where(housing[\"income_cat\"] < 5, 5.0, inplace=True)"
   ]
  },
  {
   "cell_type": "code",
   "execution_count": null,
   "metadata": {
    "colab": {},
    "colab_type": "code",
    "id": "YRxLLctlQJRN"
   },
   "outputs": [],
   "source": [
    "# from sklearn.model_selection import StratifiedShuffleSplit\n",
    "\n",
    "# split = StratifiedShuffleSplit(n_splits=1, test_size=0.2, random_state=42)\n",
    "# for train_index, test_index in split.split(housing, housing[\"income_cat\"]):\n",
    "#     strat_train_set = housing.loc[train_index]\n",
    "#     strat_test_set = housing.loc[test_index]"
   ]
  },
  {
   "cell_type": "code",
   "execution_count": null,
   "metadata": {
    "colab": {},
    "colab_type": "code",
    "id": "bsM3uciyQJRO"
   },
   "outputs": [],
   "source": [
    "# def income_cat_proportions(data):\n",
    "#     return data[\"income_cat\"].value_counts() / len(data)\n",
    "\n",
    "# train_set, test_set = train_test_split(housing, test_size=0.2, random_state=42)\n",
    "\n",
    "# compare_props = pd.DataFrame({\n",
    "#     \"Overall\": income_cat_proportions(housing),\n",
    "#     \"Stratified\": income_cat_proportions(strat_test_set),\n",
    "#     \"Random\": income_cat_proportions(test_set),\n",
    "# }).sort_index()\n",
    "# compare_props[\"Rand. %error\"] = 100 * compare_props[\"Random\"] / compare_props[\"Overall\"] - 100\n",
    "# compare_props[\"Strat. %error\"] = 100 * compare_props[\"Stratified\"] / compare_props[\"Overall\"] - 100"
   ]
  },
  {
   "cell_type": "code",
   "execution_count": null,
   "metadata": {
    "colab": {},
    "colab_type": "code",
    "id": "Qseiay1gQJRQ"
   },
   "outputs": [],
   "source": [
    "# compare_props"
   ]
  },
  {
   "cell_type": "code",
   "execution_count": null,
   "metadata": {
    "colab": {},
    "colab_type": "code",
    "id": "PFs7nnjjQJRU"
   },
   "outputs": [],
   "source": [
    "# for set_ in (strat_train_set, strat_test_set):\n",
    "#     set_.drop(\"income_cat\", axis=1, inplace=True)"
   ]
  },
  {
   "cell_type": "markdown",
   "metadata": {
    "colab_type": "text",
    "id": "CQlM9pS_QJQq"
   },
   "source": [
    "#### Select input data for training models"
   ]
  },
  {
   "cell_type": "code",
   "execution_count": 23,
   "metadata": {
    "colab": {},
    "colab_type": "code",
    "id": "EMLlok2sQJQq",
    "outputId": "59a56cc6-78fe-4006-e55b-1e3a7165cfea"
   },
   "outputs": [
    {
     "data": {
      "text/html": [
       "<div>\n",
       "<style scoped>\n",
       "    .dataframe tbody tr th:only-of-type {\n",
       "        vertical-align: middle;\n",
       "    }\n",
       "\n",
       "    .dataframe tbody tr th {\n",
       "        vertical-align: top;\n",
       "    }\n",
       "\n",
       "    .dataframe thead th {\n",
       "        text-align: right;\n",
       "    }\n",
       "</style>\n",
       "<table border=\"1\" class=\"dataframe\">\n",
       "  <thead>\n",
       "    <tr style=\"text-align: right;\">\n",
       "      <th></th>\n",
       "      <th>0</th>\n",
       "      <th>1</th>\n",
       "      <th>2</th>\n",
       "      <th>3</th>\n",
       "      <th>4</th>\n",
       "      <th>5</th>\n",
       "      <th>6</th>\n",
       "      <th>7</th>\n",
       "      <th>8</th>\n",
       "      <th>9</th>\n",
       "      <th>10</th>\n",
       "      <th>11</th>\n",
       "      <th>12</th>\n",
       "    </tr>\n",
       "  </thead>\n",
       "  <tbody>\n",
       "    <tr>\n",
       "      <th>0</th>\n",
       "      <td>uniqueID</td>\n",
       "      <td>Var07</td>\n",
       "      <td>Var10</td>\n",
       "      <td>Var26</td>\n",
       "      <td>Var27</td>\n",
       "      <td>Var28</td>\n",
       "      <td>Var29</td>\n",
       "      <td>Var30</td>\n",
       "      <td>Var31</td>\n",
       "      <td>Var32</td>\n",
       "      <td>Var33</td>\n",
       "      <td>Var34</td>\n",
       "      <td>Var35</td>\n",
       "    </tr>\n",
       "    <tr>\n",
       "      <th>1</th>\n",
       "      <td>Var42</td>\n",
       "      <td>pred_s</td>\n",
       "      <td>Var47</td>\n",
       "      <td>Var50</td>\n",
       "      <td>c08</td>\n",
       "      <td>c09</td>\n",
       "      <td>c10</td>\n",
       "      <td>c11</td>\n",
       "      <td>c12</td>\n",
       "      <td>c15</td>\n",
       "      <td>c18</td>\n",
       "      <td>c19</td>\n",
       "      <td>c27</td>\n",
       "    </tr>\n",
       "    <tr>\n",
       "      <th>2</th>\n",
       "      <td>Var54</td>\n",
       "      <td>Var02</td>\n",
       "      <td>Var04</td>\n",
       "      <td>Var05</td>\n",
       "      <td>Var06</td>\n",
       "      <td>Var08</td>\n",
       "      <td>Var09</td>\n",
       "      <td>Var12</td>\n",
       "      <td>Var15</td>\n",
       "      <td>Var16</td>\n",
       "      <td>Var18</td>\n",
       "      <td>Var22</td>\n",
       "      <td>Var24</td>\n",
       "    </tr>\n",
       "    <tr>\n",
       "      <th>3</th>\n",
       "      <td>c04</td>\n",
       "      <td>c05</td>\n",
       "      <td>c16</td>\n",
       "      <td>c26</td>\n",
       "      <td>c34</td>\n",
       "      <td>c35</td>\n",
       "      <td>c38</td>\n",
       "      <td>c39</td>\n",
       "      <td>c40</td>\n",
       "      <td>id</td>\n",
       "      <td>Var10_NA</td>\n",
       "      <td>Var26_NA</td>\n",
       "      <td>Var28_NA</td>\n",
       "    </tr>\n",
       "    <tr>\n",
       "      <th>4</th>\n",
       "      <td>Var47_NA</td>\n",
       "      <td>c08_NA</td>\n",
       "      <td>c11_NA</td>\n",
       "      <td>c12_NA</td>\n",
       "      <td>c15_NA</td>\n",
       "      <td>c18_NA</td>\n",
       "      <td>c19_NA</td>\n",
       "      <td>c27_NA</td>\n",
       "      <td>Var12_NA</td>\n",
       "      <td>c04_NA</td>\n",
       "      <td>c05_NA</td>\n",
       "      <td>c16_NA</td>\n",
       "      <td>c26_NA</td>\n",
       "    </tr>\n",
       "    <tr>\n",
       "      <th>5</th>\n",
       "      <td>c34_NA</td>\n",
       "      <td>c38_NA</td>\n",
       "      <td>c39_NA</td>\n",
       "      <td>c40_NA</td>\n",
       "      <td>Var01_A</td>\n",
       "      <td>Var01_B</td>\n",
       "      <td>Var01_C</td>\n",
       "      <td>Var03_A</td>\n",
       "      <td>Var03_B</td>\n",
       "      <td>Var03_C</td>\n",
       "      <td>Var03_D</td>\n",
       "      <td>Var03_E</td>\n",
       "      <td>Var03_F</td>\n",
       "    </tr>\n",
       "    <tr>\n",
       "      <th>6</th>\n",
       "      <td>Var03_G</td>\n",
       "      <td>Var03_H</td>\n",
       "      <td>Var03_I</td>\n",
       "      <td>Var03_J</td>\n",
       "      <td>Var03_L</td>\n",
       "      <td>Var03_N</td>\n",
       "      <td>Var03_P</td>\n",
       "      <td>Var03_Q</td>\n",
       "      <td>Var03_Z</td>\n",
       "      <td>Var11_A</td>\n",
       "      <td>Var11_B</td>\n",
       "      <td>Var11_C</td>\n",
       "      <td>Var11_D</td>\n",
       "    </tr>\n",
       "    <tr>\n",
       "      <th>7</th>\n",
       "      <td>Var11_E</td>\n",
       "      <td>Var11_F</td>\n",
       "      <td>Var11_G</td>\n",
       "      <td>Var11_Z</td>\n",
       "      <td>Var13_A</td>\n",
       "      <td>Var13_B</td>\n",
       "      <td>Var13_C</td>\n",
       "      <td>Var13_D</td>\n",
       "      <td>Var13_E</td>\n",
       "      <td>Var13_F</td>\n",
       "      <td>Var13_G</td>\n",
       "      <td>Var13_H</td>\n",
       "      <td>Var13_I</td>\n",
       "    </tr>\n",
       "    <tr>\n",
       "      <th>8</th>\n",
       "      <td>Var13_J</td>\n",
       "      <td>Var13_K</td>\n",
       "      <td>Var13_L</td>\n",
       "      <td>Var13_M</td>\n",
       "      <td>Var13_N</td>\n",
       "      <td>Var13_O</td>\n",
       "      <td>Var13_P</td>\n",
       "      <td>Var13_Q</td>\n",
       "      <td>Var13_R</td>\n",
       "      <td>Var13_S</td>\n",
       "      <td>Var13_Z</td>\n",
       "      <td>Var14_A</td>\n",
       "      <td>Var14_B</td>\n",
       "    </tr>\n",
       "    <tr>\n",
       "      <th>9</th>\n",
       "      <td>Var14_C</td>\n",
       "      <td>Var14_D</td>\n",
       "      <td>Var14_E</td>\n",
       "      <td>Var14_F</td>\n",
       "      <td>Var14_Z</td>\n",
       "      <td>Var19_A</td>\n",
       "      <td>Var19_B</td>\n",
       "      <td>Var19_C</td>\n",
       "      <td>Var19_D</td>\n",
       "      <td>Var19_E</td>\n",
       "      <td>Var19_F</td>\n",
       "      <td>Var19_G</td>\n",
       "      <td>Var19_Z</td>\n",
       "    </tr>\n",
       "    <tr>\n",
       "      <th>10</th>\n",
       "      <td>Var20_A</td>\n",
       "      <td>Var20_B</td>\n",
       "      <td>Var21_A</td>\n",
       "      <td>Var21_B</td>\n",
       "      <td>Var21_C</td>\n",
       "      <td>Var21_D</td>\n",
       "      <td>Var21_Z</td>\n",
       "      <td>Var23_A</td>\n",
       "      <td>Var23_B</td>\n",
       "      <td>Var23_C</td>\n",
       "      <td>Var23_Z</td>\n",
       "      <td>Var25_A</td>\n",
       "      <td>Var25_B</td>\n",
       "    </tr>\n",
       "    <tr>\n",
       "      <th>11</th>\n",
       "      <td>Var25_C</td>\n",
       "      <td>Var25_D</td>\n",
       "      <td>Var25_E</td>\n",
       "      <td>Var25_F</td>\n",
       "      <td>Var25_G</td>\n",
       "      <td>Var25_H</td>\n",
       "      <td>Var25_I</td>\n",
       "      <td>Var25_J</td>\n",
       "      <td>Var25_K</td>\n",
       "      <td>Var25_L</td>\n",
       "      <td>Var25_M</td>\n",
       "      <td>Var25_Z</td>\n",
       "      <td>Var48_A</td>\n",
       "    </tr>\n",
       "    <tr>\n",
       "      <th>12</th>\n",
       "      <td>Var48_B</td>\n",
       "      <td>Var48_C</td>\n",
       "      <td>Var48_D</td>\n",
       "      <td>Var48_E</td>\n",
       "      <td>Var48_F</td>\n",
       "      <td>Var48_G</td>\n",
       "      <td>Var48_H</td>\n",
       "      <td>Var48_I</td>\n",
       "      <td>Var48_J</td>\n",
       "      <td>Var48_K</td>\n",
       "      <td>Var48_L</td>\n",
       "      <td>Var48_M</td>\n",
       "      <td>Var48_N</td>\n",
       "    </tr>\n",
       "    <tr>\n",
       "      <th>13</th>\n",
       "      <td>Var48_O</td>\n",
       "      <td>Var48_P</td>\n",
       "      <td>Var48_Q</td>\n",
       "      <td>Var49_A</td>\n",
       "      <td>Var49_B</td>\n",
       "      <td>Var51_A</td>\n",
       "      <td>Var51_B</td>\n",
       "      <td>Var51_C</td>\n",
       "      <td>Var51_D</td>\n",
       "      <td>Var51_E</td>\n",
       "      <td>Var51_F</td>\n",
       "      <td>Var51_G</td>\n",
       "      <td>Var51_H</td>\n",
       "    </tr>\n",
       "    <tr>\n",
       "      <th>14</th>\n",
       "      <td>Var51_I</td>\n",
       "      <td>Var51_J</td>\n",
       "      <td>Var51_L</td>\n",
       "      <td>Var51_M</td>\n",
       "      <td>Var51_N</td>\n",
       "      <td>Var51_P</td>\n",
       "      <td>Var51_Q</td>\n",
       "      <td>Var51_Z</td>\n",
       "      <td>Var52_A</td>\n",
       "      <td>Var52_B</td>\n",
       "      <td>Var53_A</td>\n",
       "      <td>Var53_B</td>\n",
       "      <td>Var53_C</td>\n",
       "    </tr>\n",
       "    <tr>\n",
       "      <th>15</th>\n",
       "      <td>Var53_D</td>\n",
       "      <td>Var53_E</td>\n",
       "      <td>Var53_F</td>\n",
       "      <td>Var53_X</td>\n",
       "      <td>Var55_A</td>\n",
       "      <td>Var55_B</td>\n",
       "      <td>Var55_C</td>\n",
       "      <td>Var55_D</td>\n",
       "      <td>Var55_E</td>\n",
       "      <td>Var55_F</td>\n",
       "      <td>Var55_G</td>\n",
       "      <td>Var55_X</td>\n",
       "      <td>c01_A</td>\n",
       "    </tr>\n",
       "    <tr>\n",
       "      <th>16</th>\n",
       "      <td>c01_B</td>\n",
       "      <td>c01_C</td>\n",
       "      <td>c01_D</td>\n",
       "      <td>c01_F</td>\n",
       "      <td>c01_G</td>\n",
       "      <td>c01_H</td>\n",
       "      <td>c02_A</td>\n",
       "      <td>c02_B</td>\n",
       "      <td>c02_C</td>\n",
       "      <td>c02_D</td>\n",
       "      <td>c02_E</td>\n",
       "      <td>c02_F</td>\n",
       "      <td>c02_G</td>\n",
       "    </tr>\n",
       "    <tr>\n",
       "      <th>17</th>\n",
       "      <td>c02_H</td>\n",
       "      <td>c03_A</td>\n",
       "      <td>c03_B</td>\n",
       "      <td>c03_C</td>\n",
       "      <td>c03_D</td>\n",
       "      <td>c03_E</td>\n",
       "      <td>c03_F</td>\n",
       "      <td>c03_G</td>\n",
       "      <td>c03_H</td>\n",
       "      <td>c03_I</td>\n",
       "      <td>c03_J</td>\n",
       "      <td>c03_K</td>\n",
       "      <td>c03_L</td>\n",
       "    </tr>\n",
       "    <tr>\n",
       "      <th>18</th>\n",
       "      <td>c06_N</td>\n",
       "      <td>c06_Y</td>\n",
       "      <td>c07_N</td>\n",
       "      <td>c07_Y</td>\n",
       "      <td>c13_A</td>\n",
       "      <td>c13_B</td>\n",
       "      <td>c13_C</td>\n",
       "      <td>c13_D</td>\n",
       "      <td>c13_E</td>\n",
       "      <td>c13_F</td>\n",
       "      <td>c13_G</td>\n",
       "      <td>c13_H</td>\n",
       "      <td>c13_I</td>\n",
       "    </tr>\n",
       "    <tr>\n",
       "      <th>19</th>\n",
       "      <td>c14_N</td>\n",
       "      <td>c14_O</td>\n",
       "      <td>c14_Y</td>\n",
       "      <td>c17_A</td>\n",
       "      <td>c17_B</td>\n",
       "      <td>c17_C</td>\n",
       "      <td>c17_E</td>\n",
       "      <td>c17_F</td>\n",
       "      <td>c20_N</td>\n",
       "      <td>c20_O</td>\n",
       "      <td>c20_Y</td>\n",
       "      <td>c21_N</td>\n",
       "      <td>c21_O</td>\n",
       "    </tr>\n",
       "    <tr>\n",
       "      <th>20</th>\n",
       "      <td>c21_Y</td>\n",
       "      <td>c22_E</td>\n",
       "      <td>c22_F</td>\n",
       "      <td>c23_N</td>\n",
       "      <td>c23_Y</td>\n",
       "      <td>c24_N</td>\n",
       "      <td>c24_Y</td>\n",
       "      <td>c25_A</td>\n",
       "      <td>c25_B</td>\n",
       "      <td>c25_C</td>\n",
       "      <td>c25_D</td>\n",
       "      <td>c25_E</td>\n",
       "      <td>c25_F</td>\n",
       "    </tr>\n",
       "    <tr>\n",
       "      <th>21</th>\n",
       "      <td>c28_A</td>\n",
       "      <td>c28_B</td>\n",
       "      <td>c28_C</td>\n",
       "      <td>c29_A</td>\n",
       "      <td>c29_B</td>\n",
       "      <td>c29_C</td>\n",
       "      <td>c30_A</td>\n",
       "      <td>c30_B</td>\n",
       "      <td>c30_C</td>\n",
       "      <td>c31_A</td>\n",
       "      <td>c31_B</td>\n",
       "      <td>c31_C</td>\n",
       "      <td>c32_A</td>\n",
       "    </tr>\n",
       "    <tr>\n",
       "      <th>22</th>\n",
       "      <td>c32_B</td>\n",
       "      <td>c32_C</td>\n",
       "      <td>c33_A</td>\n",
       "      <td>c33_B</td>\n",
       "      <td>c33_C</td>\n",
       "      <td>c36_N</td>\n",
       "      <td>c36_Y</td>\n",
       "      <td>c37_N</td>\n",
       "      <td>c37_Y</td>\n",
       "      <td>Var56_A</td>\n",
       "      <td>Var56_B</td>\n",
       "      <td>train_N</td>\n",
       "      <td>train_Y</td>\n",
       "    </tr>\n",
       "  </tbody>\n",
       "</table>\n",
       "</div>"
      ],
      "text/plain": [
       "          0        1        2        3        4        5        6        7   \\\n",
       "0   uniqueID    Var07    Var10    Var26    Var27    Var28    Var29    Var30   \n",
       "1      Var42   pred_s    Var47    Var50      c08      c09      c10      c11   \n",
       "2      Var54    Var02    Var04    Var05    Var06    Var08    Var09    Var12   \n",
       "3        c04      c05      c16      c26      c34      c35      c38      c39   \n",
       "4   Var47_NA   c08_NA   c11_NA   c12_NA   c15_NA   c18_NA   c19_NA   c27_NA   \n",
       "5     c34_NA   c38_NA   c39_NA   c40_NA  Var01_A  Var01_B  Var01_C  Var03_A   \n",
       "6    Var03_G  Var03_H  Var03_I  Var03_J  Var03_L  Var03_N  Var03_P  Var03_Q   \n",
       "7    Var11_E  Var11_F  Var11_G  Var11_Z  Var13_A  Var13_B  Var13_C  Var13_D   \n",
       "8    Var13_J  Var13_K  Var13_L  Var13_M  Var13_N  Var13_O  Var13_P  Var13_Q   \n",
       "9    Var14_C  Var14_D  Var14_E  Var14_F  Var14_Z  Var19_A  Var19_B  Var19_C   \n",
       "10   Var20_A  Var20_B  Var21_A  Var21_B  Var21_C  Var21_D  Var21_Z  Var23_A   \n",
       "11   Var25_C  Var25_D  Var25_E  Var25_F  Var25_G  Var25_H  Var25_I  Var25_J   \n",
       "12   Var48_B  Var48_C  Var48_D  Var48_E  Var48_F  Var48_G  Var48_H  Var48_I   \n",
       "13   Var48_O  Var48_P  Var48_Q  Var49_A  Var49_B  Var51_A  Var51_B  Var51_C   \n",
       "14   Var51_I  Var51_J  Var51_L  Var51_M  Var51_N  Var51_P  Var51_Q  Var51_Z   \n",
       "15   Var53_D  Var53_E  Var53_F  Var53_X  Var55_A  Var55_B  Var55_C  Var55_D   \n",
       "16     c01_B    c01_C    c01_D    c01_F    c01_G    c01_H    c02_A    c02_B   \n",
       "17     c02_H    c03_A    c03_B    c03_C    c03_D    c03_E    c03_F    c03_G   \n",
       "18     c06_N    c06_Y    c07_N    c07_Y    c13_A    c13_B    c13_C    c13_D   \n",
       "19     c14_N    c14_O    c14_Y    c17_A    c17_B    c17_C    c17_E    c17_F   \n",
       "20     c21_Y    c22_E    c22_F    c23_N    c23_Y    c24_N    c24_Y    c25_A   \n",
       "21     c28_A    c28_B    c28_C    c29_A    c29_B    c29_C    c30_A    c30_B   \n",
       "22     c32_B    c32_C    c33_A    c33_B    c33_C    c36_N    c36_Y    c37_N   \n",
       "\n",
       "          8        9         10        11        12  \n",
       "0      Var31    Var32     Var33     Var34     Var35  \n",
       "1        c12      c15       c18       c19       c27  \n",
       "2      Var15    Var16     Var18     Var22     Var24  \n",
       "3        c40       id  Var10_NA  Var26_NA  Var28_NA  \n",
       "4   Var12_NA   c04_NA    c05_NA    c16_NA    c26_NA  \n",
       "5    Var03_B  Var03_C   Var03_D   Var03_E   Var03_F  \n",
       "6    Var03_Z  Var11_A   Var11_B   Var11_C   Var11_D  \n",
       "7    Var13_E  Var13_F   Var13_G   Var13_H   Var13_I  \n",
       "8    Var13_R  Var13_S   Var13_Z   Var14_A   Var14_B  \n",
       "9    Var19_D  Var19_E   Var19_F   Var19_G   Var19_Z  \n",
       "10   Var23_B  Var23_C   Var23_Z   Var25_A   Var25_B  \n",
       "11   Var25_K  Var25_L   Var25_M   Var25_Z   Var48_A  \n",
       "12   Var48_J  Var48_K   Var48_L   Var48_M   Var48_N  \n",
       "13   Var51_D  Var51_E   Var51_F   Var51_G   Var51_H  \n",
       "14   Var52_A  Var52_B   Var53_A   Var53_B   Var53_C  \n",
       "15   Var55_E  Var55_F   Var55_G   Var55_X     c01_A  \n",
       "16     c02_C    c02_D     c02_E     c02_F     c02_G  \n",
       "17     c03_H    c03_I     c03_J     c03_K     c03_L  \n",
       "18     c13_E    c13_F     c13_G     c13_H     c13_I  \n",
       "19     c20_N    c20_O     c20_Y     c21_N     c21_O  \n",
       "20     c25_B    c25_C     c25_D     c25_E     c25_F  \n",
       "21     c30_C    c31_A     c31_B     c31_C     c32_A  \n",
       "22     c37_Y  Var56_A   Var56_B   train_N   train_Y  "
      ]
     },
     "execution_count": 23,
     "metadata": {},
     "output_type": "execute_result"
    }
   ],
   "source": [
    "## All variables in the transformed dataframe\n",
    "features = list(df_all)\n",
    "df_features = pd.DataFrame(np.array(list(df_all)).reshape(23, 13))\n",
    "df_features"
   ]
  },
  {
   "cell_type": "code",
   "execution_count": 24,
   "metadata": {
    "colab": {},
    "colab_type": "code",
    "id": "JGQZ8mNsQJQs"
   },
   "outputs": [],
   "source": [
    "## setting the inputs the output for our classification task\n",
    "target = ['Var47']\n",
    "\n",
    "labels = ['uniqueID', 'id', 'train_N', 'train_Y', 'Var47','pred_s']\n",
    "\n",
    "variables = ['Var01', 'Var03', 'Var07', 'Var10', 'Var11', 'Var13',\n",
    "             'Var14', 'Var19', 'Var20', 'Var21', 'Var23', 'Var25', 'Var26',\n",
    "             'Var27', 'Var28', 'Var29', 'Var30', 'Var31', 'Var32', 'Var33', \n",
    "             'Var34', 'Var35', 'Var42', 'Var48', 'Var49', \n",
    "             'Var50', 'Var51', 'Var52', 'Var53', 'Var55', \n",
    "             'c01', 'c02', 'c03', 'c06', 'c07', 'c08', 'c09', 'c10', 'c11', 'c12', \n",
    "             'c13', 'c14', 'c15', 'c17', 'c18', 'c19', 'c20', 'c21', 'c22', 'c23', \n",
    "             'c24', 'c25', 'c27', 'c28', 'c29', 'c30', 'c31', 'c32', 'c33', 'c36', 'c37', \n",
    "             'Var54', 'Var56', 'Var02', 'Var04', 'Var05', 'Var06', 'Var08', 'Var09', \n",
    "             'Var12', 'Var15', 'Var16', 'Var18', 'Var22', 'Var24', \n",
    "             'c04', 'c05', 'c16', 'c26', 'c34', 'c35', 'c38', 'c39', 'c40']"
   ]
  },
  {
   "cell_type": "code",
   "execution_count": 25,
   "metadata": {},
   "outputs": [
    {
     "name": "stdout",
     "output_type": "stream",
     "text": [
      "293\n"
     ]
    }
   ],
   "source": [
    "## setting the inputs the output for our classification task\n",
    "features_01 = list(set(features) - set(labels))\n",
    "print(len(features_01))"
   ]
  },
  {
   "cell_type": "markdown",
   "metadata": {
    "colab_type": "text",
    "id": "EWD9zYaNQJQ8"
   },
   "source": [
    "#### X_train  & y_train"
   ]
  },
  {
   "cell_type": "code",
   "execution_count": 26,
   "metadata": {
    "colab": {},
    "colab_type": "code",
    "id": "_SwnAYDWQJRA"
   },
   "outputs": [
    {
     "name": "stdout",
     "output_type": "stream",
     "text": [
      "(164627, 293) (164627, 1)\n"
     ]
    }
   ],
   "source": [
    "X_train_01 = df_train_s[features_01].values.astype(np.int)\n",
    "y_train = df_train_s[target].values.astype(np.int)\n",
    "print(X_train_01.shape, y_train.shape)"
   ]
  },
  {
   "cell_type": "markdown",
   "metadata": {
    "colab": {},
    "colab_type": "code",
    "id": "_SwnAYDWQJRA"
   },
   "source": [
    "#### X_test & y_test"
   ]
  },
  {
   "cell_type": "code",
   "execution_count": 27,
   "metadata": {
    "colab": {},
    "colab_type": "code",
    "id": "hA9Xq-6nQJRB",
    "outputId": "8a26c496-aedd-4276-a753-bfbbf35395ee"
   },
   "outputs": [
    {
     "name": "stdout",
     "output_type": "stream",
     "text": [
      "(147865, 293) (147865, 1)\n"
     ]
    }
   ],
   "source": [
    "X_test_01 = df_test[features_01].values.astype(np.int)\n",
    "y_test = df_test[target].values.astype(np.int)\n",
    "print(X_test_01.shape, y_test.shape)"
   ]
  },
  {
   "cell_type": "markdown",
   "metadata": {
    "colab_type": "text",
    "id": "OOLpCdgyQJRV"
   },
   "source": [
    "#### Performance measurements"
   ]
  },
  {
   "cell_type": "code",
   "execution_count": 28,
   "metadata": {
    "colab": {},
    "colab_type": "code",
    "id": "4hGq9FRQQJRW"
   },
   "outputs": [],
   "source": [
    "# This is a function which outputs a variety of accuracy results. We can use these results to compare models.\n",
    "\n",
    "from sklearn.metrics import roc_auc_score, accuracy_score, precision_score, recall_score\n",
    "def calc_specificity(y_vals, preds, threshes):\n",
    "    # calculates specificity\n",
    "    return sum((preds < threshes) & (y_vals == 0)) /sum(y_vals ==0)\n",
    "\n",
    "def print_report(y_vals, preds, threshes):\n",
    "    \n",
    "    auc = roc_auc_score(y_vals, preds)\n",
    "    accuracy = accuracy_score(y_vals, (preds > threshes))\n",
    "    recall = recall_score(y_vals, (preds > threshes))\n",
    "    precision = precision_score(y_vals, (preds > threshes))\n",
    "    specificity = calc_specificity(y_vals, preds, threshes)\n",
    "    print('AUC:%.3f'%auc)\n",
    "    print('accuracy:%.3f'%accuracy)\n",
    "    print('recall:%.3f'%recall)\n",
    "    print('precision:%.3f'%precision)\n",
    "    print('specificity:%.3f'%specificity)\n",
    "    print(' ')\n",
    "    return auc, accuracy, recall, precision, specificity "
   ]
  },
  {
   "cell_type": "markdown",
   "metadata": {
    "colab_type": "text",
    "id": "6qoIzYf9QJRW"
   },
   "source": [
    "# 04_b. Logistic\n",
    "<p> Toooo low validation accuracy now."
   ]
  },
  {
   "cell_type": "code",
   "execution_count": 29,
   "metadata": {
    "colab": {},
    "colab_type": "code",
    "id": "zK_wKZ07QJRX"
   },
   "outputs": [],
   "source": [
    "# ## use a small sample; 30% of training data\n",
    "# X_train = X0_train_s\n",
    "# y_train = y0_train_s\n",
    "# X_test = X0_test\n",
    "# y_test = y0_test"
   ]
  },
  {
   "cell_type": "code",
   "execution_count": 30,
   "metadata": {},
   "outputs": [],
   "source": [
    "## \n",
    "X_train = X_train_01\n",
    "y_train = y_train\n",
    "X_test = X_test_01\n",
    "y_test = y_test"
   ]
  },
  {
   "cell_type": "code",
   "execution_count": 31,
   "metadata": {
    "colab": {},
    "colab_type": "code",
    "id": "O_N7ZAYgQJRY"
   },
   "outputs": [],
   "source": [
    "# prepare Logistic Regression classifier\n",
    "from sklearn.linear_model import LogisticRegression\n",
    "logit_clf = LogisticRegression(random_state=42)  \n",
    "# logit_clf = LogisticRegression(tol=0.0001, C=1.0, random_state=42, max_iter=100,penalty='l1', solver='liblinear',verbose=0)  "
   ]
  },
  {
   "cell_type": "code",
   "execution_count": 32,
   "metadata": {},
   "outputs": [
    {
     "name": "stdout",
     "output_type": "stream",
     "text": [
      "LogisticRegression(C=1.0, class_weight=None, dual=False, fit_intercept=True,\n",
      "          intercept_scaling=1, max_iter=100, multi_class='warn',\n",
      "          n_jobs=None, penalty='l2', random_state=42, solver='warn',\n",
      "          tol=0.0001, verbose=0, warm_start=False)\n"
     ]
    }
   ],
   "source": [
    "print(logit_clf)"
   ]
  },
  {
   "cell_type": "code",
   "execution_count": 33,
   "metadata": {
    "colab": {},
    "colab_type": "code",
    "id": "KRO8f2P3QJRZ",
    "outputId": "afa8698c-2ca8-4e54-ddad-e5272664959f"
   },
   "outputs": [
    {
     "name": "stderr",
     "output_type": "stream",
     "text": [
      "/anaconda3/lib/python3.6/site-packages/sklearn/utils/validation.py:761: DataConversionWarning: A column-vector y was passed when a 1d array was expected. Please change the shape of y to (n_samples, ), for example using ravel().\n",
      "  y = column_or_1d(y, warn=True)\n"
     ]
    },
    {
     "name": "stdout",
     "output_type": "stream",
     "text": [
      "--- 58.006776094436646 seconds ---\n"
     ]
    }
   ],
   "source": [
    "# training and validation\n",
    "import time\n",
    "start_time = time.time()\n",
    "logit_clf.fit(X_train, y_train) \n",
    "print(\"--- %s seconds ---\" % (time.time() - start_time))"
   ]
  },
  {
   "cell_type": "code",
   "execution_count": 34,
   "metadata": {
    "colab": {},
    "colab_type": "code",
    "id": "o3pRyBaeQJRa"
   },
   "outputs": [],
   "source": [
    "y_train_logit_pred = logit_clf.predict(X_train)\n",
    "y_test_logit_pred = logit_clf.predict(X_test)"
   ]
  },
  {
   "cell_type": "code",
   "execution_count": 35,
   "metadata": {
    "colab": {},
    "colab_type": "code",
    "id": "oiPmQqz5QJRb",
    "outputId": "a3c35c54-1b90-4ea9-d8d8-3e5e47336f75"
   },
   "outputs": [
    {
     "name": "stdout",
     "output_type": "stream",
     "text": [
      "Training Accuracy 0.7512315719778652\n",
      "Test Accuracy 0.5155851621411423\n"
     ]
    }
   ],
   "source": [
    "print(\"Training Accuracy\", accuracy_score(y_train, y_train_logit_pred))\n",
    "print(\"Test Accuracy\", accuracy_score(y_test, y_test_logit_pred))"
   ]
  },
  {
   "cell_type": "code",
   "execution_count": 38,
   "metadata": {},
   "outputs": [
    {
     "name": "stdout",
     "output_type": "stream",
     "text": [
      "              precision    recall  f1-score   support\n",
      "\n",
      "           0       1.00      0.52      0.68    147865\n",
      "           1       0.00      0.00      0.00         0\n",
      "\n",
      "   micro avg       0.52      0.52      0.52    147865\n",
      "   macro avg       0.50      0.26      0.34    147865\n",
      "weighted avg       1.00      0.52      0.68    147865\n",
      "\n"
     ]
    },
    {
     "name": "stderr",
     "output_type": "stream",
     "text": [
      "/anaconda3/lib/python3.6/site-packages/sklearn/metrics/classification.py:1145: UndefinedMetricWarning: Recall and F-score are ill-defined and being set to 0.0 in labels with no true samples.\n",
      "  'recall', 'true', average, warn_for)\n",
      "/anaconda3/lib/python3.6/site-packages/sklearn/metrics/classification.py:1145: UndefinedMetricWarning: Recall and F-score are ill-defined and being set to 0.0 in labels with no true samples.\n",
      "  'recall', 'true', average, warn_for)\n",
      "/anaconda3/lib/python3.6/site-packages/sklearn/metrics/classification.py:1145: UndefinedMetricWarning: Recall and F-score are ill-defined and being set to 0.0 in labels with no true samples.\n",
      "  'recall', 'true', average, warn_for)\n"
     ]
    }
   ],
   "source": [
    "print(classification_report(y_test, y_test_logit_pred))"
   ]
  },
  {
   "cell_type": "code",
   "execution_count": 44,
   "metadata": {},
   "outputs": [
    {
     "data": {
      "text/plain": [
       "0"
      ]
     },
     "execution_count": 44,
     "metadata": {},
     "output_type": "execute_result"
    }
   ],
   "source": [
    "from scipy import stats\n",
    "np.count_nonzero(y_test)"
   ]
  },
  {
   "cell_type": "markdown",
   "metadata": {
    "colab_type": "text",
    "id": "5Wts4PZoQJRe"
   },
   "source": [
    "# 04_b. Penalised "
   ]
  },
  {
   "cell_type": "code",
   "execution_count": null,
   "metadata": {},
   "outputs": [],
   "source": []
  },
  {
   "cell_type": "markdown",
   "metadata": {
    "colab_type": "text",
    "id": "5Wts4PZoQJRe"
   },
   "source": [
    "# 05_a. DecisionTree"
   ]
  },
  {
   "cell_type": "code",
   "execution_count": null,
   "metadata": {
    "colab": {},
    "colab_type": "code",
    "id": "MxfoGGQYQJRf"
   },
   "outputs": [],
   "source": [
    "## use all training data\n",
    "X_train = X0_train\n",
    "y_train = y0_train\n",
    "X_test = X0_test\n",
    "y_test = y0_test"
   ]
  },
  {
   "cell_type": "code",
   "execution_count": null,
   "metadata": {
    "colab": {},
    "colab_type": "code",
    "id": "pOa_yVU1QJRg"
   },
   "outputs": [],
   "source": [
    "## prepare Random Forest classifier\n",
    "from sklearn.ensemble import RandomForestClassifier\n",
    "rf_clf = RandomForestClassifier(random_state=42, max_depth = 20)"
   ]
  },
  {
   "cell_type": "code",
   "execution_count": null,
   "metadata": {
    "colab": {},
    "colab_type": "code",
    "id": "HPNZulx5QJRi",
    "outputId": "7a7d047b-84ed-46f8-9710-b7edcac44a4d"
   },
   "outputs": [],
   "source": [
    "import time\n",
    "start_time = time.time()\n",
    "rf_clf.fit(X_train, y_train) \n",
    "print(\"--- %s seconds ---\" % (time.time() - start_time))"
   ]
  },
  {
   "cell_type": "code",
   "execution_count": null,
   "metadata": {
    "colab": {},
    "colab_type": "code",
    "id": "tnUkzU8pQJRk"
   },
   "outputs": [],
   "source": [
    "y_train_rf_pred = rf_clf.predict(X_train)\n",
    "y_test_rf_pred = rf_clf.predict(X_test)"
   ]
  },
  {
   "cell_type": "code",
   "execution_count": null,
   "metadata": {
    "colab": {},
    "colab_type": "code",
    "id": "YZCRKl1HQJRl",
    "outputId": "81cf165f-33d7-4b5a-bf86-059f4712bd08"
   },
   "outputs": [],
   "source": [
    "print(\"Training Accuracy\", accuracy_score(y_train, y_train_rf_pred))\n",
    "print(\"Test Accuracy\", accuracy_score(y_test, y_test_rf_pred))"
   ]
  },
  {
   "cell_type": "markdown",
   "metadata": {
    "colab_type": "text",
    "id": "4FVdmqd4QJRo"
   },
   "source": [
    "#### Feature importance "
   ]
  },
  {
   "cell_type": "code",
   "execution_count": null,
   "metadata": {
    "colab": {},
    "colab_type": "code",
    "id": "35RJ87IXQJRo"
   },
   "outputs": [],
   "source": [
    "## Source： https://towardsdatascience.com/feature-selection-techniques-in-machine-learning-with-python-f24e7da3f36e\n",
    "X = X_train\n",
    "y = y_train\n",
    "from sklearn.ensemble import ExtraTreesClassifier\n",
    "import matplotlib.pyplot as plt\n",
    "model = ExtraTreesClassifier()\n",
    "model.fit(X,y)\n",
    "print(model.feature_importances_) #use inbuilt class feature_importances of tree based classifiers\n",
    "#plot graph of feature importances for better visualization\n",
    "feat_importances = pd.Series(model.feature_importances_, index=X.columns)\n",
    "feat_importances.nlargest(10).plot(kind='barh')\n",
    "plt.show()"
   ]
  },
  {
   "cell_type": "markdown",
   "metadata": {
    "colab_type": "text",
    "id": "7IfFSyEJQJRq"
   },
   "source": [
    "# 06_a.DNN"
   ]
  },
  {
   "cell_type": "code",
   "execution_count": null,
   "metadata": {
    "colab": {},
    "colab_type": "code",
    "id": "JP3k9Rc4QJRq"
   },
   "outputs": [],
   "source": [
    "X_train = X0_train_s\n",
    "y_train = y0_train_s\n",
    "X_test = X0_test\n",
    "y_test = y0_test"
   ]
  },
  {
   "cell_type": "code",
   "execution_count": null,
   "metadata": {
    "colab": {},
    "colab_type": "code",
    "id": "lis7d894QJRr"
   },
   "outputs": [],
   "source": [
    "import tensorflow as tf\n",
    "from tensorflow import keras\n",
    "# from tensorflow_graph_in_jupyter import show_graph"
   ]
  },
  {
   "cell_type": "code",
   "execution_count": null,
   "metadata": {
    "colab": {},
    "colab_type": "code",
    "id": "hIl9qwNwQJRs"
   },
   "outputs": [],
   "source": [
    "def reset_graph(seed=42):\n",
    "    tf.reset_default_graph()\n",
    "    tf.set_random_seed(seed)\n",
    "    np.random.seed(seed)"
   ]
  },
  {
   "cell_type": "code",
   "execution_count": null,
   "metadata": {
    "colab": {},
    "colab_type": "code",
    "id": "NFakPR5cQJRt"
   },
   "outputs": [],
   "source": [
    "now = datetime.utcnow().strftime(\"%Y%m%d%H%M%S\")\n",
    "root_logdir = \".\"    \n",
    "logdir = \"{}//run-{}//\".format(root_logdir, now)"
   ]
  },
  {
   "cell_type": "code",
   "execution_count": null,
   "metadata": {
    "colab": {},
    "colab_type": "code",
    "id": "jLJHHdC0QJRu"
   },
   "outputs": [],
   "source": [
    "## define validation and training sets\n",
    "X_test = X_test.astype(np.int8)\n",
    "y_train = y_train.astype(np.int8)\n",
    "y_test = y_test.astype(np.int8)\n",
    "X_valid, X_train = X_train[:100], X_train[100:]\n",
    "y_valid, y_train = y_train[:100], y_train[100:]\n",
    "\n",
    "\n",
    "n_inputs = 273  # number of features \n",
    "n_hidden1 = 150   \n",
    "n_hidden2 = 70   \n",
    "# dedfine more hidden layers\n",
    "n_hidden3 = 50\n",
    "n_outputs = 2 \n",
    "tf.reset_default_graph()   # reset graph\n",
    "\n",
    "\n",
    "# y place holder for output\n",
    "# auxialrry variable \n",
    "X = tf.placeholder(tf.int8, shape=(None, n_inputs), name=\"X\")\n",
    "y = tf.placeholder(tf.int8, shape=(None), name=\"y\")\n",
    "a = tf.placeholder(tf.int8, shape=(None),name='a')\n",
    "\n",
    "\n",
    "summary1 = tf.reduce_mean(a, name=\"summary1\")\n",
    "\n",
    "#layer of network takes input of neurones  \n",
    "def neuron_layer(X, n_neurons, name, activation=None):\n",
    "    with tf.name_scope(name):\n",
    "        n_inputs = int(X.get_shape()[1])\n",
    "        stddev = 2 / np.sqrt(n_inputs)\n",
    "        init = tf.truncated_normal((n_inputs, n_neurons), stddev=stddev)\n",
    "        W = tf.Variable(init, name=\"kernel\")\n",
    "        b = tf.Variable(tf.zeros([n_neurons]), name=\"bias\")\n",
    "        Z = tf.matmul(X, W) + b\n",
    "        if activation is not None:\n",
    "            return activation(Z)\n",
    "        else:\n",
    "            return Z\n",
    "\n",
    "with tf.name_scope(\"dnn\"):\n",
    "    hidden1 = neuron_layer(X, n_hidden1, name=\"hidden1\", activation=tf.nn.relu)\n",
    "    hidden2 = neuron_layer(hidden1, n_hidden2, name=\"hidden2\", activation=tf.nn.relu)\n",
    "    hidden3 = neuron_layer(hidden2, n_hidden3, name=\"hidden3\", activation=tf.nn.relu)\n",
    "    logits  = neuron_layer(hidden3, n_outputs, name=\"outputs\")\n",
    "\n",
    "with tf.name_scope(\"loss\"):\n",
    "    xentropy = tf.nn.sparse_softmax_cross_entropy_with_logits(labels=y, logits=logits)\n",
    "    loss = tf.reduce_mean(xentropy, name=\"loss\")\n",
    "\n",
    "#learning rate - change if issues regrading convergence or others happen\n",
    "learning_rate =1e-1\n",
    "with tf.name_scope(\"train\"):\n",
    "    optimizer = tf.train.AdagradOptimizer(learning_rate)\n",
    "    training_op = optimizer.minimize(loss)\n",
    "\n",
    "#define accuracy \n",
    "with tf.name_scope(\"accuracy\"):\n",
    "    correct = tf.nn.in_top_k(logits, y, 1)\n",
    "    accuracy = tf.reduce_mean(tf.cast(correct, tf.float32))\n",
    "\n",
    "#leave this\n",
    "def shuffle_batch(X, y, batch_size):\n",
    "    rnd_idx = np.random.permutation(len(X))\n",
    "    n_batches = len(X) // batch_size\n",
    "    for batch_idx in np.array_split(rnd_idx, n_batches):\n",
    "        X_batch, y_batch = X[batch_idx], y[batch_idx]\n",
    "        yield X_batch, y_batch"
   ]
  },
  {
   "cell_type": "code",
   "execution_count": null,
   "metadata": {
    "colab": {},
    "colab_type": "code",
    "id": "1kto9ZV7QJRv"
   },
   "outputs": [],
   "source": [
    "from random import randint\n",
    "n_epochs = 100  \n",
    "batch_size = 100   \n",
    "\n",
    "init = tf.global_variables_initializer()\n",
    "saver = tf.train.Saver()\n",
    "\n",
    "\n",
    "summary2 = tf.summary.scalar('Accuracy', summary1)\n",
    "file_writer = tf.summary.FileWriter(logdir , tf.get_default_graph())\n",
    "\n",
    "start_time = time.time()\n",
    "with tf.Session() as sess:\n",
    "    init.run()\n",
    "    acc_val = accuracy.eval(feed_dict={X: X_valid, y: y_valid})\n",
    "    print(\"Val accuracy init:\", acc_val)\n",
    "    for epoch in range(n_epochs):\n",
    "        for X_batch, y_batch in shuffle_batch(X_train, y_train, batch_size):\n",
    "            sess.run(training_op, feed_dict={X: X_batch, y: y_batch})\n",
    "        acc_batch = accuracy.eval(feed_dict={X: X_batch, y: y_batch})\n",
    "        acc_val = accuracy.eval(feed_dict={X: X_valid, y: y_valid})\n",
    "        print(epoch, \"Batch accuracy:\", acc_batch, \"Val accuracy:\", acc_val)\n",
    "        \n",
    "        summary_str = summary2.eval(feed_dict={a: acc_val })\n",
    "        file_writer.add_summary(summary_str, epoch)\n",
    "   \n",
    "    saver.save(sess, \"./insurance_dnn_model.ckpt\")   \n",
    "\n",
    "print(\"--- %s seconds ---\" % (time.time() - start_time))"
   ]
  },
  {
   "cell_type": "code",
   "execution_count": null,
   "metadata": {
    "colab": {},
    "colab_type": "code",
    "id": "Uxjey5S1QJRw"
   },
   "outputs": [],
   "source": [
    "with tf.Session() as sess:                         \n",
    "    saver.restore(sess, \"./insurance_dnn_model.ckpt\")   \n",
    "    Z = logits.eval(feed_dict={X: X_test})\n",
    "    y_test_dnn_pred = np.argmax(Z, axis=1)"
   ]
  },
  {
   "cell_type": "code",
   "execution_count": null,
   "metadata": {
    "colab": {},
    "colab_type": "code",
    "id": "ZTro4em6QJRx"
   },
   "outputs": [],
   "source": [
    "print(\"Training Accuracy\", accuracy_score(y_train, y_train_dnn_pred))\n",
    "print(\"Test Accuracy\", accuracy_score(y_test, y_test_dnn_pred))"
   ]
  }
 ],
 "metadata": {
  "colab": {
   "collapsed_sections": [
    "OOLpCdgyQJRV",
    "4FVdmqd4QJRo"
   ],
   "name": "Insurance_classification_v5.ipynb",
   "provenance": [],
   "version": "0.3.2"
  },
  "kernelspec": {
   "display_name": "Python 3",
   "language": "python",
   "name": "python3"
  },
  "language_info": {
   "codemirror_mode": {
    "name": "ipython",
    "version": 3
   },
   "file_extension": ".py",
   "mimetype": "text/x-python",
   "name": "python",
   "nbconvert_exporter": "python",
   "pygments_lexer": "ipython3",
   "version": "3.6.8"
  }
 },
 "nbformat": 4,
 "nbformat_minor": 1
}
