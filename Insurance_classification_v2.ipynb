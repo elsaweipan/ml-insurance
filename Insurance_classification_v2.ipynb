{
 "cells": [
  {
   "cell_type": "markdown",
   "metadata": {},
   "source": [
    "# 0. Basic Setup"
   ]
  },
  {
   "cell_type": "code",
   "execution_count": 3,
   "metadata": {},
   "outputs": [],
   "source": [
    "## common imports\n",
    "import numpy as np\n",
    "import pandas as pd\n",
    "import os\n",
    "import warnings\n",
    "warnings.filterwarnings(\"ignore\")\n",
    "\n",
    "# To plot pretty figures\n",
    "%matplotlib inline\n",
    "import matplotlib\n",
    "import matplotlib.pyplot as plt\n",
    "import seaborn as sns\n",
    "plt.rcParams['axes.labelsize'] = 14\n",
    "plt.rcParams['xtick.labelsize'] = 12\n",
    "plt.rcParams['ytick.labelsize'] = 12\n",
    "\n",
    "## to make this notebook's output stable across runs\n",
    "np.random.seed(42)"
   ]
  },
  {
   "cell_type": "code",
   "execution_count": 4,
   "metadata": {},
   "outputs": [],
   "source": [
    "## import sklearn packages\n",
    "from sklearn.model_selection import cross_val_score\n",
    "from sklearn.model_selection import cross_val_predict\n",
    "from sklearn.metrics import precision_score, recall_score\n",
    "from sklearn.metrics import confusion_matrix\n",
    "from sklearn.metrics import mean_absolute_error\n",
    "from sklearn.metrics import accuracy_score\n",
    "from sklearn.metrics import roc_curve, auc, roc_auc_score\n",
    "from sklearn.metrics import precision_recall_curve"
   ]
  },
  {
   "cell_type": "code",
   "execution_count": 5,
   "metadata": {},
   "outputs": [],
   "source": [
    "## read the data\n",
    "data = pd.read_csv('../final_project_data/insurance_classification_data.csv')"
   ]
  },
  {
   "cell_type": "code",
   "execution_count": 6,
   "metadata": {},
   "outputs": [
    {
     "data": {
      "text/plain": [
       "(1795672, 89)"
      ]
     },
     "execution_count": 6,
     "metadata": {},
     "output_type": "execute_result"
    }
   ],
   "source": [
    "data.shape"
   ]
  },
  {
   "cell_type": "code",
   "execution_count": 7,
   "metadata": {},
   "outputs": [
    {
     "data": {
      "text/html": [
       "<div>\n",
       "<style scoped>\n",
       "    .dataframe tbody tr th:only-of-type {\n",
       "        vertical-align: middle;\n",
       "    }\n",
       "\n",
       "    .dataframe tbody tr th {\n",
       "        vertical-align: top;\n",
       "    }\n",
       "\n",
       "    .dataframe thead th {\n",
       "        text-align: right;\n",
       "    }\n",
       "</style>\n",
       "<table border=\"1\" class=\"dataframe\">\n",
       "  <thead>\n",
       "    <tr style=\"text-align: right;\">\n",
       "      <th></th>\n",
       "      <th>uniqueID</th>\n",
       "      <th>Var01</th>\n",
       "      <th>Var03</th>\n",
       "      <th>Var07</th>\n",
       "      <th>Var10</th>\n",
       "      <th>Var11</th>\n",
       "      <th>Var13</th>\n",
       "      <th>Var14</th>\n",
       "      <th>Var19</th>\n",
       "      <th>Var20</th>\n",
       "      <th>...</th>\n",
       "      <th>c05</th>\n",
       "      <th>c16</th>\n",
       "      <th>c26</th>\n",
       "      <th>c34</th>\n",
       "      <th>c35</th>\n",
       "      <th>c38</th>\n",
       "      <th>c39</th>\n",
       "      <th>c40</th>\n",
       "      <th>id</th>\n",
       "      <th>train</th>\n",
       "    </tr>\n",
       "  </thead>\n",
       "  <tbody>\n",
       "    <tr>\n",
       "      <th>0</th>\n",
       "      <td>352373</td>\n",
       "      <td>A</td>\n",
       "      <td>A</td>\n",
       "      <td>0</td>\n",
       "      <td>2.0</td>\n",
       "      <td>B</td>\n",
       "      <td>A</td>\n",
       "      <td>A</td>\n",
       "      <td>C</td>\n",
       "      <td>B</td>\n",
       "      <td>...</td>\n",
       "      <td>28.0</td>\n",
       "      <td>8.0</td>\n",
       "      <td>21.0</td>\n",
       "      <td>20.0</td>\n",
       "      <td>19.0</td>\n",
       "      <td>14.0</td>\n",
       "      <td>17.0</td>\n",
       "      <td>13.0</td>\n",
       "      <td>8747.0</td>\n",
       "      <td>Y</td>\n",
       "    </tr>\n",
       "    <tr>\n",
       "      <th>1</th>\n",
       "      <td>352373</td>\n",
       "      <td>A</td>\n",
       "      <td>A</td>\n",
       "      <td>0</td>\n",
       "      <td>2.0</td>\n",
       "      <td>B</td>\n",
       "      <td>A</td>\n",
       "      <td>A</td>\n",
       "      <td>C</td>\n",
       "      <td>B</td>\n",
       "      <td>...</td>\n",
       "      <td>28.0</td>\n",
       "      <td>8.0</td>\n",
       "      <td>21.0</td>\n",
       "      <td>20.0</td>\n",
       "      <td>19.0</td>\n",
       "      <td>14.0</td>\n",
       "      <td>17.0</td>\n",
       "      <td>13.0</td>\n",
       "      <td>8747.0</td>\n",
       "      <td>Y</td>\n",
       "    </tr>\n",
       "    <tr>\n",
       "      <th>2</th>\n",
       "      <td>765898</td>\n",
       "      <td>A</td>\n",
       "      <td>A</td>\n",
       "      <td>0</td>\n",
       "      <td>2.0</td>\n",
       "      <td>B</td>\n",
       "      <td>A</td>\n",
       "      <td>A</td>\n",
       "      <td>C</td>\n",
       "      <td>B</td>\n",
       "      <td>...</td>\n",
       "      <td>29.0</td>\n",
       "      <td>21.0</td>\n",
       "      <td>21.0</td>\n",
       "      <td>20.0</td>\n",
       "      <td>19.0</td>\n",
       "      <td>5.0</td>\n",
       "      <td>17.0</td>\n",
       "      <td>13.0</td>\n",
       "      <td>8747.0</td>\n",
       "      <td>Y</td>\n",
       "    </tr>\n",
       "    <tr>\n",
       "      <th>3</th>\n",
       "      <td>765898</td>\n",
       "      <td>A</td>\n",
       "      <td>A</td>\n",
       "      <td>0</td>\n",
       "      <td>2.0</td>\n",
       "      <td>B</td>\n",
       "      <td>A</td>\n",
       "      <td>A</td>\n",
       "      <td>C</td>\n",
       "      <td>B</td>\n",
       "      <td>...</td>\n",
       "      <td>29.0</td>\n",
       "      <td>21.0</td>\n",
       "      <td>21.0</td>\n",
       "      <td>20.0</td>\n",
       "      <td>19.0</td>\n",
       "      <td>5.0</td>\n",
       "      <td>17.0</td>\n",
       "      <td>13.0</td>\n",
       "      <td>8747.0</td>\n",
       "      <td>Y</td>\n",
       "    </tr>\n",
       "    <tr>\n",
       "      <th>4</th>\n",
       "      <td>138374</td>\n",
       "      <td>B</td>\n",
       "      <td>A</td>\n",
       "      <td>0</td>\n",
       "      <td>2.0</td>\n",
       "      <td>A</td>\n",
       "      <td>E</td>\n",
       "      <td>A</td>\n",
       "      <td>C</td>\n",
       "      <td>B</td>\n",
       "      <td>...</td>\n",
       "      <td>24.0</td>\n",
       "      <td>24.0</td>\n",
       "      <td>21.0</td>\n",
       "      <td>0.0</td>\n",
       "      <td>19.0</td>\n",
       "      <td>30.0</td>\n",
       "      <td>17.0</td>\n",
       "      <td>13.0</td>\n",
       "      <td>40261.0</td>\n",
       "      <td>Y</td>\n",
       "    </tr>\n",
       "  </tbody>\n",
       "</table>\n",
       "<p>5 rows × 89 columns</p>\n",
       "</div>"
      ],
      "text/plain": [
       "   uniqueID Var01 Var03  Var07  Var10 Var11 Var13 Var14 Var19 Var20  ...  \\\n",
       "0    352373     A     A      0    2.0     B     A     A     C     B  ...   \n",
       "1    352373     A     A      0    2.0     B     A     A     C     B  ...   \n",
       "2    765898     A     A      0    2.0     B     A     A     C     B  ...   \n",
       "3    765898     A     A      0    2.0     B     A     A     C     B  ...   \n",
       "4    138374     B     A      0    2.0     A     E     A     C     B  ...   \n",
       "\n",
       "    c05   c16   c26   c34   c35   c38   c39   c40       id  train  \n",
       "0  28.0   8.0  21.0  20.0  19.0  14.0  17.0  13.0   8747.0      Y  \n",
       "1  28.0   8.0  21.0  20.0  19.0  14.0  17.0  13.0   8747.0      Y  \n",
       "2  29.0  21.0  21.0  20.0  19.0   5.0  17.0  13.0   8747.0      Y  \n",
       "3  29.0  21.0  21.0  20.0  19.0   5.0  17.0  13.0   8747.0      Y  \n",
       "4  24.0  24.0  21.0   0.0  19.0  30.0  17.0  13.0  40261.0      Y  \n",
       "\n",
       "[5 rows x 89 columns]"
      ]
     },
     "execution_count": 7,
     "metadata": {},
     "output_type": "execute_result"
    }
   ],
   "source": [
    "data.head()"
   ]
  },
  {
   "cell_type": "code",
   "execution_count": 8,
   "metadata": {
    "scrolled": true
   },
   "outputs": [
    {
     "name": "stdout",
     "output_type": "stream",
     "text": [
      "<class 'pandas.core.frame.DataFrame'>\n",
      "RangeIndex: 1795672 entries, 0 to 1795671\n",
      "Data columns (total 89 columns):\n",
      "uniqueID    int64\n",
      "Var01       object\n",
      "Var03       object\n",
      "Var07       int64\n",
      "Var10       float64\n",
      "Var11       object\n",
      "Var13       object\n",
      "Var14       object\n",
      "Var19       object\n",
      "Var20       object\n",
      "Var21       object\n",
      "Var23       object\n",
      "Var25       object\n",
      "Var26       float64\n",
      "Var27       float64\n",
      "Var28       float64\n",
      "Var29       float64\n",
      "Var30       int64\n",
      "Var31       int64\n",
      "Var32       int64\n",
      "Var33       int64\n",
      "Var34       int64\n",
      "Var35       int64\n",
      "Var42       int64\n",
      "pred_s      float64\n",
      "Var47       float64\n",
      "Var48       object\n",
      "Var49       object\n",
      "Var50       int64\n",
      "Var51       object\n",
      "Var52       object\n",
      "Var53       object\n",
      "Var55       object\n",
      "c01         object\n",
      "c02         object\n",
      "c03         object\n",
      "c06         object\n",
      "c07         object\n",
      "c08         float64\n",
      "c09         float64\n",
      "c10         float64\n",
      "c11         float64\n",
      "c12         float64\n",
      "c13         object\n",
      "c14         object\n",
      "c15         float64\n",
      "c17         object\n",
      "c18         float64\n",
      "c19         float64\n",
      "c20         object\n",
      "c21         object\n",
      "c22         object\n",
      "c23         object\n",
      "c24         object\n",
      "c25         object\n",
      "c27         float64\n",
      "c28         object\n",
      "c29         object\n",
      "c30         object\n",
      "c31         object\n",
      "c32         object\n",
      "c33         object\n",
      "c36         object\n",
      "c37         object\n",
      "Var54       int64\n",
      "Var56       object\n",
      "Var02       float64\n",
      "Var04       int64\n",
      "Var05       int64\n",
      "Var06       int64\n",
      "Var08       int64\n",
      "Var09       int64\n",
      "Var12       float64\n",
      "Var15       int64\n",
      "Var16       int64\n",
      "Var18       int64\n",
      "Var22       int64\n",
      "Var24       int64\n",
      "c04         float64\n",
      "c05         float64\n",
      "c16         float64\n",
      "c26         float64\n",
      "c34         float64\n",
      "c35         float64\n",
      "c38         float64\n",
      "c39         float64\n",
      "c40         float64\n",
      "id          float64\n",
      "train       object\n",
      "dtypes: float64(28), int64(21), object(40)\n",
      "memory usage: 1.2+ GB\n"
     ]
    }
   ],
   "source": [
    "data.info()"
   ]
  },
  {
   "cell_type": "markdown",
   "metadata": {},
   "source": [
    "#### Remove duplicates\n",
    "<p> Q. Do we need to check duplication without uniqueID,id,Var47...? Do we choose to remove the duplications for all of the following analysis?"
   ]
  },
  {
   "cell_type": "code",
   "execution_count": 9,
   "metadata": {},
   "outputs": [
    {
     "name": "stdout",
     "output_type": "stream",
     "text": [
      "Duplicate Rows except first occurrence based on all columns are :\n"
     ]
    },
    {
     "data": {
      "text/plain": [
       "(1537, 89)"
      ]
     },
     "execution_count": 9,
     "metadata": {},
     "output_type": "execute_result"
    }
   ],
   "source": [
    "## check training set duplicates\n",
    "duplicateRowsDF = data[data.duplicated()]\n",
    "print(\"Duplicate Rows except first occurrence based on all columns are :\")\n",
    "duplicateRowsDF.shape"
   ]
  },
  {
   "cell_type": "code",
   "execution_count": 10,
   "metadata": {},
   "outputs": [],
   "source": [
    "data = data.drop_duplicates()"
   ]
  },
  {
   "cell_type": "code",
   "execution_count": 11,
   "metadata": {},
   "outputs": [
    {
     "name": "stdout",
     "output_type": "stream",
     "text": [
      "(1794135, 89)\n"
     ]
    }
   ],
   "source": [
    "print(data.shape)"
   ]
  },
  {
   "cell_type": "markdown",
   "metadata": {},
   "source": [
    "#### Train test split"
   ]
  },
  {
   "cell_type": "code",
   "execution_count": 12,
   "metadata": {},
   "outputs": [
    {
     "name": "stdout",
     "output_type": "stream",
     "text": [
      "(1646270, 89)\n"
     ]
    }
   ],
   "source": [
    "## training set\n",
    "data_train = data.loc[data.train==\"Y\"]\n",
    "print(data_train.shape)"
   ]
  },
  {
   "cell_type": "code",
   "execution_count": 13,
   "metadata": {},
   "outputs": [
    {
     "name": "stdout",
     "output_type": "stream",
     "text": [
      "(147865, 89)\n"
     ]
    }
   ],
   "source": [
    "## test set\n",
    "data_test = data.loc[data.train==\"N\"]\n",
    "print(data_test.shape)"
   ]
  },
  {
   "cell_type": "markdown",
   "metadata": {},
   "source": [
    "# 1. Exploratory Data Analysis | training set"
   ]
  },
  {
   "cell_type": "markdown",
   "metadata": {},
   "source": [
    "## Tasks:\n",
    "<p>check for missings, distributions, duplicates, correlation, ...\n",
    "<p>Q. how to deal with categorical data?\n",
    "<p>Todo. correlcation analysis"
   ]
  },
  {
   "cell_type": "markdown",
   "metadata": {},
   "source": [
    "#### Missing values "
   ]
  },
  {
   "cell_type": "code",
   "execution_count": 14,
   "metadata": {},
   "outputs": [],
   "source": [
    "## check training set missing values\n",
    "total = data_train.isnull().sum()\n",
    "percent = data_train.isnull().sum()/data_train.isnull().count()*100\n",
    "missing = pd.concat([total, percent], axis=1, keys=['Total', 'Percent'])"
   ]
  },
  {
   "cell_type": "code",
   "execution_count": 15,
   "metadata": {},
   "outputs": [],
   "source": [
    "# print(data_train.isnull().sum())"
   ]
  },
  {
   "cell_type": "code",
   "execution_count": 16,
   "metadata": {
    "scrolled": true
   },
   "outputs": [
    {
     "data": {
      "text/html": [
       "<div>\n",
       "<style scoped>\n",
       "    .dataframe tbody tr th:only-of-type {\n",
       "        vertical-align: middle;\n",
       "    }\n",
       "\n",
       "    .dataframe tbody tr th {\n",
       "        vertical-align: top;\n",
       "    }\n",
       "\n",
       "    .dataframe thead th {\n",
       "        text-align: right;\n",
       "    }\n",
       "</style>\n",
       "<table border=\"1\" class=\"dataframe\">\n",
       "  <thead>\n",
       "    <tr style=\"text-align: right;\">\n",
       "      <th></th>\n",
       "      <th>Total</th>\n",
       "      <th>Percent</th>\n",
       "    </tr>\n",
       "  </thead>\n",
       "  <tbody>\n",
       "    <tr>\n",
       "      <th>c04</th>\n",
       "      <td>663757</td>\n",
       "      <td>40.318842</td>\n",
       "    </tr>\n",
       "    <tr>\n",
       "      <th>c39</th>\n",
       "      <td>436774</td>\n",
       "      <td>26.531128</td>\n",
       "    </tr>\n",
       "    <tr>\n",
       "      <th>c40</th>\n",
       "      <td>432324</td>\n",
       "      <td>26.260820</td>\n",
       "    </tr>\n",
       "    <tr>\n",
       "      <th>c38</th>\n",
       "      <td>421798</td>\n",
       "      <td>25.621435</td>\n",
       "    </tr>\n",
       "    <tr>\n",
       "      <th>c16</th>\n",
       "      <td>258918</td>\n",
       "      <td>15.727554</td>\n",
       "    </tr>\n",
       "    <tr>\n",
       "      <th>c05</th>\n",
       "      <td>252331</td>\n",
       "      <td>15.327437</td>\n",
       "    </tr>\n",
       "    <tr>\n",
       "      <th>id</th>\n",
       "      <td>163260</td>\n",
       "      <td>9.916964</td>\n",
       "    </tr>\n",
       "    <tr>\n",
       "      <th>c18</th>\n",
       "      <td>157720</td>\n",
       "      <td>9.580445</td>\n",
       "    </tr>\n",
       "    <tr>\n",
       "      <th>c15</th>\n",
       "      <td>155295</td>\n",
       "      <td>9.433143</td>\n",
       "    </tr>\n",
       "    <tr>\n",
       "      <th>c08</th>\n",
       "      <td>154590</td>\n",
       "      <td>9.390319</td>\n",
       "    </tr>\n",
       "    <tr>\n",
       "      <th>c09</th>\n",
       "      <td>154590</td>\n",
       "      <td>9.390319</td>\n",
       "    </tr>\n",
       "    <tr>\n",
       "      <th>c10</th>\n",
       "      <td>154590</td>\n",
       "      <td>9.390319</td>\n",
       "    </tr>\n",
       "    <tr>\n",
       "      <th>c19</th>\n",
       "      <td>69516</td>\n",
       "      <td>4.222637</td>\n",
       "    </tr>\n",
       "    <tr>\n",
       "      <th>c26</th>\n",
       "      <td>54755</td>\n",
       "      <td>3.326004</td>\n",
       "    </tr>\n",
       "    <tr>\n",
       "      <th>c27</th>\n",
       "      <td>37962</td>\n",
       "      <td>2.305940</td>\n",
       "    </tr>\n",
       "    <tr>\n",
       "      <th>c34</th>\n",
       "      <td>25457</td>\n",
       "      <td>1.546344</td>\n",
       "    </tr>\n",
       "    <tr>\n",
       "      <th>c35</th>\n",
       "      <td>25457</td>\n",
       "      <td>1.546344</td>\n",
       "    </tr>\n",
       "    <tr>\n",
       "      <th>c12</th>\n",
       "      <td>10468</td>\n",
       "      <td>0.635862</td>\n",
       "    </tr>\n",
       "    <tr>\n",
       "      <th>c11</th>\n",
       "      <td>9156</td>\n",
       "      <td>0.556166</td>\n",
       "    </tr>\n",
       "    <tr>\n",
       "      <th>Var12</th>\n",
       "      <td>5197</td>\n",
       "      <td>0.315683</td>\n",
       "    </tr>\n",
       "    <tr>\n",
       "      <th>pred_s</th>\n",
       "      <td>82</td>\n",
       "      <td>0.004981</td>\n",
       "    </tr>\n",
       "    <tr>\n",
       "      <th>Var02</th>\n",
       "      <td>11</td>\n",
       "      <td>0.000668</td>\n",
       "    </tr>\n",
       "    <tr>\n",
       "      <th>Var10</th>\n",
       "      <td>11</td>\n",
       "      <td>0.000668</td>\n",
       "    </tr>\n",
       "    <tr>\n",
       "      <th>Var28</th>\n",
       "      <td>5</td>\n",
       "      <td>0.000304</td>\n",
       "    </tr>\n",
       "    <tr>\n",
       "      <th>Var29</th>\n",
       "      <td>5</td>\n",
       "      <td>0.000304</td>\n",
       "    </tr>\n",
       "    <tr>\n",
       "      <th>Var27</th>\n",
       "      <td>4</td>\n",
       "      <td>0.000243</td>\n",
       "    </tr>\n",
       "    <tr>\n",
       "      <th>Var26</th>\n",
       "      <td>4</td>\n",
       "      <td>0.000243</td>\n",
       "    </tr>\n",
       "    <tr>\n",
       "      <th>c30</th>\n",
       "      <td>0</td>\n",
       "      <td>0.000000</td>\n",
       "    </tr>\n",
       "    <tr>\n",
       "      <th>uniqueID</th>\n",
       "      <td>0</td>\n",
       "      <td>0.000000</td>\n",
       "    </tr>\n",
       "    <tr>\n",
       "      <th>c25</th>\n",
       "      <td>0</td>\n",
       "      <td>0.000000</td>\n",
       "    </tr>\n",
       "    <tr>\n",
       "      <th>...</th>\n",
       "      <td>...</td>\n",
       "      <td>...</td>\n",
       "    </tr>\n",
       "    <tr>\n",
       "      <th>Var25</th>\n",
       "      <td>0</td>\n",
       "      <td>0.000000</td>\n",
       "    </tr>\n",
       "    <tr>\n",
       "      <th>Var23</th>\n",
       "      <td>0</td>\n",
       "      <td>0.000000</td>\n",
       "    </tr>\n",
       "    <tr>\n",
       "      <th>Var21</th>\n",
       "      <td>0</td>\n",
       "      <td>0.000000</td>\n",
       "    </tr>\n",
       "    <tr>\n",
       "      <th>Var20</th>\n",
       "      <td>0</td>\n",
       "      <td>0.000000</td>\n",
       "    </tr>\n",
       "    <tr>\n",
       "      <th>Var19</th>\n",
       "      <td>0</td>\n",
       "      <td>0.000000</td>\n",
       "    </tr>\n",
       "    <tr>\n",
       "      <th>Var14</th>\n",
       "      <td>0</td>\n",
       "      <td>0.000000</td>\n",
       "    </tr>\n",
       "    <tr>\n",
       "      <th>Var13</th>\n",
       "      <td>0</td>\n",
       "      <td>0.000000</td>\n",
       "    </tr>\n",
       "    <tr>\n",
       "      <th>Var11</th>\n",
       "      <td>0</td>\n",
       "      <td>0.000000</td>\n",
       "    </tr>\n",
       "    <tr>\n",
       "      <th>Var07</th>\n",
       "      <td>0</td>\n",
       "      <td>0.000000</td>\n",
       "    </tr>\n",
       "    <tr>\n",
       "      <th>Var03</th>\n",
       "      <td>0</td>\n",
       "      <td>0.000000</td>\n",
       "    </tr>\n",
       "    <tr>\n",
       "      <th>Var35</th>\n",
       "      <td>0</td>\n",
       "      <td>0.000000</td>\n",
       "    </tr>\n",
       "    <tr>\n",
       "      <th>Var47</th>\n",
       "      <td>0</td>\n",
       "      <td>0.000000</td>\n",
       "    </tr>\n",
       "    <tr>\n",
       "      <th>c21</th>\n",
       "      <td>0</td>\n",
       "      <td>0.000000</td>\n",
       "    </tr>\n",
       "    <tr>\n",
       "      <th>Var48</th>\n",
       "      <td>0</td>\n",
       "      <td>0.000000</td>\n",
       "    </tr>\n",
       "    <tr>\n",
       "      <th>c20</th>\n",
       "      <td>0</td>\n",
       "      <td>0.000000</td>\n",
       "    </tr>\n",
       "    <tr>\n",
       "      <th>c17</th>\n",
       "      <td>0</td>\n",
       "      <td>0.000000</td>\n",
       "    </tr>\n",
       "    <tr>\n",
       "      <th>Var01</th>\n",
       "      <td>0</td>\n",
       "      <td>0.000000</td>\n",
       "    </tr>\n",
       "    <tr>\n",
       "      <th>c13</th>\n",
       "      <td>0</td>\n",
       "      <td>0.000000</td>\n",
       "    </tr>\n",
       "    <tr>\n",
       "      <th>c07</th>\n",
       "      <td>0</td>\n",
       "      <td>0.000000</td>\n",
       "    </tr>\n",
       "    <tr>\n",
       "      <th>c06</th>\n",
       "      <td>0</td>\n",
       "      <td>0.000000</td>\n",
       "    </tr>\n",
       "    <tr>\n",
       "      <th>c03</th>\n",
       "      <td>0</td>\n",
       "      <td>0.000000</td>\n",
       "    </tr>\n",
       "    <tr>\n",
       "      <th>c02</th>\n",
       "      <td>0</td>\n",
       "      <td>0.000000</td>\n",
       "    </tr>\n",
       "    <tr>\n",
       "      <th>c01</th>\n",
       "      <td>0</td>\n",
       "      <td>0.000000</td>\n",
       "    </tr>\n",
       "    <tr>\n",
       "      <th>Var55</th>\n",
       "      <td>0</td>\n",
       "      <td>0.000000</td>\n",
       "    </tr>\n",
       "    <tr>\n",
       "      <th>Var53</th>\n",
       "      <td>0</td>\n",
       "      <td>0.000000</td>\n",
       "    </tr>\n",
       "    <tr>\n",
       "      <th>Var52</th>\n",
       "      <td>0</td>\n",
       "      <td>0.000000</td>\n",
       "    </tr>\n",
       "    <tr>\n",
       "      <th>Var51</th>\n",
       "      <td>0</td>\n",
       "      <td>0.000000</td>\n",
       "    </tr>\n",
       "    <tr>\n",
       "      <th>Var50</th>\n",
       "      <td>0</td>\n",
       "      <td>0.000000</td>\n",
       "    </tr>\n",
       "    <tr>\n",
       "      <th>Var49</th>\n",
       "      <td>0</td>\n",
       "      <td>0.000000</td>\n",
       "    </tr>\n",
       "    <tr>\n",
       "      <th>train</th>\n",
       "      <td>0</td>\n",
       "      <td>0.000000</td>\n",
       "    </tr>\n",
       "  </tbody>\n",
       "</table>\n",
       "<p>89 rows × 2 columns</p>\n",
       "</div>"
      ],
      "text/plain": [
       "           Total    Percent\n",
       "c04       663757  40.318842\n",
       "c39       436774  26.531128\n",
       "c40       432324  26.260820\n",
       "c38       421798  25.621435\n",
       "c16       258918  15.727554\n",
       "c05       252331  15.327437\n",
       "id        163260   9.916964\n",
       "c18       157720   9.580445\n",
       "c15       155295   9.433143\n",
       "c08       154590   9.390319\n",
       "c09       154590   9.390319\n",
       "c10       154590   9.390319\n",
       "c19        69516   4.222637\n",
       "c26        54755   3.326004\n",
       "c27        37962   2.305940\n",
       "c34        25457   1.546344\n",
       "c35        25457   1.546344\n",
       "c12        10468   0.635862\n",
       "c11         9156   0.556166\n",
       "Var12       5197   0.315683\n",
       "pred_s        82   0.004981\n",
       "Var02         11   0.000668\n",
       "Var10         11   0.000668\n",
       "Var28          5   0.000304\n",
       "Var29          5   0.000304\n",
       "Var27          4   0.000243\n",
       "Var26          4   0.000243\n",
       "c30            0   0.000000\n",
       "uniqueID       0   0.000000\n",
       "c25            0   0.000000\n",
       "...          ...        ...\n",
       "Var25          0   0.000000\n",
       "Var23          0   0.000000\n",
       "Var21          0   0.000000\n",
       "Var20          0   0.000000\n",
       "Var19          0   0.000000\n",
       "Var14          0   0.000000\n",
       "Var13          0   0.000000\n",
       "Var11          0   0.000000\n",
       "Var07          0   0.000000\n",
       "Var03          0   0.000000\n",
       "Var35          0   0.000000\n",
       "Var47          0   0.000000\n",
       "c21            0   0.000000\n",
       "Var48          0   0.000000\n",
       "c20            0   0.000000\n",
       "c17            0   0.000000\n",
       "Var01          0   0.000000\n",
       "c13            0   0.000000\n",
       "c07            0   0.000000\n",
       "c06            0   0.000000\n",
       "c03            0   0.000000\n",
       "c02            0   0.000000\n",
       "c01            0   0.000000\n",
       "Var55          0   0.000000\n",
       "Var53          0   0.000000\n",
       "Var52          0   0.000000\n",
       "Var51          0   0.000000\n",
       "Var50          0   0.000000\n",
       "Var49          0   0.000000\n",
       "train          0   0.000000\n",
       "\n",
       "[89 rows x 2 columns]"
      ]
     },
     "execution_count": 16,
     "metadata": {},
     "output_type": "execute_result"
    }
   ],
   "source": [
    "missing.sort_values(by=['Percent'], ascending = False)"
   ]
  },
  {
   "cell_type": "markdown",
   "metadata": {},
   "source": [
    "#### Distribution"
   ]
  },
  {
   "cell_type": "code",
   "execution_count": 17,
   "metadata": {},
   "outputs": [],
   "source": [
    "def cat_distr(var):\n",
    "    clean_var = data_train[var].fillna('Missing')\n",
    "    var_counts = clean_var.value_counts()\n",
    "    barplot = sns.barplot(x=var_counts.index, y=var_counts.values, alpha=1)\n",
    "    return var_counts, barplot"
   ]
  },
  {
   "cell_type": "code",
   "execution_count": 18,
   "metadata": {
    "scrolled": true
   },
   "outputs": [
    {
     "data": {
      "text/plain": [
       "(A    1477353\n",
       " B      72546\n",
       " Q      41182\n",
       " D      22447\n",
       " H      11150\n",
       " G      10868\n",
       " C       4889\n",
       " L       3480\n",
       " E       2119\n",
       " F        150\n",
       " I         42\n",
       " Z         18\n",
       " P         17\n",
       " J          7\n",
       " N          2\n",
       " Name: Var03, dtype: int64,\n",
       " <matplotlib.axes._subplots.AxesSubplot at 0x1a24cd84a8>)"
      ]
     },
     "execution_count": 18,
     "metadata": {},
     "output_type": "execute_result"
    },
    {
     "data": {
      "image/png": "[encoded data removed]",
      "text/plain": [
       "<Figure size 432x288 with 1 Axes>"
      ]
     },
     "metadata": {
      "needs_background": "light"
     },
     "output_type": "display_data"
    }
   ],
   "source": [
    "cat_distr('Var03')"
   ]
  },
  {
   "cell_type": "code",
   "execution_count": 19,
   "metadata": {
    "scrolled": true
   },
   "outputs": [
    {
     "data": {
      "text/plain": [
       "(A    1525562\n",
       " B      98628\n",
       " C      22080\n",
       " Name: Var01, dtype: int64,\n",
       " <matplotlib.axes._subplots.AxesSubplot at 0x1a24bcbeb8>)"
      ]
     },
     "execution_count": 19,
     "metadata": {},
     "output_type": "execute_result"
    },
    {
     "data": {
      "image/png": "[encoded data removed]",
      "text/plain": [
       "<Figure size 432x288 with 1 Axes>"
      ]
     },
     "metadata": {
      "needs_background": "light"
     },
     "output_type": "display_data"
    }
   ],
   "source": [
    "cat_distr('Var01')"
   ]
  },
  {
   "cell_type": "code",
   "execution_count": 20,
   "metadata": {
    "scrolled": true
   },
   "outputs": [
    {
     "data": {
      "text/plain": [
       "(Missing    663757\n",
       " 37.0       117448\n",
       " 22.0       116979\n",
       " 30.0       108399\n",
       " 14.0       104846\n",
       " 5.0         92679\n",
       " 17.0        92440\n",
       " 10.0        90592\n",
       " 26.0        81311\n",
       " 33.0        65597\n",
       " 2.0         56748\n",
       " 7.0         30819\n",
       " 0.0         24655\n",
       " Name: c04, dtype: int64,\n",
       " <matplotlib.axes._subplots.AxesSubplot at 0x1a24c5b5c0>)"
      ]
     },
     "execution_count": 20,
     "metadata": {},
     "output_type": "execute_result"
    },
    {
     "data": {
      "image/png": "[encoded data removed]",
      "text/plain": [
       "<Figure size 432x288 with 1 Axes>"
      ]
     },
     "metadata": {
      "needs_background": "light"
     },
     "output_type": "display_data"
    }
   ],
   "source": [
    "cat_distr('c04')"
   ]
  },
  {
   "cell_type": "markdown",
   "metadata": {},
   "source": [
    "#### Categorical data & odrinary data, relation with classification target 0/1 (Boxplots)"
   ]
  },
  {
   "cell_type": "code",
   "execution_count": 21,
   "metadata": {
    "scrolled": true
   },
   "outputs": [
    {
     "data": {
      "text/plain": [
       "<matplotlib.axes._subplots.AxesSubplot at 0x1a24bcbbe0>"
      ]
     },
     "execution_count": 21,
     "metadata": {},
     "output_type": "execute_result"
    },
    {
     "data": {
      "image/png": "[encoded data removed]",
      "text/plain": [
       "<Figure size 360x432 with 1 Axes>"
      ]
     },
     "metadata": {
      "needs_background": "light"
     },
     "output_type": "display_data"
    }
   ],
   "source": [
    "data_train.boxplot('c04','Var47', rot = 30,figsize=(5,6))"
   ]
  },
  {
   "cell_type": "markdown",
   "metadata": {},
   "source": [
    "#### Current linear model accuracy pred_s  |  threshold = 50\n",
    "<p> the following could be replaced by confusion matrix"
   ]
  },
  {
   "cell_type": "code",
   "execution_count": 22,
   "metadata": {},
   "outputs": [
    {
     "name": "stdout",
     "output_type": "stream",
     "text": [
      "0.0    836051\n",
      "1.0    810219\n",
      "Name: Var47, dtype: int64\n"
     ]
    }
   ],
   "source": [
    "Var47_counts = data_train['Var47'].value_counts()\n",
    "print(Var47_counts)"
   ]
  },
  {
   "cell_type": "code",
   "execution_count": 23,
   "metadata": {},
   "outputs": [
    {
     "name": "stdout",
     "output_type": "stream",
     "text": [
      "0.7108779240343321\n"
     ]
    }
   ],
   "source": [
    "TP = len(data_train[(data_train['pred_s']>=50) & (data_train['Var47']==1)]) \n",
    "FN = len(data_train[(data_train['pred_s']<50) & (data_train['Var47']==0)]) \n",
    "accuracy = (TP+FN)/(data_train.shape[0])\n",
    "print(accuracy)"
   ]
  },
  {
   "cell_type": "markdown",
   "metadata": {},
   "source": [
    "# 2. Training Classifier"
   ]
  },
  {
   "cell_type": "markdown",
   "metadata": {},
   "source": [
    "<p>Q. How to impute missing values\n",
    "<p>Q. What could we do with categorical data ABCDE? What could we do with discreate numerical data 1 2 3 4 5?\n",
    "<p>Q. In theory, we can only use training set for model building, however, the categorical data make onehot encoding complicated if we conduct it for train and test set seperately. And error \"X has 254 features per sample; expecting 273\" happened. Is there any good way to do it?"
   ]
  },
  {
   "cell_type": "markdown",
   "metadata": {},
   "source": [
    "## 2.0"
   ]
  },
  {
   "cell_type": "code",
   "execution_count": 24,
   "metadata": {
    "scrolled": true
   },
   "outputs": [
    {
     "name": "stdout",
     "output_type": "stream",
     "text": [
      "uniqueID: 780409 unique values\n",
      "Var01:\n",
      "['A' 'B' 'C']\n",
      "Var03:\n",
      "['A' 'B' 'C' 'D' 'E' 'F' 'G' 'H' 'I' 'J' 'L' 'N' 'P' 'Q' 'Z']\n",
      "Var07:\n",
      "[0 1 2 3 4 5]\n",
      "Var10:\n",
      "[-1.  1.  2.  3.  4.  5.  6.  7.  8.  9. 10. 11. 12. 13. 14. 15. 16. 17.\n",
      " nan]\n",
      "Var11:\n",
      "['A' 'B' 'C' 'D' 'E' 'F' 'G' 'Z']\n",
      "Var13:\n",
      "['A' 'B' 'C' 'D' 'E' 'F' 'G' 'H' 'I' 'J' 'K' 'L' 'M' 'N' 'O' 'P' 'Q' 'R'\n",
      " 'S' 'Z']\n",
      "Var14:\n",
      "['A' 'B' 'C' 'D' 'E' 'F' 'Z']\n",
      "Var19:\n",
      "['A' 'B' 'C' 'D' 'E' 'F' 'G' 'Z']\n",
      "Var20:\n",
      "['A' 'B']\n",
      "Var21:\n",
      "['A' 'B' 'C' 'D' 'Z']\n",
      "Var23:\n",
      "['A' 'B' 'C' 'Z']\n",
      "Var25:\n",
      "['A' 'B' 'C' 'D' 'E' 'F' 'G' 'H' 'I' 'J' 'K' 'L' 'M' 'Z']\n",
      "Var26:\n",
      "[ 1.  2.  3.  4.  5.  6.  7.  8.  9. 10. 11. 12. 13. 14. 15. 16. 17. 18.\n",
      " 19. 20. nan]\n",
      "Var27:\n",
      "[-1.  1.  2.  3.  4.  5.  6.  7.  8.  9. 10. 11. 12. 13. 14. 15. 16. 17.\n",
      " nan]\n",
      "Var28:\n",
      "[ 1.  2.  3.  4.  5.  6.  7.  8.  9. 10. 11. 12. 13. 14. 15. nan]\n",
      "Var29:\n",
      "[-1.  1.  2.  3.  4.  5.  6.  7.  8.  9. 10. 11. 12. 13. 14. 15. 16. 17.\n",
      " nan]\n",
      "Var30:\n",
      "[0 1 2 3]\n",
      "Var31:\n",
      "[0 1 2 3]\n",
      "Var32:\n",
      "[0 1 2 3]\n",
      "Var33:\n",
      "[0 1 2 3]\n",
      "Var34:\n",
      "[0 1 2 3]\n",
      "Var35:\n",
      "[0 1 2 3 4 5]\n",
      "Var42:\n",
      "[0 1 2 3]\n",
      "pred_s: 101 unique values\n",
      "Var47:\n",
      "[0. 1.]\n",
      "Var48:\n",
      "['A' 'B' 'C' 'D' 'E' 'F' 'G' 'H' 'I' 'J' 'K' 'L' 'M' 'N' 'O' 'P' 'Q']\n",
      "Var49:\n",
      "['A' 'B']\n",
      "Var50:\n",
      "[1 2 3 4 5]\n",
      "Var51:\n",
      "['A' 'B' 'C' 'D' 'E' 'F' 'G' 'H' 'I' 'J' 'L' 'M' 'N' 'P' 'Q' 'Z']\n",
      "Var52:\n",
      "['A' 'B']\n",
      "Var53:\n",
      "['A' 'B' 'C' 'D' 'E' 'F' 'X']\n",
      "Var55:\n",
      "['A' 'B' 'C' 'D' 'E' 'F' 'G' 'X']\n",
      "c01:\n",
      "['A' 'B' 'C' 'D' 'F' 'G' 'H']\n",
      "c02:\n",
      "['A' 'B' 'C' 'D' 'E' 'F' 'G' 'H']\n",
      "c03:\n",
      "['A' 'B' 'C' 'D' 'E' 'F' 'G' 'H' 'I' 'J' 'K' 'L']\n",
      "c06:\n",
      "['N' 'Y']\n",
      "c07:\n",
      "['N' 'Y']\n",
      "c08:\n",
      "[ 0.  1.  2.  3. nan]\n",
      "c09:\n",
      "[ 0.  1.  2.  3. nan]\n",
      "c10:\n",
      "[ 0.  1. nan]\n",
      "c11:\n",
      "[ 0.  1.  2. nan]\n",
      "c12:\n",
      "[ 0.  1.  2. nan]\n",
      "c13:\n",
      "['A' 'B' 'C' 'D' 'E' 'F' 'G' 'H' 'I']\n",
      "c14:\n",
      "['N' 'O' 'Y']\n",
      "c15:\n",
      "[ 0.  1.  2. nan]\n",
      "c17:\n",
      "['A' 'B' 'C' 'E' 'F']\n",
      "c18:\n",
      "[ 0.  1.  2.  3. nan]\n",
      "c19:\n",
      "[ 1.  2.  3.  4.  5.  6.  7.  8. nan]\n",
      "c20:\n",
      "['N' 'O' 'Y']\n",
      "c21:\n",
      "['N' 'O' 'Y']\n",
      "c22:\n",
      "['E' 'F']\n",
      "c23:\n",
      "['N' 'Y']\n",
      "c24:\n",
      "['N' 'Y']\n",
      "c25:\n",
      "['A' 'B' 'C' 'D' 'E' 'F']\n",
      "c27:\n",
      "[ 0.  1.  2.  3.  4.  5.  6.  7.  8. nan]\n",
      "c28:\n",
      "['A' 'B' 'C']\n",
      "c29:\n",
      "['A' 'B' 'C']\n",
      "c30:\n",
      "['A' 'B' 'C']\n",
      "c31:\n",
      "['A' 'B' 'C']\n",
      "c32:\n",
      "['A' 'B' 'C']\n",
      "c33:\n",
      "['A' 'B' 'C']\n",
      "c36:\n",
      "['N' 'Y']\n",
      "c37:\n",
      "['N' 'Y']\n",
      "Var54:\n",
      "[0 1 2 3 4 5]\n",
      "Var56:\n",
      "['A' 'B']\n",
      "Var02: 37 unique values\n",
      "Var04:\n",
      "[ 0  1  3  4  7  9 11 13 15 17 19 21 23 26 28 30 32 33 35 36 37 38 39]\n",
      "Var05: 37 unique values\n",
      "Var06:\n",
      "[ 8 17 20 22 23 24 30 35 36 37 38 39]\n",
      "Var08:\n",
      "[ 0  6 15 20 24 26 28 29 31 32 33 34 35 36 37 38 39]\n",
      "Var09:\n",
      "[ 6 16 21 24 26 28 29 31 32 33 34 35 36 37 38 39]\n",
      "Var12: 41 unique values\n",
      "Var15:\n",
      "[ 0  1  2  3  5  6  7  8 10 14 17 18 20 22 23 24 25 27 29 30 33 35 36 37\n",
      " 38 39]\n",
      "Var16:\n",
      "[ 5 12 16 18 20 21 22 23 30 36 37 38 39]\n",
      "Var18: 38 unique values\n",
      "Var22:\n",
      "[ 0  1  3  4  5  6  7  8 24]\n",
      "Var24:\n",
      "[ 0  1 20]\n",
      "c04:\n",
      "[ 0.  2.  5.  7. 10. 14. 17. 22. 26. 30. 33. 37. nan]\n",
      "c05:\n",
      "[ 3. 10. 14. 16. 18. 19. 20. 21. 22. 23. 24. 25. 26. 27. 28. 29. 30. 31.\n",
      " 32. 33. 34. 35. 36. 37. 38. 39. nan]\n",
      "c16:\n",
      "[ 0.  1.  2.  3.  5.  8. 11. 15. 18. 21. 24. 27. 30. 32. 34. 36. 37. 39.\n",
      " nan]\n",
      "c26:\n",
      "[ 0.  1.  2.  3.  4.  5.  6.  7.  8.  9. 21. 35. 37. 38. 39. nan]\n",
      "c34:\n",
      "[ 0. 20. 39. nan]\n",
      "c35:\n",
      "[ 0. 19. 39. nan]\n",
      "c38:\n",
      "[ 5. 14. 21. 25. 28. 30. 32. 33. 34. 35. 36. 37. 38. 39. nan]\n",
      "c39:\n",
      "[17. 35. 38. 39. nan]\n",
      "c40:\n",
      "[13. 31. 36. 37. 38. 39. nan]\n",
      "id: 35439 unique values\n",
      "train:\n",
      "['Y']\n"
     ]
    }
   ],
   "source": [
    "# Look at some of the unique values within each variable | traning set\n",
    "for col in list(data_train.columns):\n",
    "    uniques = data_train[col].unique() # get a list of unique values  \n",
    "    uniques.sort()\n",
    "    # if number of unique values is less than 30, print the values. Otherwise print the number of unique values\n",
    "    if len(uniques)<30:\n",
    "        print(col + ':')\n",
    "        print(uniques)\n",
    "    else:\n",
    "        print(col + ': ' + str(len(uniques)) + ' unique values')"
   ]
  },
  {
   "cell_type": "code",
   "execution_count": 25,
   "metadata": {
    "collapsed": true
   },
   "outputs": [
    {
     "name": "stdout",
     "output_type": "stream",
     "text": [
      "uniqueID: 69125 unique values\n",
      "Var01:\n",
      "['A' 'B' 'C']\n",
      "Var03:\n",
      "['A' 'B' 'C' 'D' 'E' 'F' 'G' 'H' 'I' 'L' 'N' 'Q' 'Z']\n",
      "Var07:\n",
      "[0 1 2 3 4 5]\n",
      "Var10:\n",
      "[-1.  1.  2.  3.  4.  5.  6.  7.  8.  9. 10. 11. 12. 13. 14. 15. 16. 17.\n",
      " nan]\n",
      "Var11:\n",
      "['A' 'B' 'C' 'D' 'E' 'F' 'G']\n",
      "Var13:\n",
      "['A' 'B' 'C' 'D' 'E' 'F' 'G' 'H' 'I' 'J' 'K' 'L' 'M']\n",
      "Var14:\n",
      "['A' 'B' 'C' 'D' 'E' 'F' 'Z']\n",
      "Var19:\n",
      "['A' 'B' 'C' 'D' 'E' 'F' 'G']\n",
      "Var20:\n",
      "['A' 'B']\n",
      "Var21:\n",
      "['A' 'B' 'C' 'D' 'Z']\n",
      "Var23:\n",
      "['A' 'B' 'C' 'Z']\n",
      "Var25:\n",
      "['A' 'B' 'C' 'D' 'E' 'F' 'G' 'H' 'I' 'J' 'K' 'L' 'M']\n",
      "Var26:\n",
      "[ 1.  2.  3.  4.  5.  6.  7.  8.  9. 10. 11. 12. 13. 14. 15. 16. 17. 18.\n",
      " 19. 20.]\n",
      "Var27:\n",
      "[-1.  1.  2.  3.  4.  5.  6.  7.  8.  9. 10. 11. 12. 13. 14. 15. 16. 17.]\n",
      "Var28:\n",
      "[ 1.  2.  3.  4.  5.  6.  7.  8.  9. 10. 11. 12. 13. 14. 15.]\n",
      "Var29:\n",
      "[-1.  1.  2.  3.  4.  5.  6.  7.  8.  9. 10. 11. 12. 13. 14. 15. 16. 17.]\n",
      "Var30:\n",
      "[0 1 2 3]\n",
      "Var31:\n",
      "[0 1 2 3]\n",
      "Var32:\n",
      "[0 1 2 3]\n",
      "Var33:\n",
      "[0 1 2 3]\n",
      "Var34:\n",
      "[0 1 2 3]\n",
      "Var35:\n",
      "[0 1 2 3 4 5]\n",
      "Var42:\n",
      "[0 1 2 3]\n",
      "pred_s:\n",
      "[nan]\n",
      "Var47:\n",
      "[nan]\n",
      "Var48:\n",
      "['A' 'B' 'C' 'D' 'E' 'F' 'G' 'H' 'I' 'J' 'K' 'L' 'M' 'N' 'O' 'P' 'Q']\n",
      "Var49:\n",
      "['A' 'B']\n",
      "Var50:\n",
      "[1 2 3 4 5]\n",
      "Var51:\n",
      "['A' 'B' 'C' 'D' 'E' 'F' 'G' 'H' 'I' 'L' 'N' 'Q' 'Z']\n",
      "Var52:\n",
      "['A' 'B']\n",
      "Var53:\n",
      "['A' 'B' 'C' 'D' 'E' 'F' 'X']\n",
      "Var55:\n",
      "['B' 'C' 'D' 'E' 'F' 'G']\n",
      "c01:\n",
      "['A' 'B' 'D' 'F' 'G' 'H']\n",
      "c02:\n",
      "['A' 'B' 'C' 'D' 'E' 'F' 'G' 'H']\n",
      "c03:\n",
      "['A' 'B' 'C' 'D' 'E' 'F' 'G' 'H' 'I' 'J' 'K' 'L']\n",
      "c06:\n",
      "['N' 'Y']\n",
      "c07:\n",
      "['N' 'Y']\n",
      "c08:\n",
      "[ 0.  1.  2.  3. nan]\n",
      "c09:\n",
      "[ 0.  1.  2.  3. nan]\n",
      "c10:\n",
      "[ 0.  1. nan]\n",
      "c11:\n",
      "[ 0.  1.  2. nan]\n",
      "c12:\n",
      "[ 0.  1.  2. nan]\n",
      "c13:\n",
      "['A' 'B' 'C' 'D' 'E' 'F' 'G' 'H' 'I']\n",
      "c14:\n",
      "['N' 'O' 'Y']\n",
      "c15:\n",
      "[ 0.  1.  2. nan]\n",
      "c17:\n",
      "['A' 'B' 'C' 'F']\n",
      "c18:\n",
      "[ 0.  1.  2.  3. nan]\n",
      "c19:\n",
      "[ 1.  2.  3.  4.  5.  6.  7.  8. nan]\n",
      "c20:\n",
      "['N' 'O' 'Y']\n",
      "c21:\n",
      "['N' 'O' 'Y']\n",
      "c22:\n",
      "['E' 'F']\n",
      "c23:\n",
      "['N' 'Y']\n",
      "c24:\n",
      "['N' 'Y']\n",
      "c25:\n",
      "['A' 'B' 'C' 'D' 'E' 'F']\n",
      "c27:\n",
      "[ 0.  1.  2.  3.  4.  5.  6.  7.  8. nan]\n",
      "c28:\n",
      "['A' 'B' 'C']\n",
      "c29:\n",
      "['A' 'B' 'C']\n",
      "c30:\n",
      "['A' 'B' 'C']\n",
      "c31:\n",
      "['A' 'B' 'C']\n",
      "c32:\n",
      "['A' 'B' 'C']\n",
      "c33:\n",
      "['A' 'B' 'C']\n",
      "c36:\n",
      "['N' 'Y']\n",
      "c37:\n",
      "['N' 'Y']\n",
      "Var54:\n",
      "[0 1 2 3 4 5]\n",
      "Var56:\n",
      "['A' 'B']\n",
      "Var02: 37 unique values\n",
      "Var04:\n",
      "[ 0  1  3  4  7  9 11 13 15 17 19 21 23 26 28 30 32 33 35 36 37 38 39]\n",
      "Var05: 37 unique values\n",
      "Var06:\n",
      "[ 8 17 20 22 23 24 30 35 36 37 38 39]\n",
      "Var08:\n",
      "[ 0  6 15 20 24 26 28 29 31 32 33 34 35 36 37 38 39]\n",
      "Var09:\n",
      "[ 6 16 21 24 26 28 29 31 32 33 34 35 36 37 38 39]\n",
      "Var12: 41 unique values\n",
      "Var15:\n",
      "[ 0  1  2  3  5  6  7  8 10 14 17 18 20 22 23 24 25 27 29 30 33 35 36 37\n",
      " 38 39]\n",
      "Var16:\n",
      "[ 5 12 16 18 20 21 22 23 30 36 37 38 39]\n",
      "Var18: 38 unique values\n",
      "Var22:\n",
      "[ 0  1  3  4  5  6  7  8 24]\n",
      "Var24:\n",
      "[ 0  1 20]\n",
      "c04:\n",
      "[ 0.  2.  5.  7. 10. 14. 17. 22. 26. 30. 33. 37. nan]\n",
      "c05:\n",
      "[ 3. 10. 14. 16. 18. 19. 20. 21. 22. 23. 24. 25. 26. 27. 28. 29. 30. 31.\n",
      " 32. 33. 34. 35. 36. 37. 38. 39. nan]\n",
      "c16:\n",
      "[ 0.  1.  2.  3.  5.  8. 11. 15. 18. 21. 24. 27. 30. 32. 34. 36. 37. 39.\n",
      " nan]\n",
      "c26:\n",
      "[ 0.  1.  2.  3.  4.  5.  6.  7.  8.  9. 21. 35. 37. 38. 39. nan]\n",
      "c34:\n",
      "[ 0. 20. 39. nan]\n",
      "c35:\n",
      "[ 0. 19. 39. nan]\n",
      "c38:\n",
      "[ 5. 14. 21. 25. 28. 30. 32. 33. 34. 35. 36. 37. 38. 39. nan]\n",
      "c39:\n",
      "[17. 35. 38. 39. nan]\n",
      "c40:\n",
      "[13. 31. 36. 37. 38. 39. nan]\n",
      "id: 13703 unique values\n",
      "train:\n",
      "['N']\n"
     ]
    }
   ],
   "source": [
    "# Look at some of the unique values within each variable | test set\n",
    "for col in list(data_test.columns):\n",
    "    uniques = data_test[col].unique() # get a list of unique values  \n",
    "    uniques.sort()\n",
    "    # if number of unique values is less than 30, print the values. Otherwise print the number of unique values\n",
    "    if len(uniques)<30:\n",
    "        print(col + ':')\n",
    "        print(uniques)\n",
    "    else:\n",
    "        print(col + ': ' + str(len(uniques)) + ' unique values')"
   ]
  },
  {
   "cell_type": "markdown",
   "metadata": {},
   "source": [
    "#### Impute missing values\n",
    "<p> We use a simply way: impute all missing values for categorical data with \"Missing\", impute all missing values for numerical data with 0."
   ]
  },
  {
   "cell_type": "code",
   "execution_count": 26,
   "metadata": {},
   "outputs": [],
   "source": [
    "## categorical variables\n",
    "# cat_data = data_train.select_dtypes(include=['object'].copy())\n",
    "cat_list = list(data_train.select_dtypes(include=['object']).copy())"
   ]
  },
  {
   "cell_type": "code",
   "execution_count": 27,
   "metadata": {
    "scrolled": true
   },
   "outputs": [
    {
     "name": "stdout",
     "output_type": "stream",
     "text": [
      "['Var01', 'Var03', 'Var11', 'Var13', 'Var14', 'Var19', 'Var20', 'Var21', 'Var23', 'Var25', 'Var48', 'Var49', 'Var51', 'Var52', 'Var53', 'Var55', 'c01', 'c02', 'c03', 'c06', 'c07', 'c13', 'c14', 'c17', 'c20', 'c21', 'c22', 'c23', 'c24', 'c25', 'c28', 'c29', 'c30', 'c31', 'c32', 'c33', 'c36', 'c37', 'Var56', 'train']\n"
     ]
    }
   ],
   "source": [
    "print(cat_list)"
   ]
  },
  {
   "cell_type": "code",
   "execution_count": 43,
   "metadata": {},
   "outputs": [],
   "source": [
    "data_ = data.copy()\n",
    "data_[cat_list] = data_[cat_list].fillna(\"Missing\") # impute all missing values for categorical data with \"Missing\"\n",
    "data_ = data_.fillna(0) # impute all missing values for numerical data with 0"
   ]
  },
  {
   "cell_type": "code",
   "execution_count": 44,
   "metadata": {},
   "outputs": [
    {
     "name": "stdout",
     "output_type": "stream",
     "text": [
      "uniqueID: 849534 unique values\n",
      "Var01:\n",
      "['A' 'B' 'C']\n",
      "Var03:\n",
      "['A' 'B' 'C' 'D' 'E' 'F' 'G' 'H' 'I' 'J' 'L' 'N' 'P' 'Q' 'Z']\n",
      "Var07:\n",
      "[0 1 2 3 4 5]\n",
      "Var10:\n",
      "[-1.  0.  1.  2.  3.  4.  5.  6.  7.  8.  9. 10. 11. 12. 13. 14. 15. 16.\n",
      " 17.]\n",
      "Var11:\n",
      "['A' 'B' 'C' 'D' 'E' 'F' 'G' 'Z']\n",
      "Var13:\n",
      "['A' 'B' 'C' 'D' 'E' 'F' 'G' 'H' 'I' 'J' 'K' 'L' 'M' 'N' 'O' 'P' 'Q' 'R'\n",
      " 'S' 'Z']\n",
      "Var14:\n",
      "['A' 'B' 'C' 'D' 'E' 'F' 'Z']\n",
      "Var19:\n",
      "['A' 'B' 'C' 'D' 'E' 'F' 'G' 'Z']\n",
      "Var20:\n",
      "['A' 'B']\n",
      "Var21:\n",
      "['A' 'B' 'C' 'D' 'Z']\n",
      "Var23:\n",
      "['A' 'B' 'C' 'Z']\n",
      "Var25:\n",
      "['A' 'B' 'C' 'D' 'E' 'F' 'G' 'H' 'I' 'J' 'K' 'L' 'M' 'Z']\n",
      "Var26:\n",
      "[ 0.  1.  2.  3.  4.  5.  6.  7.  8.  9. 10. 11. 12. 13. 14. 15. 16. 17.\n",
      " 18. 19. 20.]\n",
      "Var27:\n",
      "[-1.  0.  1.  2.  3.  4.  5.  6.  7.  8.  9. 10. 11. 12. 13. 14. 15. 16.\n",
      " 17.]\n",
      "Var28:\n",
      "[ 0.  1.  2.  3.  4.  5.  6.  7.  8.  9. 10. 11. 12. 13. 14. 15.]\n",
      "Var29:\n",
      "[-1.  0.  1.  2.  3.  4.  5.  6.  7.  8.  9. 10. 11. 12. 13. 14. 15. 16.\n",
      " 17.]\n",
      "Var30:\n",
      "[0 1 2 3]\n",
      "Var31:\n",
      "[0 1 2 3]\n",
      "Var32:\n",
      "[0 1 2 3]\n",
      "Var33:\n",
      "[0 1 2 3]\n",
      "Var34:\n",
      "[0 1 2 3]\n",
      "Var35:\n",
      "[0 1 2 3 4 5]\n",
      "Var42:\n",
      "[0 1 2 3]\n",
      "pred_s: 100 unique values\n",
      "Var47:\n",
      "[0. 1.]\n",
      "Var48:\n",
      "['A' 'B' 'C' 'D' 'E' 'F' 'G' 'H' 'I' 'J' 'K' 'L' 'M' 'N' 'O' 'P' 'Q']\n",
      "Var49:\n",
      "['A' 'B']\n",
      "Var50:\n",
      "[1 2 3 4 5]\n",
      "Var51:\n",
      "['A' 'B' 'C' 'D' 'E' 'F' 'G' 'H' 'I' 'J' 'L' 'M' 'N' 'P' 'Q' 'Z']\n",
      "Var52:\n",
      "['A' 'B']\n",
      "Var53:\n",
      "['A' 'B' 'C' 'D' 'E' 'F' 'X']\n",
      "Var55:\n",
      "['A' 'B' 'C' 'D' 'E' 'F' 'G' 'X']\n",
      "c01:\n",
      "['A' 'B' 'C' 'D' 'F' 'G' 'H']\n",
      "c02:\n",
      "['A' 'B' 'C' 'D' 'E' 'F' 'G' 'H']\n",
      "c03:\n",
      "['A' 'B' 'C' 'D' 'E' 'F' 'G' 'H' 'I' 'J' 'K' 'L']\n",
      "c06:\n",
      "['N' 'Y']\n",
      "c07:\n",
      "['N' 'Y']\n",
      "c08:\n",
      "[0. 1. 2. 3.]\n",
      "c09:\n",
      "[0. 1. 2. 3.]\n",
      "c10:\n",
      "[0. 1.]\n",
      "c11:\n",
      "[0. 1. 2.]\n",
      "c12:\n",
      "[0. 1. 2.]\n",
      "c13:\n",
      "['A' 'B' 'C' 'D' 'E' 'F' 'G' 'H' 'I']\n",
      "c14:\n",
      "['N' 'O' 'Y']\n",
      "c15:\n",
      "[0. 1. 2.]\n",
      "c17:\n",
      "['A' 'B' 'C' 'E' 'F']\n",
      "c18:\n",
      "[0. 1. 2. 3.]\n",
      "c19:\n",
      "[0. 1. 2. 3. 4. 5. 6. 7. 8.]\n",
      "c20:\n",
      "['N' 'O' 'Y']\n",
      "c21:\n",
      "['N' 'O' 'Y']\n",
      "c22:\n",
      "['E' 'F']\n",
      "c23:\n",
      "['N' 'Y']\n",
      "c24:\n",
      "['N' 'Y']\n",
      "c25:\n",
      "['A' 'B' 'C' 'D' 'E' 'F']\n",
      "c27:\n",
      "[0. 1. 2. 3. 4. 5. 6. 7. 8.]\n",
      "c28:\n",
      "['A' 'B' 'C']\n",
      "c29:\n",
      "['A' 'B' 'C']\n",
      "c30:\n",
      "['A' 'B' 'C']\n",
      "c31:\n",
      "['A' 'B' 'C']\n",
      "c32:\n",
      "['A' 'B' 'C']\n",
      "c33:\n",
      "['A' 'B' 'C']\n",
      "c36:\n",
      "['N' 'Y']\n",
      "c37:\n",
      "['N' 'Y']\n",
      "Var54:\n",
      "[0 1 2 3 4 5]\n",
      "Var56:\n",
      "['A' 'B']\n",
      "Var02: 36 unique values\n",
      "Var04:\n",
      "[ 0  1  3  4  7  9 11 13 15 17 19 21 23 26 28 30 32 33 35 36 37 38 39]\n",
      "Var05: 37 unique values\n",
      "Var06:\n",
      "[ 8 17 20 22 23 24 30 35 36 37 38 39]\n",
      "Var08:\n",
      "[ 0  6 15 20 24 26 28 29 31 32 33 34 35 36 37 38 39]\n",
      "Var09:\n",
      "[ 6 16 21 24 26 28 29 31 32 33 34 35 36 37 38 39]\n",
      "Var12: 40 unique values\n",
      "Var15:\n",
      "[ 0  1  2  3  5  6  7  8 10 14 17 18 20 22 23 24 25 27 29 30 33 35 36 37\n",
      " 38 39]\n",
      "Var16:\n",
      "[ 5 12 16 18 20 21 22 23 30 36 37 38 39]\n",
      "Var18: 38 unique values\n",
      "Var22:\n",
      "[ 0  1  3  4  5  6  7  8 24]\n",
      "Var24:\n",
      "[ 0  1 20]\n",
      "c04:\n",
      "[ 0.  2.  5.  7. 10. 14. 17. 22. 26. 30. 33. 37.]\n",
      "c05:\n",
      "[ 0.  3. 10. 14. 16. 18. 19. 20. 21. 22. 23. 24. 25. 26. 27. 28. 29. 30.\n",
      " 31. 32. 33. 34. 35. 36. 37. 38. 39.]\n",
      "c16:\n",
      "[ 0.  1.  2.  3.  5.  8. 11. 15. 18. 21. 24. 27. 30. 32. 34. 36. 37. 39.]\n",
      "c26:\n",
      "[ 0.  1.  2.  3.  4.  5.  6.  7.  8.  9. 21. 35. 37. 38. 39.]\n",
      "c34:\n",
      "[ 0. 20. 39.]\n",
      "c35:\n",
      "[ 0. 19. 39.]\n",
      "c38:\n",
      "[ 0.  5. 14. 21. 25. 28. 30. 32. 33. 34. 35. 36. 37. 38. 39.]\n",
      "c39:\n",
      "[ 0. 17. 35. 38. 39.]\n",
      "c40:\n",
      "[ 0. 13. 31. 36. 37. 38. 39.]\n",
      "id: 36428 unique values\n",
      "train:\n",
      "['N' 'Y']\n"
     ]
    }
   ],
   "source": [
    "## Look at some of the unique values within each variable | traning set after imput missing values\n",
    "for col in list(data_.columns):\n",
    "    uniques = data_[col].unique() # get a list of unique values  \n",
    "    uniques.sort()\n",
    "    # if number of unique values is less than 30, print the values. Otherwise print the number of unique values\n",
    "    if len(uniques)<30:\n",
    "        print(col + ':')\n",
    "        print(uniques)\n",
    "    else:\n",
    "        print(col + ': ' + str(len(uniques)) + ' unique values')"
   ]
  },
  {
   "cell_type": "markdown",
   "metadata": {},
   "source": [
    "#### Select input data for training models"
   ]
  },
  {
   "cell_type": "code",
   "execution_count": 45,
   "metadata": {},
   "outputs": [
    {
     "name": "stdout",
     "output_type": "stream",
     "text": [
      "['uniqueID', 'Var01', 'Var03', 'Var07', 'Var10', 'Var11', 'Var13', 'Var14', 'Var19', 'Var20', 'Var21', 'Var23', 'Var25', 'Var26', 'Var27', 'Var28', 'Var29', 'Var30', 'Var31', 'Var32', 'Var33', 'Var34', 'Var35', 'Var42', 'pred_s', 'Var47', 'Var48', 'Var49', 'Var50', 'Var51', 'Var52', 'Var53', 'Var55', 'c01', 'c02', 'c03', 'c06', 'c07', 'c08', 'c09', 'c10', 'c11', 'c12', 'c13', 'c14', 'c15', 'c17', 'c18', 'c19', 'c20', 'c21', 'c22', 'c23', 'c24', 'c25', 'c27', 'c28', 'c29', 'c30', 'c31', 'c32', 'c33', 'c36', 'c37', 'Var54', 'Var56', 'Var02', 'Var04', 'Var05', 'Var06', 'Var08', 'Var09', 'Var12', 'Var15', 'Var16', 'Var18', 'Var22', 'Var24', 'c04', 'c05', 'c16', 'c26', 'c34', 'c35', 'c38', 'c39', 'c40', 'id', 'train']\n"
     ]
    }
   ],
   "source": [
    "print(list(data_))"
   ]
  },
  {
   "cell_type": "code",
   "execution_count": 31,
   "metadata": {},
   "outputs": [],
   "source": [
    "## setting the inputs the output for our classification task\n",
    "target = ['Var47']\n",
    "\n",
    "features0 = ['Var01', 'Var03', 'Var07', 'Var10', 'Var11', 'Var13',\n",
    "             'Var14', 'Var19', 'Var20', 'Var21', 'Var23', 'Var25', 'Var26',\n",
    "             'Var27', 'Var28', 'Var29', 'Var30', 'Var31', 'Var32', 'Var33', \n",
    "             'Var34', 'Var35', 'Var42', 'Var48', 'Var49', \n",
    "             'Var50', 'Var51', 'Var52', 'Var53', 'Var55', \n",
    "             'c01', 'c02', 'c03', 'c06', 'c07', 'c08', 'c09', 'c10', 'c11', 'c12', \n",
    "             'c13', 'c14', 'c15', 'c17', 'c18', 'c19', 'c20', 'c21', 'c22', 'c23', \n",
    "             'c24', 'c25', 'c27', 'c28', 'c29', 'c30', 'c31', 'c32', 'c33', 'c36', 'c37', \n",
    "             'Var54', 'Var56', 'Var02', 'Var04', 'Var05', 'Var06', 'Var08', 'Var09', \n",
    "             'Var12', 'Var15', 'Var16', 'Var18', 'Var22', 'Var24', \n",
    "             'c04', 'c05', 'c16', 'c26', 'c34', 'c35', 'c38', 'c39', 'c40']"
   ]
  },
  {
   "cell_type": "markdown",
   "metadata": {},
   "source": [
    "#### Reshape data and OneHot encoding"
   ]
  },
  {
   "cell_type": "code",
   "execution_count": null,
   "metadata": {},
   "outputs": [],
   "source": [
    "X0 = data_[features0]\n",
    "# X0 = data.drop(droplist1, axis=1, inplace=True)"
   ]
  },
  {
   "cell_type": "code",
   "execution_count": null,
   "metadata": {},
   "outputs": [],
   "source": []
  },
  {
   "cell_type": "markdown",
   "metadata": {},
   "source": [
    "#### X_train  & y_train"
   ]
  },
  {
   "cell_type": "code",
   "execution_count": 32,
   "metadata": {},
   "outputs": [],
   "source": [
    "X0_train = data_train_[features0]\n",
    "# X0 = data.drop(droplist1, axis=1, inplace=True)"
   ]
  },
  {
   "cell_type": "code",
   "execution_count": 33,
   "metadata": {},
   "outputs": [],
   "source": [
    "## Onehot encoding\n",
    "X0_train_ohe = pd.get_dummies(X0_train)"
   ]
  },
  {
   "cell_type": "code",
   "execution_count": 34,
   "metadata": {},
   "outputs": [],
   "source": [
    "# X0_ohe_df.head().transpose()\n",
    "# ## X0_ohe.to_csv (\"../final_project_data/insurance_X0_ohe.csv\", index = None, header=True)"
   ]
  },
  {
   "cell_type": "code",
   "execution_count": 35,
   "metadata": {},
   "outputs": [],
   "source": [
    "X0_train = X0_train_ohe.fillna(0).values\n",
    "y0_train = data_train[target].values"
   ]
  },
  {
   "cell_type": "markdown",
   "metadata": {},
   "source": [
    "#### X_test & y_test"
   ]
  },
  {
   "cell_type": "code",
   "execution_count": 36,
   "metadata": {},
   "outputs": [],
   "source": [
    "data_test_ = data_test.copy()\n",
    "# impute all missing values for categorical data with \"Missing\"\n",
    "data_test_[cat_list] = data_test_[cat_list].fillna(\"Missing\") \n",
    "# impute all missing values for numerical data with 0\n",
    "data_test_ = data_test_.fillna(0) "
   ]
  },
  {
   "cell_type": "code",
   "execution_count": 38,
   "metadata": {},
   "outputs": [],
   "source": [
    "X0_test = data_test_[features0]\n",
    "X0_test_ohe = pd.get_dummies(X0_test) # Onehot encoding"
   ]
  },
  {
   "cell_type": "code",
   "execution_count": 39,
   "metadata": {},
   "outputs": [],
   "source": [
    "X0_test = X0_test_ohe.fillna(0).values\n",
    "y0_test = data_test[target].values"
   ]
  },
  {
   "cell_type": "code",
   "execution_count": 40,
   "metadata": {},
   "outputs": [
    {
     "name": "stdout",
     "output_type": "stream",
     "text": [
      "Train (1646270, 273) (1646270, 1)\n",
      "Test (147865, 254) (1646270, 1)\n"
     ]
    }
   ],
   "source": [
    "print(\"Train\", X0_train.shape, y0_train.shape)\n",
    "print(\"Test\", X0_test.shape, y0_train.shape)"
   ]
  },
  {
   "cell_type": "markdown",
   "metadata": {},
   "source": [
    "## 2.1 Linear Classifier"
   ]
  },
  {
   "cell_type": "code",
   "execution_count": 41,
   "metadata": {},
   "outputs": [],
   "source": [
    "# prepare Logistic Regression classifier\n",
    "from sklearn.linear_model import LogisticRegression\n",
    "logit_clf = LogisticRegression(tol=0.0001, C=1.0, random_state=42, max_iter=100)  "
   ]
  },
  {
   "cell_type": "code",
   "execution_count": 42,
   "metadata": {},
   "outputs": [
    {
     "name": "stderr",
     "output_type": "stream",
     "text": [
      "/anaconda3/lib/python3.6/site-packages/sklearn/utils/validation.py:761: DataConversionWarning: A column-vector y was passed when a 1d array was expected. Please change the shape of y to (n_samples, ), for example using ravel().\n",
      "  y = column_or_1d(y, warn=True)\n"
     ]
    },
    {
     "ename": "ValueError",
     "evalue": "X has 254 features per sample; expecting 273",
     "output_type": "error",
     "traceback": [
      "\u001b[0;31m---------------------------------------------------------------------------\u001b[0m",
      "\u001b[0;31mValueError\u001b[0m                                Traceback (most recent call last)",
      "\u001b[0;32m<ipython-input-42-2ac9c6059023>\u001b[0m in \u001b[0;36m<module>\u001b[0;34m\u001b[0m\n\u001b[1;32m      2\u001b[0m \u001b[0mlogit_clf\u001b[0m\u001b[0;34m.\u001b[0m\u001b[0mfit\u001b[0m\u001b[0;34m(\u001b[0m\u001b[0mX0_train\u001b[0m\u001b[0;34m,\u001b[0m \u001b[0my0_train\u001b[0m\u001b[0;34m)\u001b[0m\u001b[0;34m\u001b[0m\u001b[0;34m\u001b[0m\u001b[0m\n\u001b[1;32m      3\u001b[0m \u001b[0my0_train_logit_pred\u001b[0m \u001b[0;34m=\u001b[0m \u001b[0mlogit_clf\u001b[0m\u001b[0;34m.\u001b[0m\u001b[0mpredict\u001b[0m\u001b[0;34m(\u001b[0m\u001b[0mX0_train\u001b[0m\u001b[0;34m)\u001b[0m\u001b[0;34m\u001b[0m\u001b[0;34m\u001b[0m\u001b[0m\n\u001b[0;32m----> 4\u001b[0;31m \u001b[0my0_test_logit_pred\u001b[0m \u001b[0;34m=\u001b[0m \u001b[0mlogit_clf\u001b[0m\u001b[0;34m.\u001b[0m\u001b[0mpredict\u001b[0m\u001b[0;34m(\u001b[0m\u001b[0mX0_test\u001b[0m\u001b[0;34m)\u001b[0m\u001b[0;34m\u001b[0m\u001b[0;34m\u001b[0m\u001b[0m\n\u001b[0m",
      "\u001b[0;32m/anaconda3/lib/python3.6/site-packages/sklearn/linear_model/base.py\u001b[0m in \u001b[0;36mpredict\u001b[0;34m(self, X)\u001b[0m\n\u001b[1;32m    279\u001b[0m             \u001b[0mPredicted\u001b[0m \u001b[0;32mclass\u001b[0m \u001b[0mlabel\u001b[0m \u001b[0mper\u001b[0m \u001b[0msample\u001b[0m\u001b[0;34m.\u001b[0m\u001b[0;34m\u001b[0m\u001b[0;34m\u001b[0m\u001b[0m\n\u001b[1;32m    280\u001b[0m         \"\"\"\n\u001b[0;32m--> 281\u001b[0;31m         \u001b[0mscores\u001b[0m \u001b[0;34m=\u001b[0m \u001b[0mself\u001b[0m\u001b[0;34m.\u001b[0m\u001b[0mdecision_function\u001b[0m\u001b[0;34m(\u001b[0m\u001b[0mX\u001b[0m\u001b[0;34m)\u001b[0m\u001b[0;34m\u001b[0m\u001b[0;34m\u001b[0m\u001b[0m\n\u001b[0m\u001b[1;32m    282\u001b[0m         \u001b[0;32mif\u001b[0m \u001b[0mlen\u001b[0m\u001b[0;34m(\u001b[0m\u001b[0mscores\u001b[0m\u001b[0;34m.\u001b[0m\u001b[0mshape\u001b[0m\u001b[0;34m)\u001b[0m \u001b[0;34m==\u001b[0m \u001b[0;36m1\u001b[0m\u001b[0;34m:\u001b[0m\u001b[0;34m\u001b[0m\u001b[0;34m\u001b[0m\u001b[0m\n\u001b[1;32m    283\u001b[0m             \u001b[0mindices\u001b[0m \u001b[0;34m=\u001b[0m \u001b[0;34m(\u001b[0m\u001b[0mscores\u001b[0m \u001b[0;34m>\u001b[0m \u001b[0;36m0\u001b[0m\u001b[0;34m)\u001b[0m\u001b[0;34m.\u001b[0m\u001b[0mastype\u001b[0m\u001b[0;34m(\u001b[0m\u001b[0mnp\u001b[0m\u001b[0;34m.\u001b[0m\u001b[0mint\u001b[0m\u001b[0;34m)\u001b[0m\u001b[0;34m\u001b[0m\u001b[0;34m\u001b[0m\u001b[0m\n",
      "\u001b[0;32m/anaconda3/lib/python3.6/site-packages/sklearn/linear_model/base.py\u001b[0m in \u001b[0;36mdecision_function\u001b[0;34m(self, X)\u001b[0m\n\u001b[1;32m    260\u001b[0m         \u001b[0;32mif\u001b[0m \u001b[0mX\u001b[0m\u001b[0;34m.\u001b[0m\u001b[0mshape\u001b[0m\u001b[0;34m[\u001b[0m\u001b[0;36m1\u001b[0m\u001b[0;34m]\u001b[0m \u001b[0;34m!=\u001b[0m \u001b[0mn_features\u001b[0m\u001b[0;34m:\u001b[0m\u001b[0;34m\u001b[0m\u001b[0;34m\u001b[0m\u001b[0m\n\u001b[1;32m    261\u001b[0m             raise ValueError(\"X has %d features per sample; expecting %d\"\n\u001b[0;32m--> 262\u001b[0;31m                              % (X.shape[1], n_features))\n\u001b[0m\u001b[1;32m    263\u001b[0m \u001b[0;34m\u001b[0m\u001b[0m\n\u001b[1;32m    264\u001b[0m         scores = safe_sparse_dot(X, self.coef_.T,\n",
      "\u001b[0;31mValueError\u001b[0m: X has 254 features per sample; expecting 273"
     ]
    }
   ],
   "source": [
    "# training and validation\n",
    "logit_clf.fit(X0_train, y0_train) \n",
    "y0_train_logit_pred = logit_clf.predict(X0_train)"
   ]
  },
  {
   "cell_type": "code",
   "execution_count": null,
   "metadata": {},
   "outputs": [],
   "source": [
    "y0_test_logit_pred = logit_clf.predict(X0_test)"
   ]
  },
  {
   "cell_type": "code",
   "execution_count": null,
   "metadata": {},
   "outputs": [],
   "source": [
    "print(\"Training Accuracy\",(y0_train_logit_pred  == y0_train).mean())\n",
    "print(\"Test Accuracy\",(y0_test_logit_pred  == y0_test).mean())"
   ]
  },
  {
   "cell_type": "markdown",
   "metadata": {},
   "source": [
    "## 2.2  Decision Tree Classifier"
   ]
  },
  {
   "cell_type": "code",
   "execution_count": null,
   "metadata": {},
   "outputs": [],
   "source": [
    "## prepare Random Forest classifier\n",
    "# from sklearn.linear_model import LinearRegression\n",
    "# from sklearn import tree\n",
    "from sklearn.ensemble import RandomForestClassifier\n",
    "rf_clf = RandomForestClassifier(random_state=42, max_depth = 20)"
   ]
  },
  {
   "cell_type": "code",
   "execution_count": null,
   "metadata": {},
   "outputs": [],
   "source": [
    "rf_clf.fit(X0_train, y0_train) \n",
    "y0_train_rf_pred = logit_rf.predict(X0_train)\n",
    "y0_test_rf_pred = logit_rf.predict(X0_test)\n",
    "\n",
    "print(\"Training Accuracy\",(y0_train_rf_pred  == y0_train).mean())\n",
    "print(\"Test Accuracy\",(y0_test_rf_pred  == y0_test).mean())"
   ]
  },
  {
   "cell_type": "code",
   "execution_count": null,
   "metadata": {},
   "outputs": [],
   "source": [
    "print(\"Random Forest Accuracy for Test Set:\", accuracy_score(y_test, rf_clf.predict(X_test)))"
   ]
  },
  {
   "cell_type": "markdown",
   "metadata": {},
   "source": [
    "## 2.3 Neural Nets"
   ]
  },
  {
   "cell_type": "code",
   "execution_count": null,
   "metadata": {},
   "outputs": [],
   "source": [
    "def reset_graph(seed=42):\n",
    "    tf.reset_default_graph()\n",
    "    tf.set_random_seed(seed)\n",
    "    np.random.seed(seed)"
   ]
  },
  {
   "cell_type": "code",
   "execution_count": null,
   "metadata": {},
   "outputs": [],
   "source": [
    "from datetime import datetime\n",
    "\n",
    "now = datetime.utcnow().strftime(\"%Y%m%d%H%M%S\")\n",
    "root_logdir = \".\"    \n",
    "logdir = \"{}//run-{}//\".format(root_logdir, now)"
   ]
  },
  {
   "cell_type": "code",
   "execution_count": null,
   "metadata": {},
   "outputs": [],
   "source": [
    "X_train = X0_train\n",
    "X_test = X0_test\n",
    "y_train = y0_train\n",
    "y_test = y0_test"
   ]
  },
  {
   "cell_type": "code",
   "execution_count": null,
   "metadata": {},
   "outputs": [],
   "source": [
    "## define validation and training sets\n",
    "X_test = X_test.astype(np.int32)\n",
    "y_train = y_train.astype(np.int32)\n",
    "y_test = y_test.astype(np.int32)\n",
    "X_valid, X_train = X_train[:100], X_train[100:]\n",
    "y_valid, y_train = y_train[:100], y_train[100:]\n",
    "\n",
    "\n",
    "n_inputs = 784  # number of features \n",
    "n_hidden1 = 147   \n",
    "n_hidden2 = 70   \n",
    "# dedfine more hidden layers\n",
    "n_hidden3 = 50\n",
    "n_outputs = 10 \n",
    "tf.reset_default_graph()   # reset graph\n",
    "\n",
    "\n",
    "# y place holder for output\n",
    "# auxialrry variable \n",
    "X = tf.placeholder(tf.float32, shape=(None, n_inputs), name=\"X\")\n",
    "y = tf.placeholder(tf.int32, shape=(None), name=\"y\")\n",
    "a = tf.placeholder(tf.float32,shape=(None),name='a')\n",
    "\n",
    "\n",
    "summary1 = tf.reduce_mean(a, name=\"summary1\")\n",
    "\n",
    "#layer of network takes input of neurones  \n",
    "def neuron_layer(X, n_neurons, name, activation=None):\n",
    "    with tf.name_scope(name):\n",
    "        n_inputs = int(X.get_shape()[1])\n",
    "        stddev = 2 / np.sqrt(n_inputs)\n",
    "        init = tf.truncated_normal((n_inputs, n_neurons), stddev=stddev)\n",
    "        W = tf.Variable(init, name=\"kernel\")\n",
    "        b = tf.Variable(tf.zeros([n_neurons]), name=\"bias\")\n",
    "        Z = tf.matmul(X, W) + b\n",
    "        if activation is not None:\n",
    "            return activation(Z)\n",
    "        else:\n",
    "            return Z\n",
    " \n",
    "\n",
    "with tf.name_scope(\"dnn\"):\n",
    "    hidden1 = neuron_layer(X, n_hidden1, name=\"hidden1\", activation=tf.nn.relu)\n",
    "    hidden2 = neuron_layer(hidden1, n_hidden2, name=\"hidden2\", activation=tf.nn.relu)\n",
    "    hidden3 = neuron_layer(hidden2, n_hidden3, name=\"hidden3\", activation=tf.nn.relu)\n",
    "    logits  = neuron_layer(hidden3, n_outputs, name=\"outputs\")\n",
    "\n",
    "with tf.name_scope(\"loss\"):\n",
    "    xentropy = tf.nn.sparse_softmax_cross_entropy_with_logits(labels=y, logits=logits)\n",
    "    loss = tf.reduce_mean(xentropy, name=\"loss\")\n",
    "\n",
    "#learning rate - change if issues regrading convergence or others happen\n",
    "learning_rate =1e-1\n",
    "with tf.name_scope(\"train\"):\n",
    "    optimizer = tf.train.AdagradOptimizer(learning_rate)\n",
    "    training_op = optimizer.minimize(loss)\n",
    "\n",
    "#define accuracy \n",
    "with tf.name_scope(\"accuracy\"):\n",
    "    correct = tf.nn.in_top_k(logits, y, 1)\n",
    "    accuracy = tf.reduce_mean(tf.cast(correct, tf.float32))\n",
    "\n",
    "#leave this\n",
    "def shuffle_batch(X, y, batch_size):\n",
    "    rnd_idx = np.random.permutation(len(X))\n",
    "    n_batches = len(X) // batch_size\n",
    "    for batch_idx in np.array_split(rnd_idx, n_batches):\n",
    "        X_batch, y_batch = X[batch_idx], y[batch_idx]\n",
    "        yield X_batch, y_batch"
   ]
  },
  {
   "cell_type": "code",
   "execution_count": null,
   "metadata": {},
   "outputs": [],
   "source": [
    "from random import randint\n",
    "n_epochs = 100  \n",
    "batch_size = 100   \n",
    "\n",
    "init = tf.global_variables_initializer()\n",
    "saver = tf.train.Saver()\n",
    "\n",
    "\n",
    "summary2 = tf.summary.scalar('Accuracy', summary1)\n",
    "file_writer = tf.summary.FileWriter(logdir , tf.get_default_graph())\n",
    "\n",
    "with tf.Session() as sess:\n",
    "    init.run()\n",
    "    acc_val = accuracy.eval(feed_dict={X: X_valid, y: y_valid})\n",
    "    print(\"Val accuracy init:\", acc_val)\n",
    "    for epoch in range(n_epochs):\n",
    "        for X_batch, y_batch in shuffle_batch(X_train, y_train, batch_size):\n",
    "            sess.run(training_op, feed_dict={X: X_batch, y: y_batch})\n",
    "        acc_batch = accuracy.eval(feed_dict={X: X_batch, y: y_batch})\n",
    "        acc_val = accuracy.eval(feed_dict={X: X_valid, y: y_valid})\n",
    "        print(epoch, \"Batch accuracy:\", acc_batch, \"Val accuracy:\", acc_val)\n",
    "        \n",
    "        summary_str = summary2.eval(feed_dict={a: acc_val })\n",
    "        file_writer.add_summary(summary_str, epoch)\n",
    "   \n",
    "    saver.save(sess, \"./insurance_dnn_model.ckpt\")   "
   ]
  },
  {
   "cell_type": "code",
   "execution_count": null,
   "metadata": {},
   "outputs": [],
   "source": [
    "with tf.Session() as sess:                         \n",
    "    saver.restore(sess, \"./insurance_dnn_model.ckpt\")   \n",
    "    Z = logits.eval(feed_dict={X: X_test})\n",
    "    y_test_dnn_pred = np.argmax(Z, axis=1)"
   ]
  }
 ],
 "metadata": {
  "kernelspec": {
   "display_name": "Python 3",
   "language": "python",
   "name": "python3"
  },
  "language_info": {
   "codemirror_mode": {
    "name": "ipython",
    "version": 3
   },
   "file_extension": ".py",
   "mimetype": "text/x-python",
   "name": "python",
   "nbconvert_exporter": "python",
   "pygments_lexer": "ipython3",
   "version": "3.6.8"
  }
 },
 "nbformat": 4,
 "nbformat_minor": 2
}
