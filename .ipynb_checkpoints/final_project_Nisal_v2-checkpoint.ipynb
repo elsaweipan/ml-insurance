{
 "cells": [
  {
   "cell_type": "markdown",
   "metadata": {
    "colab_type": "text",
    "id": "FWimgm78nH26"
   },
   "source": [
    "# 0. Basic Setup"
   ]
  },
  {
   "cell_type": "code",
   "execution_count": 0,
   "metadata": {
    "colab": {},
    "colab_type": "code",
    "id": "D2g7Lls1nkDo"
   },
   "outputs": [],
   "source": [
    "# # for colab\n",
    "# # !pip install -U -q PyDrive\n",
    "\n",
    "# from pydrive.auth import GoogleAuth\n",
    "# from pydrive.drive import GoogleDrive\n",
    "# from google.colab import auth\n",
    "# from oauth2client.client import GoogleCredentials\n",
    "\n",
    "# auth.authenticate_user()\n",
    "# gauth = GoogleAuth()\n",
    "# gauth.credentials = GoogleCredentials.get_application_default()\n",
    "# drive = GoogleDrive(gauth)\n",
    "\n",
    "# # your_module = drive.CreateFile({'id':'1yrSHUW4lfQ28WO5es2r4fc09AMAVxrJm'})\n",
    "# # your_module.GetContentFile('helpers.py')\n"
   ]
  },
  {
   "cell_type": "code",
   "execution_count": 0,
   "metadata": {
    "colab": {},
    "colab_type": "code",
    "id": "1kiGnJeEpuFe"
   },
   "outputs": [],
   "source": [
    "# # for colab\n",
    "# # Load the Drive helper and mount\n",
    "# from google.colab import drive\n",
    "\n",
    "# # This will prompt for authorization.\n",
    "# drive.mount('/content/drive')"
   ]
  },
  {
   "cell_type": "code",
   "execution_count": 0,
   "metadata": {
    "colab": {
     "base_uri": "https://localhost:8080/",
     "height": 34
    },
    "colab_type": "code",
    "id": "953KGzkPt4Pe",
    "outputId": "27bfa89b-458f-4043-f0ca-99163587e9a6"
   },
   "outputs": [
    {
     "name": "stdout",
     "output_type": "stream",
     "text": [
      "/content\n"
     ]
    }
   ],
   "source": [
    "# Import relevant packages\n",
    "import os\n",
    "import tarfile\n",
    "import pandas as pd\n",
    "import numpy as np\n",
    "import seaborn as sns\n",
    "import datetime\n",
    "from sklearn.preprocessing import PolynomialFeatures, StandardScaler\n",
    "\n",
    "np.random.seed(42)\n",
    "\n",
    "# To plot pretty figures\n",
    "%matplotlib inline\n",
    "import matplotlib\n",
    "import matplotlib.pyplot as plt\n",
    "plt.rcParams['axes.labelsize'] = 14\n",
    "plt.rcParams['xtick.labelsize'] = 12\n",
    "plt.rcParams['ytick.labelsize'] = 12\n",
    "\n",
    "# Ignore useless warnings (see SciPy issue #5998)\n",
    "import warnings\n",
    "warnings.filterwarnings(action=\"ignore\", message=\"^internal gelsd\")\n",
    "\n",
    "# Check where the current operating system directory is\n",
    "print(os.getcwd())"
   ]
  },
  {
   "cell_type": "code",
   "execution_count": 0,
   "metadata": {
    "colab": {},
    "colab_type": "code",
    "id": "dO8sctgTt4ZI"
   },
   "outputs": [],
   "source": [
    "# Get the training data  \n",
    "insurance_train = pd.read_csv('/content/drive/My Drive/Final Project_Nisal David Elsa/insurance_classification_data.csv')"
   ]
  },
  {
   "cell_type": "code",
   "execution_count": 0,
   "metadata": {
    "colab": {
     "base_uri": "https://localhost:8080/",
     "height": 1596
    },
    "colab_type": "code",
    "id": "xJX-1pUct4bp",
    "outputId": "97c4ff77-39b4-40db-d764-62ebce13a4de"
   },
   "outputs": [
    {
     "name": "stdout",
     "output_type": "stream",
     "text": [
      "<class 'pandas.core.frame.DataFrame'>\n",
      "RangeIndex: 1795672 entries, 0 to 1795671\n",
      "Data columns (total 89 columns):\n",
      "uniqueID    int64\n",
      "Var01       object\n",
      "Var03       object\n",
      "Var07       int64\n",
      "Var10       float64\n",
      "Var11       object\n",
      "Var13       object\n",
      "Var14       object\n",
      "Var19       object\n",
      "Var20       object\n",
      "Var21       object\n",
      "Var23       object\n",
      "Var25       object\n",
      "Var26       float64\n",
      "Var27       float64\n",
      "Var28       float64\n",
      "Var29       float64\n",
      "Var30       int64\n",
      "Var31       int64\n",
      "Var32       int64\n",
      "Var33       int64\n",
      "Var34       int64\n",
      "Var35       int64\n",
      "Var42       int64\n",
      "pred_s      float64\n",
      "Var47       float64\n",
      "Var48       object\n",
      "Var49       object\n",
      "Var50       int64\n",
      "Var51       object\n",
      "Var52       object\n",
      "Var53       object\n",
      "Var55       object\n",
      "c01         object\n",
      "c02         object\n",
      "c03         object\n",
      "c06         object\n",
      "c07         object\n",
      "c08         float64\n",
      "c09         float64\n",
      "c10         float64\n",
      "c11         float64\n",
      "c12         float64\n",
      "c13         object\n",
      "c14         object\n",
      "c15         float64\n",
      "c17         object\n",
      "c18         float64\n",
      "c19         float64\n",
      "c20         object\n",
      "c21         object\n",
      "c22         object\n",
      "c23         object\n",
      "c24         object\n",
      "c25         object\n",
      "c27         float64\n",
      "c28         object\n",
      "c29         object\n",
      "c30         object\n",
      "c31         object\n",
      "c32         object\n",
      "c33         object\n",
      "c36         object\n",
      "c37         object\n",
      "Var54       int64\n",
      "Var56       object\n",
      "Var02       float64\n",
      "Var04       int64\n",
      "Var05       int64\n",
      "Var06       int64\n",
      "Var08       int64\n",
      "Var09       int64\n",
      "Var12       float64\n",
      "Var15       int64\n",
      "Var16       int64\n",
      "Var18       int64\n",
      "Var22       int64\n",
      "Var24       int64\n",
      "c04         float64\n",
      "c05         float64\n",
      "c16         float64\n",
      "c26         float64\n",
      "c34         float64\n",
      "c35         float64\n",
      "c38         float64\n",
      "c39         float64\n",
      "c40         float64\n",
      "id          float64\n",
      "train       object\n",
      "dtypes: float64(28), int64(21), object(40)\n",
      "memory usage: 1.2+ GB\n"
     ]
    }
   ],
   "source": [
    "# Check the data types and number of entries for each feature for the training set. \n",
    "\n",
    "insurance_train.info()"
   ]
  },
  {
   "cell_type": "code",
   "execution_count": 0,
   "metadata": {
    "colab": {
     "base_uri": "https://localhost:8080/",
     "height": 3024
    },
    "colab_type": "code",
    "id": "gNC-Xfj3t4eD",
    "outputId": "95632259-5252-4b6b-8e69-a7cd8cc29ca0"
   },
   "outputs": [
    {
     "name": "stdout",
     "output_type": "stream",
     "text": [
      "uniqueID: 849534 unique values\n",
      "Var01:\n",
      "['A' 'B' 'C']\n",
      "Var03:\n",
      "['A' 'B' 'Q' 'G' 'H' 'C' 'D' 'F' 'E' 'L' 'N' 'Z' 'I' 'P' 'J']\n",
      "Var07:\n",
      "[0 1 4 3 2 5]\n",
      "Var10:\n",
      "[ 2.  5.  4.  6.  7.  8.  9. 10. 12. 11.  1.  3. 14. 15. 13. -1. 17. 16.\n",
      " nan]\n",
      "Var11:\n",
      "['B' 'A' 'E' 'D' 'C' 'G' 'F' 'Z']\n",
      "Var13:\n",
      "['A' 'E' 'I' 'F' 'B' 'D' 'L' 'C' 'G' 'J' 'N' 'K' 'M' 'Q' 'P' 'Z' 'H' 'O'\n",
      " 'S' 'R']\n",
      "Var14:\n",
      "['A' 'B' 'C' 'E' 'D' 'Z' 'F']\n",
      "Var19:\n",
      "['C' 'A' 'F' 'B' 'E' 'D' 'G' 'Z']\n",
      "Var20:\n",
      "['B' 'A']\n",
      "Var21:\n",
      "['A' 'D' 'C' 'B' 'Z']\n",
      "Var23:\n",
      "['A' 'Z' 'C' 'B']\n",
      "Var25:\n",
      "['F' 'G' 'B' 'C' 'A' 'K' 'M' 'J' 'I' 'H' 'E' 'L' 'D' 'Z']\n",
      "Var26:\n",
      "[15. 13.  8.  6. 11. 18. 10.  7. 14. 17.  2. 19.  9. 12.  5.  1.  3. 20.\n",
      " 16.  4. nan]\n",
      "Var27:\n",
      "[16.  8.  5.  1. 13.  9.  6.  3. 15.  2.  4. 17. 10. 12. 14. -1.  7. 11.\n",
      " nan]\n",
      "Var28:\n",
      "[ 9.  6. 12. 10.  8.  4.  7.  1. 11.  2.  5. 15. 14. 13.  3. nan]\n",
      "Var29:\n",
      "[10.  8.  4.  2.  1. 14.  6.  3. 16.  5. 12.  9. -1. 11. 13.  7. 15. 17.\n",
      " nan]\n",
      "Var30:\n",
      "[0 1 3 2]\n",
      "Var31:\n",
      "[0 1 2 3]\n",
      "Var32:\n",
      "[0 1 3 2]\n",
      "Var33:\n",
      "[0 1 2 3]\n",
      "Var34:\n",
      "[0 2 1 3]\n",
      "Var35:\n",
      "[0 1 3 2 4 5]\n",
      "Var42:\n",
      "[0 1 2 3]\n",
      "pred_s: 101 unique values\n",
      "Var47:\n",
      "[ 1.  0. nan]\n",
      "Var48:\n",
      "['I' 'F' 'M' 'L' 'H' 'B' 'O' 'N' 'P' 'K' 'J' 'D' 'C' 'A' 'Q' 'E' 'G']\n",
      "Var49:\n",
      "['A' 'B']\n",
      "Var50:\n",
      "[2 1 3 5 4]\n",
      "Var51:\n",
      "['A' 'B' 'Q' 'C' 'D' 'G' 'E' 'L' 'H' 'N' 'F' 'I' 'Z' 'P' 'M' 'J']\n",
      "Var52:\n",
      "['A' 'B']\n",
      "Var53:\n",
      "['A' 'F' 'B' 'E' 'C' 'D' 'X']\n",
      "Var55:\n",
      "['D' 'E' 'B' 'G' 'F' 'A' 'X' 'C']\n",
      "c01:\n",
      "['B' 'D' 'A' 'H' 'F' 'G' 'C']\n",
      "c02:\n",
      "['H' 'A' 'C' 'E' 'B' 'G' 'D' 'F']\n",
      "c03:\n",
      "['H' 'B' 'G' 'A' 'E' 'C' 'D' 'K' 'L' 'F' 'I' 'J']\n",
      "c06:\n",
      "['N' 'Y']\n",
      "c07:\n",
      "['N' 'Y']\n",
      "c08:\n",
      "[ 0. nan  1.  3.  2.]\n",
      "c09:\n",
      "[ 0. nan  1.  3.  2.]\n",
      "c10:\n",
      "[ 0. nan  1.]\n",
      "c11:\n",
      "[ 0. nan  1.  2.]\n",
      "c12:\n",
      "[ 0.  2.  1. nan]\n",
      "c13:\n",
      "['D' 'C' 'A' 'H' 'B' 'F' 'G' 'E' 'I']\n",
      "c14:\n",
      "['N' 'O' 'Y']\n",
      "c15:\n",
      "[ 0. nan  1.  2.]\n",
      "c17:\n",
      "['A' 'F' 'B' 'C' 'E']\n",
      "c18:\n",
      "[ 1.  0. nan  2.  3.]\n",
      "c19:\n",
      "[ 7.  3.  2.  4.  1. nan  6.  5.  8.]\n",
      "c20:\n",
      "['Y' 'N' 'O']\n",
      "c21:\n",
      "['N' 'O' 'Y']\n",
      "c22:\n",
      "['F' 'E']\n",
      "c23:\n",
      "['N' 'Y']\n",
      "c24:\n",
      "['N' 'Y']\n",
      "c25:\n",
      "['A' 'F' 'D' 'C' 'E' 'B']\n",
      "c27:\n",
      "[ 3.  0.  4.  6.  1.  2.  5.  7. nan  8.]\n",
      "c28:\n",
      "['A' 'C' 'B']\n",
      "c29:\n",
      "['A' 'C' 'B']\n",
      "c30:\n",
      "['A' 'C' 'B']\n",
      "c31:\n",
      "['A' 'B' 'C']\n",
      "c32:\n",
      "['B' 'A' 'C']\n",
      "c33:\n",
      "['A' 'C' 'B']\n",
      "c36:\n",
      "['N' 'Y']\n",
      "c37:\n",
      "['N' 'Y']\n",
      "Var54:\n",
      "[5 3 0 2 1 4]\n",
      "Var56:\n",
      "['A' 'B']\n",
      "Var02: 37 unique values\n",
      "Var04:\n",
      "[37 38 35 30 26 28 19 23 21 17  9 13  7 11 15  3  4  0  1 32 33 36 39]\n",
      "Var05: 37 unique values\n",
      "Var06:\n",
      "[ 8 30 38 20 39 24 23 36 35 17 37 22]\n",
      "Var08:\n",
      "[36 39 33  6 32 31 15 20 35 26 29 28 34 24 37 38  0]\n",
      "Var09:\n",
      "[36 39 33  6 32 31 16 21 35 26 29 28 34 24 37 38]\n",
      "Var12: 41 unique values\n",
      "Var15:\n",
      "[33  5  0 39 22 14  2  1  8  7 20 27 36 37 29 38 23 25 10 30  3  6 24 18\n",
      " 17 35]\n",
      "Var16:\n",
      "[30 38  5 36 37 39 16 20 23 22 12 18 21]\n",
      "Var18: 38 unique values\n",
      "Var22:\n",
      "[24  1  5  6  4  8  7  3  0]\n",
      "Var24:\n",
      "[20  1  0]\n",
      "c04:\n",
      "[nan 10. 30. 37. 33. 17.  2. 14.  0. 26.  5. 22.  7.]\n",
      "c05:\n",
      "[28. 29. 24. 33. nan  3. 26. 20. 31. 36. 23. 10. 21. 16. 14. 35. 37. 30.\n",
      " 25. 39. 18. 34. 22. 38. 27. 19. 32.]\n",
      "c16:\n",
      "[ 8. 21. 24. 18. 32. nan 30. 11. 15. 34. 37. 27. 36.  1. 39.  2.  5.  3.\n",
      "  0.]\n",
      "c26:\n",
      "[21. 39.  1. 35.  7. 37.  6.  3. 38. nan  0.  4.  5.  9.  8.  2.]\n",
      "c34:\n",
      "[20.  0. 39. nan]\n",
      "c35:\n",
      "[19.  0. nan 39.]\n",
      "c38:\n",
      "[14.  5. 30. nan 36. 21. 28. 25. 32. 35. 38. 33. 37. 39. 34.]\n",
      "c39:\n",
      "[17. nan 38. 35. 39.]\n",
      "c40:\n",
      "[13. 31. 36. nan 37. 39. 38.]\n",
      "id: 36428 unique values\n",
      "train:\n",
      "['Y' 'N']\n"
     ]
    }
   ],
   "source": [
    "# Look at some of the unique values within each variable\n",
    "for col in list(insurance_train.columns):\n",
    "    \n",
    "    # get a list of unique values\n",
    "    uniques = insurance_train[col].unique()\n",
    "    \n",
    "    # if number of unique values is less than 30, print the values. Otherwise print the number of unique values\n",
    "    if len(uniques)<30:\n",
    "        print(col + ':')\n",
    "        print(uniques)\n",
    "    else:\n",
    "        print(col + ': ' +str(len(uniques)) + ' unique values')"
   ]
  },
  {
   "cell_type": "code",
   "execution_count": 0,
   "metadata": {
    "colab": {
     "base_uri": "https://localhost:8080/",
     "height": 118
    },
    "colab_type": "code",
    "id": "PfAcOKOXt4gX",
    "outputId": "4fc9040d-13d8-4b20-a40b-28406f73f9ba"
   },
   "outputs": [
    {
     "name": "stderr",
     "output_type": "stream",
     "text": [
      "/usr/local/lib/python3.6/dist-packages/pandas/core/frame.py:3940: SettingWithCopyWarning: \n",
      "A value is trying to be set on a copy of a slice from a DataFrame\n",
      "\n",
      "See the caveats in the documentation: http://pandas.pydata.org/pandas-docs/stable/indexing.html#indexing-view-versus-copy\n",
      "  errors=errors)\n"
     ]
    },
    {
     "data": {
      "text/plain": [
       "(1647565, 88)"
      ]
     },
     "execution_count": 7,
     "metadata": {
      "tags": []
     },
     "output_type": "execute_result"
    }
   ],
   "source": [
    "## training set - Because we have used this variable to identify the training set already, we no longer require it so we drop 'train' column \n",
    "data_train = insurance_train.loc[insurance_train.train==\"Y\"]\n",
    "data_train.drop(['train'],axis=1,inplace=True)\n",
    "data_train.shape"
   ]
  },
  {
   "cell_type": "code",
   "execution_count": 0,
   "metadata": {
    "colab": {
     "base_uri": "https://localhost:8080/",
     "height": 101
    },
    "colab_type": "code",
    "id": "0uq9fg28t4ir",
    "outputId": "b0377ab5-d4e3-4274-ae5e-a3a30a1fd390"
   },
   "outputs": [
    {
     "name": "stderr",
     "output_type": "stream",
     "text": [
      "/usr/local/lib/python3.6/dist-packages/pandas/core/frame.py:3940: SettingWithCopyWarning: \n",
      "A value is trying to be set on a copy of a slice from a DataFrame\n",
      "\n",
      "See the caveats in the documentation: http://pandas.pydata.org/pandas-docs/stable/indexing.html#indexing-view-versus-copy\n",
      "  errors=errors)\n"
     ]
    }
   ],
   "source": [
    "## test set - we drop 'train' variable since we no longer require it\n",
    "data_test = insurance_train.loc[insurance_train.train==\"N\"]\n",
    "data_test.drop(['train'],axis=1,inplace=True)\n",
    "data_test.shape\n",
    "\n",
    "# Try to save memory so we delete insurance_train dataframe\n",
    "del insurance_train"
   ]
  },
  {
   "cell_type": "code",
   "execution_count": 0,
   "metadata": {
    "colab": {
     "base_uri": "https://localhost:8080/",
     "height": 846
    },
    "colab_type": "code",
    "id": "NECdLJwnt4ku",
    "outputId": "53609db8-ef8f-4efb-fca7-27de96e16b4d"
   },
   "outputs": [
    {
     "data": {
      "text/html": [
       "<div>\n",
       "<style scoped>\n",
       "    .dataframe tbody tr th:only-of-type {\n",
       "        vertical-align: middle;\n",
       "    }\n",
       "\n",
       "    .dataframe tbody tr th {\n",
       "        vertical-align: top;\n",
       "    }\n",
       "\n",
       "    .dataframe thead th {\n",
       "        text-align: right;\n",
       "    }\n",
       "</style>\n",
       "<table border=\"1\" class=\"dataframe\">\n",
       "  <thead>\n",
       "    <tr style=\"text-align: right;\">\n",
       "      <th></th>\n",
       "      <th>Total</th>\n",
       "      <th>Pct</th>\n",
       "    </tr>\n",
       "  </thead>\n",
       "  <tbody>\n",
       "    <tr>\n",
       "      <th>c04</th>\n",
       "      <td>664123</td>\n",
       "      <td>40.309366</td>\n",
       "    </tr>\n",
       "    <tr>\n",
       "      <th>c39</th>\n",
       "      <td>437060</td>\n",
       "      <td>26.527633</td>\n",
       "    </tr>\n",
       "    <tr>\n",
       "      <th>c40</th>\n",
       "      <td>432604</td>\n",
       "      <td>26.257173</td>\n",
       "    </tr>\n",
       "    <tr>\n",
       "      <th>c38</th>\n",
       "      <td>422082</td>\n",
       "      <td>25.618534</td>\n",
       "    </tr>\n",
       "    <tr>\n",
       "      <th>c16</th>\n",
       "      <td>259121</td>\n",
       "      <td>15.727513</td>\n",
       "    </tr>\n",
       "    <tr>\n",
       "      <th>c05</th>\n",
       "      <td>252524</td>\n",
       "      <td>15.327104</td>\n",
       "    </tr>\n",
       "    <tr>\n",
       "      <th>id</th>\n",
       "      <td>163333</td>\n",
       "      <td>9.913600</td>\n",
       "    </tr>\n",
       "    <tr>\n",
       "      <th>c18</th>\n",
       "      <td>157811</td>\n",
       "      <td>9.578438</td>\n",
       "    </tr>\n",
       "    <tr>\n",
       "      <th>c15</th>\n",
       "      <td>155381</td>\n",
       "      <td>9.430948</td>\n",
       "    </tr>\n",
       "    <tr>\n",
       "      <th>c08</th>\n",
       "      <td>154676</td>\n",
       "      <td>9.388158</td>\n",
       "    </tr>\n",
       "    <tr>\n",
       "      <th>c09</th>\n",
       "      <td>154676</td>\n",
       "      <td>9.388158</td>\n",
       "    </tr>\n",
       "    <tr>\n",
       "      <th>c10</th>\n",
       "      <td>154676</td>\n",
       "      <td>9.388158</td>\n",
       "    </tr>\n",
       "    <tr>\n",
       "      <th>c19</th>\n",
       "      <td>69556</td>\n",
       "      <td>4.221745</td>\n",
       "    </tr>\n",
       "    <tr>\n",
       "      <th>c26</th>\n",
       "      <td>54801</td>\n",
       "      <td>3.326181</td>\n",
       "    </tr>\n",
       "    <tr>\n",
       "      <th>c27</th>\n",
       "      <td>37994</td>\n",
       "      <td>2.306070</td>\n",
       "    </tr>\n",
       "    <tr>\n",
       "      <th>c34</th>\n",
       "      <td>25480</td>\n",
       "      <td>1.546525</td>\n",
       "    </tr>\n",
       "    <tr>\n",
       "      <th>c35</th>\n",
       "      <td>25480</td>\n",
       "      <td>1.546525</td>\n",
       "    </tr>\n",
       "    <tr>\n",
       "      <th>c12</th>\n",
       "      <td>10474</td>\n",
       "      <td>0.635726</td>\n",
       "    </tr>\n",
       "    <tr>\n",
       "      <th>c11</th>\n",
       "      <td>9160</td>\n",
       "      <td>0.555972</td>\n",
       "    </tr>\n",
       "    <tr>\n",
       "      <th>Var12</th>\n",
       "      <td>5197</td>\n",
       "      <td>0.315435</td>\n",
       "    </tr>\n",
       "    <tr>\n",
       "      <th>pred_s</th>\n",
       "      <td>82</td>\n",
       "      <td>0.004977</td>\n",
       "    </tr>\n",
       "    <tr>\n",
       "      <th>Var02</th>\n",
       "      <td>11</td>\n",
       "      <td>0.000668</td>\n",
       "    </tr>\n",
       "    <tr>\n",
       "      <th>Var10</th>\n",
       "      <td>11</td>\n",
       "      <td>0.000668</td>\n",
       "    </tr>\n",
       "    <tr>\n",
       "      <th>Var29</th>\n",
       "      <td>5</td>\n",
       "      <td>0.000303</td>\n",
       "    </tr>\n",
       "    <tr>\n",
       "      <th>Var28</th>\n",
       "      <td>5</td>\n",
       "      <td>0.000303</td>\n",
       "    </tr>\n",
       "    <tr>\n",
       "      <th>Var26</th>\n",
       "      <td>4</td>\n",
       "      <td>0.000243</td>\n",
       "    </tr>\n",
       "    <tr>\n",
       "      <th>Var27</th>\n",
       "      <td>4</td>\n",
       "      <td>0.000243</td>\n",
       "    </tr>\n",
       "  </tbody>\n",
       "</table>\n",
       "</div>"
      ],
      "text/plain": [
       "         Total        Pct\n",
       "c04     664123  40.309366\n",
       "c39     437060  26.527633\n",
       "c40     432604  26.257173\n",
       "c38     422082  25.618534\n",
       "c16     259121  15.727513\n",
       "c05     252524  15.327104\n",
       "id      163333   9.913600\n",
       "c18     157811   9.578438\n",
       "c15     155381   9.430948\n",
       "c08     154676   9.388158\n",
       "c09     154676   9.388158\n",
       "c10     154676   9.388158\n",
       "c19      69556   4.221745\n",
       "c26      54801   3.326181\n",
       "c27      37994   2.306070\n",
       "c34      25480   1.546525\n",
       "c35      25480   1.546525\n",
       "c12      10474   0.635726\n",
       "c11       9160   0.555972\n",
       "Var12     5197   0.315435\n",
       "pred_s      82   0.004977\n",
       "Var02       11   0.000668\n",
       "Var10       11   0.000668\n",
       "Var29        5   0.000303\n",
       "Var28        5   0.000303\n",
       "Var26        4   0.000243\n",
       "Var27        4   0.000243"
      ]
     },
     "execution_count": 9,
     "metadata": {
      "tags": []
     },
     "output_type": "execute_result"
    }
   ],
   "source": [
    "# Look at the total number of missing values and percentages. Interestingly, all missing values are within ordinal variables. There are no categorical variables with missing values. \n",
    "total = data_train.isnull().sum()\n",
    "pct = total*100/data_train.isnull().count()\n",
    "NAs = pd.concat([total,pct],axis=1,keys=('Total','Pct'))\n",
    "NAs[NAs.Total>0].sort_values(by='Total',ascending=False)"
   ]
  },
  {
   "cell_type": "code",
   "execution_count": 0,
   "metadata": {
    "colab": {},
    "colab_type": "code",
    "id": "BmeqOBsrt4qh"
   },
   "outputs": [],
   "source": [
    "# Impute missing values by arbitrarily creating a new ordinal value for each variable - i.e. take the max value and add 1. Will most likely need to drop the 82 training instances with\n",
    "# missing pred_s values because it doesn't make sense to replace those values\n",
    "for column in data_train:\n",
    "    if data_train[column].isnull().sum()>0:\n",
    "        data_train[column].fillna(data_train[column].max()+1, inplace=True)\n",
    "    else: \n",
    "        pass"
   ]
  },
  {
   "cell_type": "code",
   "execution_count": 0,
   "metadata": {
    "colab": {
     "base_uri": "https://localhost:8080/",
     "height": 47
    },
    "colab_type": "code",
    "id": "KL7CgzJSt4tJ",
    "outputId": "adaf2420-0bf1-4fd5-e5d0-f69ebf426c7a"
   },
   "outputs": [
    {
     "data": {
      "text/html": [
       "<div>\n",
       "<style scoped>\n",
       "    .dataframe tbody tr th:only-of-type {\n",
       "        vertical-align: middle;\n",
       "    }\n",
       "\n",
       "    .dataframe tbody tr th {\n",
       "        vertical-align: top;\n",
       "    }\n",
       "\n",
       "    .dataframe thead th {\n",
       "        text-align: right;\n",
       "    }\n",
       "</style>\n",
       "<table border=\"1\" class=\"dataframe\">\n",
       "  <thead>\n",
       "    <tr style=\"text-align: right;\">\n",
       "      <th></th>\n",
       "      <th>Total</th>\n",
       "      <th>Pct</th>\n",
       "    </tr>\n",
       "  </thead>\n",
       "  <tbody>\n",
       "  </tbody>\n",
       "</table>\n",
       "</div>"
      ],
      "text/plain": [
       "Empty DataFrame\n",
       "Columns: [Total, Pct]\n",
       "Index: []"
      ]
     },
     "execution_count": 11,
     "metadata": {
      "tags": []
     },
     "output_type": "execute_result"
    }
   ],
   "source": [
    "# We see that there are no more missing values\n",
    "total = data_train.isnull().sum()\n",
    "pct = total*100/data_train.isnull().count()\n",
    "NAs = pd.concat([total,pct],axis=1,keys=('Total','Pct'))\n",
    "NAs[NAs.Total>0].sort_values(by='Total',ascending=False)"
   ]
  },
  {
   "cell_type": "code",
   "execution_count": 0,
   "metadata": {
    "colab": {
     "base_uri": "https://localhost:8080/",
     "height": 252
    },
    "colab_type": "code",
    "id": "MQmjyCtEu0dL",
    "outputId": "6a9298f3-6dce-48cb-f091-439db402a085"
   },
   "outputs": [
    {
     "name": "stdout",
     "output_type": "stream",
     "text": [
      "There are 49 numeric features and 39 categorical features in the training dataset\n",
      "\n",
      "Numeric features:\n",
      " ['uniqueID' 'Var07' 'Var10' 'Var26' 'Var27' 'Var28' 'Var29' 'Var30'\n",
      " 'Var31' 'Var32' 'Var33' 'Var34' 'Var35' 'Var42' 'pred_s' 'Var47' 'Var50'\n",
      " 'c08' 'c09' 'c10' 'c11' 'c12' 'c15' 'c18' 'c19' 'c27' 'Var54' 'Var02'\n",
      " 'Var04' 'Var05' 'Var06' 'Var08' 'Var09' 'Var12' 'Var15' 'Var16' 'Var18'\n",
      " 'Var22' 'Var24' 'c04' 'c05' 'c16' 'c26' 'c34' 'c35' 'c38' 'c39' 'c40'\n",
      " 'id']\n",
      "Categorical features:\n",
      " ['Var01' 'Var03' 'Var11' 'Var13' 'Var14' 'Var19' 'Var20' 'Var21' 'Var23'\n",
      " 'Var25' 'Var48' 'Var49' 'Var51' 'Var52' 'Var53' 'Var55' 'c01' 'c02' 'c03'\n",
      " 'c06' 'c07' 'c13' 'c14' 'c17' 'c20' 'c21' 'c22' 'c23' 'c24' 'c25' 'c28'\n",
      " 'c29' 'c30' 'c31' 'c32' 'c33' 'c36' 'c37' 'Var56']\n"
     ]
    }
   ],
   "source": [
    "# Split numeric and categorical features for training set\n",
    "cat_train_feats = data_train.select_dtypes(include=['object']).columns\n",
    "num_train_feats = data_train.select_dtypes(include=['float64','int64']).columns\n",
    "num_train_df = data_train[num_train_feats]\n",
    "cat_train_df = data_train[cat_train_feats]\n",
    "print('There are %d numeric features and %d categorical features in the training dataset\\n' %(len(num_train_feats),len(cat_train_feats)))\n",
    "print('Numeric features:\\n',num_train_feats.values)\n",
    "print('Categorical features:\\n',cat_train_feats.values)"
   ]
  },
  {
   "cell_type": "code",
   "execution_count": 0,
   "metadata": {
    "colab": {
     "base_uri": "https://localhost:8080/",
     "height": 244
    },
    "colab_type": "code",
    "id": "ZLBcBl0Hu0kf",
    "outputId": "4ee98325-71c8-4f43-af66-c602a1339a2c"
   },
   "outputs": [
    {
     "data": {
      "text/html": [
       "<div>\n",
       "<style scoped>\n",
       "    .dataframe tbody tr th:only-of-type {\n",
       "        vertical-align: middle;\n",
       "    }\n",
       "\n",
       "    .dataframe tbody tr th {\n",
       "        vertical-align: top;\n",
       "    }\n",
       "\n",
       "    .dataframe thead th {\n",
       "        text-align: right;\n",
       "    }\n",
       "</style>\n",
       "<table border=\"1\" class=\"dataframe\">\n",
       "  <thead>\n",
       "    <tr style=\"text-align: right;\">\n",
       "      <th></th>\n",
       "      <th>Var01_A</th>\n",
       "      <th>Var01_B</th>\n",
       "      <th>Var01_C</th>\n",
       "      <th>Var03_A</th>\n",
       "      <th>Var03_B</th>\n",
       "      <th>Var03_C</th>\n",
       "      <th>Var03_D</th>\n",
       "      <th>Var03_E</th>\n",
       "      <th>Var03_F</th>\n",
       "      <th>Var03_G</th>\n",
       "      <th>Var03_H</th>\n",
       "      <th>Var03_I</th>\n",
       "      <th>Var03_J</th>\n",
       "      <th>Var03_L</th>\n",
       "      <th>Var03_N</th>\n",
       "      <th>Var03_P</th>\n",
       "      <th>Var03_Q</th>\n",
       "      <th>Var03_Z</th>\n",
       "      <th>Var11_A</th>\n",
       "      <th>Var11_B</th>\n",
       "      <th>Var11_C</th>\n",
       "      <th>Var11_D</th>\n",
       "      <th>Var11_E</th>\n",
       "      <th>Var11_F</th>\n",
       "      <th>Var11_G</th>\n",
       "      <th>Var11_Z</th>\n",
       "      <th>Var13_A</th>\n",
       "      <th>Var13_B</th>\n",
       "      <th>Var13_C</th>\n",
       "      <th>Var13_D</th>\n",
       "      <th>Var13_E</th>\n",
       "      <th>Var13_F</th>\n",
       "      <th>Var13_G</th>\n",
       "      <th>Var13_H</th>\n",
       "      <th>Var13_I</th>\n",
       "      <th>Var13_J</th>\n",
       "      <th>Var13_K</th>\n",
       "      <th>Var13_L</th>\n",
       "      <th>Var13_M</th>\n",
       "      <th>Var13_N</th>\n",
       "      <th>...</th>\n",
       "      <th>c20_Y</th>\n",
       "      <th>c21_N</th>\n",
       "      <th>c21_O</th>\n",
       "      <th>c21_Y</th>\n",
       "      <th>c22_E</th>\n",
       "      <th>c22_F</th>\n",
       "      <th>c23_N</th>\n",
       "      <th>c23_Y</th>\n",
       "      <th>c24_N</th>\n",
       "      <th>c24_Y</th>\n",
       "      <th>c25_A</th>\n",
       "      <th>c25_B</th>\n",
       "      <th>c25_C</th>\n",
       "      <th>c25_D</th>\n",
       "      <th>c25_E</th>\n",
       "      <th>c25_F</th>\n",
       "      <th>c28_A</th>\n",
       "      <th>c28_B</th>\n",
       "      <th>c28_C</th>\n",
       "      <th>c29_A</th>\n",
       "      <th>c29_B</th>\n",
       "      <th>c29_C</th>\n",
       "      <th>c30_A</th>\n",
       "      <th>c30_B</th>\n",
       "      <th>c30_C</th>\n",
       "      <th>c31_A</th>\n",
       "      <th>c31_B</th>\n",
       "      <th>c31_C</th>\n",
       "      <th>c32_A</th>\n",
       "      <th>c32_B</th>\n",
       "      <th>c32_C</th>\n",
       "      <th>c33_A</th>\n",
       "      <th>c33_B</th>\n",
       "      <th>c33_C</th>\n",
       "      <th>c36_N</th>\n",
       "      <th>c36_Y</th>\n",
       "      <th>c37_N</th>\n",
       "      <th>c37_Y</th>\n",
       "      <th>Var56_A</th>\n",
       "      <th>Var56_B</th>\n",
       "    </tr>\n",
       "  </thead>\n",
       "  <tbody>\n",
       "    <tr>\n",
       "      <th>0</th>\n",
       "      <td>1</td>\n",
       "      <td>0</td>\n",
       "      <td>0</td>\n",
       "      <td>1</td>\n",
       "      <td>0</td>\n",
       "      <td>0</td>\n",
       "      <td>0</td>\n",
       "      <td>0</td>\n",
       "      <td>0</td>\n",
       "      <td>0</td>\n",
       "      <td>0</td>\n",
       "      <td>0</td>\n",
       "      <td>0</td>\n",
       "      <td>0</td>\n",
       "      <td>0</td>\n",
       "      <td>0</td>\n",
       "      <td>0</td>\n",
       "      <td>0</td>\n",
       "      <td>0</td>\n",
       "      <td>1</td>\n",
       "      <td>0</td>\n",
       "      <td>0</td>\n",
       "      <td>0</td>\n",
       "      <td>0</td>\n",
       "      <td>0</td>\n",
       "      <td>0</td>\n",
       "      <td>1</td>\n",
       "      <td>0</td>\n",
       "      <td>0</td>\n",
       "      <td>0</td>\n",
       "      <td>0</td>\n",
       "      <td>0</td>\n",
       "      <td>0</td>\n",
       "      <td>0</td>\n",
       "      <td>0</td>\n",
       "      <td>0</td>\n",
       "      <td>0</td>\n",
       "      <td>0</td>\n",
       "      <td>0</td>\n",
       "      <td>0</td>\n",
       "      <td>...</td>\n",
       "      <td>1</td>\n",
       "      <td>1</td>\n",
       "      <td>0</td>\n",
       "      <td>0</td>\n",
       "      <td>0</td>\n",
       "      <td>1</td>\n",
       "      <td>1</td>\n",
       "      <td>0</td>\n",
       "      <td>1</td>\n",
       "      <td>0</td>\n",
       "      <td>1</td>\n",
       "      <td>0</td>\n",
       "      <td>0</td>\n",
       "      <td>0</td>\n",
       "      <td>0</td>\n",
       "      <td>0</td>\n",
       "      <td>1</td>\n",
       "      <td>0</td>\n",
       "      <td>0</td>\n",
       "      <td>1</td>\n",
       "      <td>0</td>\n",
       "      <td>0</td>\n",
       "      <td>1</td>\n",
       "      <td>0</td>\n",
       "      <td>0</td>\n",
       "      <td>1</td>\n",
       "      <td>0</td>\n",
       "      <td>0</td>\n",
       "      <td>0</td>\n",
       "      <td>1</td>\n",
       "      <td>0</td>\n",
       "      <td>1</td>\n",
       "      <td>0</td>\n",
       "      <td>0</td>\n",
       "      <td>1</td>\n",
       "      <td>0</td>\n",
       "      <td>1</td>\n",
       "      <td>0</td>\n",
       "      <td>1</td>\n",
       "      <td>0</td>\n",
       "    </tr>\n",
       "    <tr>\n",
       "      <th>1</th>\n",
       "      <td>1</td>\n",
       "      <td>0</td>\n",
       "      <td>0</td>\n",
       "      <td>1</td>\n",
       "      <td>0</td>\n",
       "      <td>0</td>\n",
       "      <td>0</td>\n",
       "      <td>0</td>\n",
       "      <td>0</td>\n",
       "      <td>0</td>\n",
       "      <td>0</td>\n",
       "      <td>0</td>\n",
       "      <td>0</td>\n",
       "      <td>0</td>\n",
       "      <td>0</td>\n",
       "      <td>0</td>\n",
       "      <td>0</td>\n",
       "      <td>0</td>\n",
       "      <td>0</td>\n",
       "      <td>1</td>\n",
       "      <td>0</td>\n",
       "      <td>0</td>\n",
       "      <td>0</td>\n",
       "      <td>0</td>\n",
       "      <td>0</td>\n",
       "      <td>0</td>\n",
       "      <td>1</td>\n",
       "      <td>0</td>\n",
       "      <td>0</td>\n",
       "      <td>0</td>\n",
       "      <td>0</td>\n",
       "      <td>0</td>\n",
       "      <td>0</td>\n",
       "      <td>0</td>\n",
       "      <td>0</td>\n",
       "      <td>0</td>\n",
       "      <td>0</td>\n",
       "      <td>0</td>\n",
       "      <td>0</td>\n",
       "      <td>0</td>\n",
       "      <td>...</td>\n",
       "      <td>1</td>\n",
       "      <td>1</td>\n",
       "      <td>0</td>\n",
       "      <td>0</td>\n",
       "      <td>0</td>\n",
       "      <td>1</td>\n",
       "      <td>1</td>\n",
       "      <td>0</td>\n",
       "      <td>1</td>\n",
       "      <td>0</td>\n",
       "      <td>1</td>\n",
       "      <td>0</td>\n",
       "      <td>0</td>\n",
       "      <td>0</td>\n",
       "      <td>0</td>\n",
       "      <td>0</td>\n",
       "      <td>1</td>\n",
       "      <td>0</td>\n",
       "      <td>0</td>\n",
       "      <td>1</td>\n",
       "      <td>0</td>\n",
       "      <td>0</td>\n",
       "      <td>1</td>\n",
       "      <td>0</td>\n",
       "      <td>0</td>\n",
       "      <td>1</td>\n",
       "      <td>0</td>\n",
       "      <td>0</td>\n",
       "      <td>0</td>\n",
       "      <td>1</td>\n",
       "      <td>0</td>\n",
       "      <td>1</td>\n",
       "      <td>0</td>\n",
       "      <td>0</td>\n",
       "      <td>1</td>\n",
       "      <td>0</td>\n",
       "      <td>1</td>\n",
       "      <td>0</td>\n",
       "      <td>1</td>\n",
       "      <td>0</td>\n",
       "    </tr>\n",
       "    <tr>\n",
       "      <th>2</th>\n",
       "      <td>1</td>\n",
       "      <td>0</td>\n",
       "      <td>0</td>\n",
       "      <td>1</td>\n",
       "      <td>0</td>\n",
       "      <td>0</td>\n",
       "      <td>0</td>\n",
       "      <td>0</td>\n",
       "      <td>0</td>\n",
       "      <td>0</td>\n",
       "      <td>0</td>\n",
       "      <td>0</td>\n",
       "      <td>0</td>\n",
       "      <td>0</td>\n",
       "      <td>0</td>\n",
       "      <td>0</td>\n",
       "      <td>0</td>\n",
       "      <td>0</td>\n",
       "      <td>0</td>\n",
       "      <td>1</td>\n",
       "      <td>0</td>\n",
       "      <td>0</td>\n",
       "      <td>0</td>\n",
       "      <td>0</td>\n",
       "      <td>0</td>\n",
       "      <td>0</td>\n",
       "      <td>1</td>\n",
       "      <td>0</td>\n",
       "      <td>0</td>\n",
       "      <td>0</td>\n",
       "      <td>0</td>\n",
       "      <td>0</td>\n",
       "      <td>0</td>\n",
       "      <td>0</td>\n",
       "      <td>0</td>\n",
       "      <td>0</td>\n",
       "      <td>0</td>\n",
       "      <td>0</td>\n",
       "      <td>0</td>\n",
       "      <td>0</td>\n",
       "      <td>...</td>\n",
       "      <td>1</td>\n",
       "      <td>1</td>\n",
       "      <td>0</td>\n",
       "      <td>0</td>\n",
       "      <td>0</td>\n",
       "      <td>1</td>\n",
       "      <td>1</td>\n",
       "      <td>0</td>\n",
       "      <td>1</td>\n",
       "      <td>0</td>\n",
       "      <td>1</td>\n",
       "      <td>0</td>\n",
       "      <td>0</td>\n",
       "      <td>0</td>\n",
       "      <td>0</td>\n",
       "      <td>0</td>\n",
       "      <td>1</td>\n",
       "      <td>0</td>\n",
       "      <td>0</td>\n",
       "      <td>1</td>\n",
       "      <td>0</td>\n",
       "      <td>0</td>\n",
       "      <td>1</td>\n",
       "      <td>0</td>\n",
       "      <td>0</td>\n",
       "      <td>1</td>\n",
       "      <td>0</td>\n",
       "      <td>0</td>\n",
       "      <td>0</td>\n",
       "      <td>1</td>\n",
       "      <td>0</td>\n",
       "      <td>1</td>\n",
       "      <td>0</td>\n",
       "      <td>0</td>\n",
       "      <td>1</td>\n",
       "      <td>0</td>\n",
       "      <td>1</td>\n",
       "      <td>0</td>\n",
       "      <td>1</td>\n",
       "      <td>0</td>\n",
       "    </tr>\n",
       "    <tr>\n",
       "      <th>3</th>\n",
       "      <td>1</td>\n",
       "      <td>0</td>\n",
       "      <td>0</td>\n",
       "      <td>1</td>\n",
       "      <td>0</td>\n",
       "      <td>0</td>\n",
       "      <td>0</td>\n",
       "      <td>0</td>\n",
       "      <td>0</td>\n",
       "      <td>0</td>\n",
       "      <td>0</td>\n",
       "      <td>0</td>\n",
       "      <td>0</td>\n",
       "      <td>0</td>\n",
       "      <td>0</td>\n",
       "      <td>0</td>\n",
       "      <td>0</td>\n",
       "      <td>0</td>\n",
       "      <td>0</td>\n",
       "      <td>1</td>\n",
       "      <td>0</td>\n",
       "      <td>0</td>\n",
       "      <td>0</td>\n",
       "      <td>0</td>\n",
       "      <td>0</td>\n",
       "      <td>0</td>\n",
       "      <td>1</td>\n",
       "      <td>0</td>\n",
       "      <td>0</td>\n",
       "      <td>0</td>\n",
       "      <td>0</td>\n",
       "      <td>0</td>\n",
       "      <td>0</td>\n",
       "      <td>0</td>\n",
       "      <td>0</td>\n",
       "      <td>0</td>\n",
       "      <td>0</td>\n",
       "      <td>0</td>\n",
       "      <td>0</td>\n",
       "      <td>0</td>\n",
       "      <td>...</td>\n",
       "      <td>1</td>\n",
       "      <td>1</td>\n",
       "      <td>0</td>\n",
       "      <td>0</td>\n",
       "      <td>0</td>\n",
       "      <td>1</td>\n",
       "      <td>1</td>\n",
       "      <td>0</td>\n",
       "      <td>1</td>\n",
       "      <td>0</td>\n",
       "      <td>1</td>\n",
       "      <td>0</td>\n",
       "      <td>0</td>\n",
       "      <td>0</td>\n",
       "      <td>0</td>\n",
       "      <td>0</td>\n",
       "      <td>1</td>\n",
       "      <td>0</td>\n",
       "      <td>0</td>\n",
       "      <td>1</td>\n",
       "      <td>0</td>\n",
       "      <td>0</td>\n",
       "      <td>1</td>\n",
       "      <td>0</td>\n",
       "      <td>0</td>\n",
       "      <td>1</td>\n",
       "      <td>0</td>\n",
       "      <td>0</td>\n",
       "      <td>0</td>\n",
       "      <td>1</td>\n",
       "      <td>0</td>\n",
       "      <td>1</td>\n",
       "      <td>0</td>\n",
       "      <td>0</td>\n",
       "      <td>1</td>\n",
       "      <td>0</td>\n",
       "      <td>1</td>\n",
       "      <td>0</td>\n",
       "      <td>1</td>\n",
       "      <td>0</td>\n",
       "    </tr>\n",
       "    <tr>\n",
       "      <th>4</th>\n",
       "      <td>0</td>\n",
       "      <td>1</td>\n",
       "      <td>0</td>\n",
       "      <td>1</td>\n",
       "      <td>0</td>\n",
       "      <td>0</td>\n",
       "      <td>0</td>\n",
       "      <td>0</td>\n",
       "      <td>0</td>\n",
       "      <td>0</td>\n",
       "      <td>0</td>\n",
       "      <td>0</td>\n",
       "      <td>0</td>\n",
       "      <td>0</td>\n",
       "      <td>0</td>\n",
       "      <td>0</td>\n",
       "      <td>0</td>\n",
       "      <td>0</td>\n",
       "      <td>1</td>\n",
       "      <td>0</td>\n",
       "      <td>0</td>\n",
       "      <td>0</td>\n",
       "      <td>0</td>\n",
       "      <td>0</td>\n",
       "      <td>0</td>\n",
       "      <td>0</td>\n",
       "      <td>0</td>\n",
       "      <td>0</td>\n",
       "      <td>0</td>\n",
       "      <td>0</td>\n",
       "      <td>1</td>\n",
       "      <td>0</td>\n",
       "      <td>0</td>\n",
       "      <td>0</td>\n",
       "      <td>0</td>\n",
       "      <td>0</td>\n",
       "      <td>0</td>\n",
       "      <td>0</td>\n",
       "      <td>0</td>\n",
       "      <td>0</td>\n",
       "      <td>...</td>\n",
       "      <td>1</td>\n",
       "      <td>1</td>\n",
       "      <td>0</td>\n",
       "      <td>0</td>\n",
       "      <td>0</td>\n",
       "      <td>1</td>\n",
       "      <td>1</td>\n",
       "      <td>0</td>\n",
       "      <td>1</td>\n",
       "      <td>0</td>\n",
       "      <td>1</td>\n",
       "      <td>0</td>\n",
       "      <td>0</td>\n",
       "      <td>0</td>\n",
       "      <td>0</td>\n",
       "      <td>0</td>\n",
       "      <td>1</td>\n",
       "      <td>0</td>\n",
       "      <td>0</td>\n",
       "      <td>1</td>\n",
       "      <td>0</td>\n",
       "      <td>0</td>\n",
       "      <td>1</td>\n",
       "      <td>0</td>\n",
       "      <td>0</td>\n",
       "      <td>1</td>\n",
       "      <td>0</td>\n",
       "      <td>0</td>\n",
       "      <td>0</td>\n",
       "      <td>1</td>\n",
       "      <td>0</td>\n",
       "      <td>1</td>\n",
       "      <td>0</td>\n",
       "      <td>0</td>\n",
       "      <td>1</td>\n",
       "      <td>0</td>\n",
       "      <td>1</td>\n",
       "      <td>0</td>\n",
       "      <td>1</td>\n",
       "      <td>0</td>\n",
       "    </tr>\n",
       "  </tbody>\n",
       "</table>\n",
       "<p>5 rows × 228 columns</p>\n",
       "</div>"
      ],
      "text/plain": [
       "   Var01_A  Var01_B  Var01_C  Var03_A  ...  c37_N  c37_Y  Var56_A  Var56_B\n",
       "0        1        0        0        1  ...      1      0        1        0\n",
       "1        1        0        0        1  ...      1      0        1        0\n",
       "2        1        0        0        1  ...      1      0        1        0\n",
       "3        1        0        0        1  ...      1      0        1        0\n",
       "4        0        1        0        1  ...      1      0        1        0\n",
       "\n",
       "[5 rows x 228 columns]"
      ]
     },
     "execution_count": 13,
     "metadata": {
      "tags": []
     },
     "output_type": "execute_result"
    }
   ],
   "source": [
    "# One hot encoding to make categorical features numerical for analysis purposes\n",
    "cat_train_df = pd.get_dummies(cat_train_df)\n",
    "cat_train_df.head()"
   ]
  },
  {
   "cell_type": "code",
   "execution_count": 0,
   "metadata": {
    "colab": {
     "base_uri": "https://localhost:8080/",
     "height": 34
    },
    "colab_type": "code",
    "id": "EgE8xSpXu0mv",
    "outputId": "d5bfede9-9209-4f21-c493-9a640be38051"
   },
   "outputs": [
    {
     "name": "stdout",
     "output_type": "stream",
     "text": [
      "(1647565, 277)\n"
     ]
    }
   ],
   "source": [
    "# Combine the numerical and categorical features for total dataset represented numerically\n",
    "all_train = pd.concat([num_train_df,cat_train_df],axis=1)\n",
    "print(all_train.shape)"
   ]
  },
  {
   "cell_type": "code",
   "execution_count": 0,
   "metadata": {
    "colab": {},
    "colab_type": "code",
    "id": "grxch3V1u-7q"
   },
   "outputs": [],
   "source": [
    "# Store the training label in another variable\n",
    "train_label=all_train['Var47']\n",
    "\n",
    "# Drop the training label and the 'uniqueID' variables from the training dataset\n",
    "all_train.drop(['Var47', 'uniqueID'],axis=1,inplace=True)"
   ]
  },
  {
   "cell_type": "code",
   "execution_count": 0,
   "metadata": {
    "colab": {
     "base_uri": "https://localhost:8080/",
     "height": 84
    },
    "colab_type": "code",
    "id": "PdyStqJvvGul",
    "outputId": "64718a1e-bd85-4ab1-b0cc-5e9cbb69359c"
   },
   "outputs": [
    {
     "name": "stdout",
     "output_type": "stream",
     "text": [
      "(1318052, 275)\n",
      "(1318052,)\n",
      "(329513, 275)\n",
      "(329513,)\n"
     ]
    }
   ],
   "source": [
    "# Create the validation data from the training set because the original test set has no labels so we wouldn't be able to test the accuracy of our models. \n",
    "# Therefore, we split training set 80/20 and use 20% of the training set as the validation set.\n",
    "from sklearn.model_selection import train_test_split, cross_val_score\n",
    "x_train, x_val, y_train, y_val = train_test_split(all_train,train_label,test_size = 0.2,random_state=42)\n",
    "\n",
    "print(x_train.shape)\n",
    "print(y_train.shape)\n",
    "print(x_val.shape)\n",
    "print(y_val.shape)"
   ]
  },
  {
   "cell_type": "code",
   "execution_count": 0,
   "metadata": {
    "colab": {
     "base_uri": "https://localhost:8080/",
     "height": 101
    },
    "colab_type": "code",
    "id": "hdPBS9FuHsii",
    "outputId": "98a177ef-771b-49c0-932c-775b4c890137"
   },
   "outputs": [
    {
     "name": "stderr",
     "output_type": "stream",
     "text": [
      "/usr/local/lib/python3.6/dist-packages/pandas/core/frame.py:3940: SettingWithCopyWarning: \n",
      "A value is trying to be set on a copy of a slice from a DataFrame\n",
      "\n",
      "See the caveats in the documentation: http://pandas.pydata.org/pandas-docs/stable/indexing.html#indexing-view-versus-copy\n",
      "  errors=errors)\n"
     ]
    }
   ],
   "source": [
    "# From the pred_s values, we create base model likelihoods with decimal values between 0 and 1. We also create predictions as integer values of 0 or 1 - i.e. if likelihood\n",
    "# is greater than 0.5, then prediction is 1. \n",
    "y_base_train_preds = x_train['pred_s'].values/100\n",
    "y_base_preds = (y_base_train_preds>0.5).astype(int)\n",
    "\n",
    "x_train.drop(['pred_s'],axis=1,inplace=True)"
   ]
  },
  {
   "cell_type": "code",
   "execution_count": 0,
   "metadata": {
    "colab": {},
    "colab_type": "code",
    "id": "h4228TKP0HDw"
   },
   "outputs": [],
   "source": [
    "# Scale the training dataset\n",
    "scaler = StandardScaler()\n",
    "x_train=scaler.fit_transform(x_train)"
   ]
  },
  {
   "cell_type": "code",
   "execution_count": 0,
   "metadata": {
    "colab": {
     "base_uri": "https://localhost:8080/",
     "height": 70
    },
    "colab_type": "code",
    "id": "GtGLfW0ZvJ3F",
    "outputId": "056c4982-d78d-446c-bd76-458677b5c609"
   },
   "outputs": [
    {
     "name": "stderr",
     "output_type": "stream",
     "text": [
      "/usr/local/lib/python3.6/dist-packages/sklearn/linear_model/logistic.py:432: FutureWarning: Default solver will be changed to 'lbfgs' in 0.22. Specify a solver to silence this warning.\n",
      "  FutureWarning)\n"
     ]
    }
   ],
   "source": [
    "# Train another model using logistic regression using all of the dataset\n",
    "from sklearn.linear_model import LogisticRegression\n",
    "from sklearn.model_selection import cross_val_predict, cross_val_score\n",
    "log_reg=LogisticRegression(random_state = 42)\n",
    "log_reg.fit(x_train, y_train)"
   ]
  },
  {
   "cell_type": "code",
   "execution_count": 0,
   "metadata": {
    "colab": {},
    "colab_type": "code",
    "id": "OVg2QYGF6fyV"
   },
   "outputs": [],
   "source": [
    "# This is a function which outputs a variety of accuracy results. We can use these results to compare models.\n",
    "\n",
    "from sklearn.metrics import roc_auc_score, accuracy_score, precision_score, recall_score\n",
    "def calc_specificity(y_vals, preds, threshes):\n",
    "    # calculates specificity\n",
    "    return sum((preds < threshes) & (y_vals == 0)) /sum(y_vals ==0)\n",
    "\n",
    "def print_report(y_vals, preds, threshes):\n",
    "    \n",
    "    auc = roc_auc_score(y_vals, preds)\n",
    "    accuracy = accuracy_score(y_vals, (preds > threshes))\n",
    "    recall = recall_score(y_vals, (preds > threshes))\n",
    "    precision = precision_score(y_vals, (preds > threshes))\n",
    "    specificity = calc_specificity(y_vals, preds, threshes)\n",
    "    print('AUC:%.3f'%auc)\n",
    "    print('accuracy:%.3f'%accuracy)\n",
    "    print('recall:%.3f'%recall)\n",
    "    print('precision:%.3f'%precision)\n",
    "    print('specificity:%.3f'%specificity)\n",
    "    print(' ')\n",
    "    return auc, accuracy, recall, precision, specificity "
   ]
  },
  {
   "cell_type": "code",
   "execution_count": 0,
   "metadata": {
    "colab": {},
    "colab_type": "code",
    "id": "CGfLArju9OWz"
   },
   "outputs": [],
   "source": [
    "# Set an arbitrary threshold initially\n",
    "thresh = 0.5"
   ]
  },
  {
   "cell_type": "code",
   "execution_count": 0,
   "metadata": {
    "colab": {
     "base_uri": "https://localhost:8080/",
     "height": 138
    },
    "colab_type": "code",
    "id": "238L2oYv9Q6l",
    "outputId": "4a184e1c-a83d-44e7-8875-e786b7a152c7"
   },
   "outputs": [
    {
     "name": "stderr",
     "output_type": "stream",
     "text": [
      "/usr/local/lib/python3.6/dist-packages/sklearn/linear_model/logistic.py:432: FutureWarning: Default solver will be changed to 'lbfgs' in 0.22. Specify a solver to silence this warning.\n",
      "  FutureWarning)\n",
      "/usr/local/lib/python3.6/dist-packages/sklearn/linear_model/logistic.py:432: FutureWarning: Default solver will be changed to 'lbfgs' in 0.22. Specify a solver to silence this warning.\n",
      "  FutureWarning)\n",
      "/usr/local/lib/python3.6/dist-packages/sklearn/linear_model/logistic.py:432: FutureWarning: Default solver will be changed to 'lbfgs' in 0.22. Specify a solver to silence this warning.\n",
      "  FutureWarning)\n"
     ]
    }
   ],
   "source": [
    "# Create predictions from logistic regression model and change predictions into either a 0 or 1 based on their likelihood values\n",
    "cv=3\n",
    "y_train_preds = cross_val_predict(log_reg, x_train, y_train, cv=cv, method='predict_proba')[:,1]\n",
    "y_preds = (y_train_preds>thresh).astype(int)"
   ]
  },
  {
   "cell_type": "code",
   "execution_count": 0,
   "metadata": {
    "colab": {
     "base_uri": "https://localhost:8080/",
     "height": 151
    },
    "colab_type": "code",
    "id": "lVUCSLsA9S9Q",
    "outputId": "294c630a-f07e-4652-c2c4-3a498624e392"
   },
   "outputs": [
    {
     "name": "stdout",
     "output_type": "stream",
     "text": [
      "Logistic Regression\n",
      "Full Training dataset:\n",
      "AUC:0.839\n",
      "accuracy:0.751\n",
      "recall:0.750\n",
      "precision:0.745\n",
      "specificity:0.751\n",
      " \n"
     ]
    }
   ],
   "source": [
    "# Print report from Logistic regression model\n",
    "print('Logistic Regression')\n",
    "print('Full Training dataset:')\n",
    "log_reg_train_auc, log_reg_train_accuracy, log_reg_train_recall, \\\n",
    "    log_reg_train_precision, log_reg_train_specificity = print_report(y_train,y_train_preds, thresh)"
   ]
  },
  {
   "cell_type": "code",
   "execution_count": 0,
   "metadata": {
    "colab": {
     "base_uri": "https://localhost:8080/",
     "height": 151
    },
    "colab_type": "code",
    "id": "QYT2bJhpHkxv",
    "outputId": "b4697b90-e9cd-4bb5-de89-575180c32f32"
   },
   "outputs": [
    {
     "name": "stdout",
     "output_type": "stream",
     "text": [
      "Pred_s\n",
      "Partial Training dataset:\n",
      "AUC:0.792\n",
      "accuracy:0.711\n",
      "recall:0.740\n",
      "precision:0.693\n",
      "specificity:0.674\n",
      " \n"
     ]
    }
   ],
   "source": [
    "# Print report from pred_s model - we see that logistic regression model is better\n",
    "print('Pred_s')\n",
    "print('Partial Training dataset:')\n",
    "log_reg_train_auc, log_reg_train_accuracy, log_reg_train_recall, \\\n",
    "    log_reg_train_precision, log_reg_train_specificity = print_report(y_train,y_base_train_preds, thresh)"
   ]
  },
  {
   "cell_type": "code",
   "execution_count": 0,
   "metadata": {
    "colab": {},
    "colab_type": "code",
    "id": "zTQP3IGs_i3p"
   },
   "outputs": [],
   "source": [
    "# Import confusion matrix function\n",
    "from sklearn.metrics import confusion_matrix\n",
    "import itertools\n",
    "def plot_confusion_matrix(cm, classes,\n",
    "                          normalize=False,\n",
    "                          title='Confusion matrix',\n",
    "                          cmap=plt.cm.Blues):\n",
    "    \"\"\"\n",
    "    This function prints and plots the confusion matrix.\n",
    "    Normalization can be applied by setting `normalize=True`.\n",
    "    \"\"\"\n",
    "    plt.imshow(cm, interpolation='nearest', cmap=cmap)\n",
    "    plt.title(title)\n",
    "    plt.colorbar()\n",
    "    tick_marks = np.arange(len(classes))\n",
    "    plt.xticks(tick_marks, classes, rotation=45)\n",
    "    plt.yticks(tick_marks, classes)\n",
    "\n",
    "    if normalize:\n",
    "        cm = cm.astype('float') / cm.sum(axis=1)[:, np.newaxis]\n",
    "\n",
    "    thresh = cm.max() / 2.\n",
    "    for i, j in itertools.product(range(cm.shape[0]), range(cm.shape[1])):\n",
    "        plt.text(j, i, cm[i, j],\n",
    "                 horizontalalignment=\"center\",\n",
    "                 color=\"white\" if cm[i, j] > thresh else \"black\")\n",
    "\n",
    "    plt.tight_layout()\n",
    "    plt.ylabel('True label')\n",
    "    plt.xlabel('Predicted label')\n",
    "\n",
    "class_names = ['Failure','Success']"
   ]
  },
  {
   "cell_type": "code",
   "execution_count": 0,
   "metadata": {
    "colab": {
     "base_uri": "https://localhost:8080/",
     "height": 315
    },
    "colab_type": "code",
    "id": "6ml_BPNb_ohM",
    "outputId": "95675cfd-e4ca-473e-dfe0-54b9ae931462"
   },
   "outputs": [
    {
     "data": {
      "image/png": "[encoded data removed]",
      "text/plain": [
       "<Figure size 432x288 with 2 Axes>"
      ]
     },
     "metadata": {
      "tags": []
     },
     "output_type": "display_data"
    }
   ],
   "source": [
    "# Plot the confusion matrix for the logistic regression model with the full dataset\n",
    "cm = confusion_matrix(y_train,y_preds)\n",
    "plot_confusion_matrix(cm, classes=class_names, title='Confusion matrix - full dataset')"
   ]
  },
  {
   "cell_type": "code",
   "execution_count": 0,
   "metadata": {
    "colab": {
     "base_uri": "https://localhost:8080/",
     "height": 315
    },
    "colab_type": "code",
    "id": "2hV-mM8EHfOP",
    "outputId": "1e85de21-b390-4dbf-9c5f-4cd3a2ae0f71"
   },
   "outputs": [
    {
     "data": {
      "image/png": "[encoded data removed]",
      "text/plain": [
       "<Figure size 432x288 with 2 Axes>"
      ]
     },
     "metadata": {
      "tags": []
     },
     "output_type": "display_data"
    }
   ],
   "source": [
    "# Plot the confusion matrix for pred_s model\n",
    "cm = confusion_matrix(y_train,y_base_preds)\n",
    "plot_confusion_matrix(cm, classes=class_names, title='Confusion matrix - full dataset')"
   ]
  },
  {
   "cell_type": "code",
   "execution_count": 0,
   "metadata": {
    "colab": {
     "base_uri": "https://localhost:8080/",
     "height": 291
    },
    "colab_type": "code",
    "id": "aO8nkshs_qon",
    "outputId": "fee07589-c44c-43ea-b5b0-25b516ee3858"
   },
   "outputs": [
    {
     "data": {
      "image/png": "[encoded data removed]",
      "text/plain": [
       "<Figure size 432x288 with 1 Axes>"
      ]
     },
     "metadata": {
      "tags": []
     },
     "output_type": "display_data"
    }
   ],
   "source": [
    "# Plot the precision recall curve - we see the logistic regression model has better precision and recall than base pred_s model\n",
    "from sklearn.metrics import precision_recall_curve\n",
    "base_precisions, base_recalls, base_thresholds = precision_recall_curve(y_train, y_base_train_preds)\n",
    "precisions, recalls, thresholds = precision_recall_curve(y_train, y_train_preds)\n",
    "\n",
    "def plot_precision_recall(precisions, recalls, base_precisions, base_recalls):\n",
    "    plt.plot(recalls, precisions, \"b--\", label=\"Logistic Regression\", linewidth=2)\n",
    "    plt.plot(base_recalls, base_precisions, \"g-\", label=\"Base model\", linewidth=2)\n",
    "    plt.xlabel(\"Recall\", fontsize=16)\n",
    "    plt.ylabel(\"Precision\", fontsize=16)\n",
    "    plt.legend(loc=\"lower center\", fontsize=12)\n",
    "    plt.ylim([0, 1.1])\n",
    "\n",
    "plt.figure(figsize=(6, 4))\n",
    "plot_precision_recall(precisions, recalls, base_precisions, base_recalls)\n",
    "plt.xlim([0, 1])\n",
    "plt.show()"
   ]
  },
  {
   "cell_type": "code",
   "execution_count": 0,
   "metadata": {
    "colab": {
     "base_uri": "https://localhost:8080/",
     "height": 325
    },
    "colab_type": "code",
    "id": "dAfdRjWDHSDH",
    "outputId": "3f32574b-f0e3-4617-d4a7-f7dfdd34654a"
   },
   "outputs": [
    {
     "data": {
      "image/png": "[encoded data removed]",
      "text/plain": [
       "<Figure size 432x288 with 1 Axes>"
      ]
     },
     "metadata": {
      "tags": []
     },
     "output_type": "display_data"
    },
    {
     "name": "stdout",
     "output_type": "stream",
     "text": [
      "ROC/AUC score for full training set is 0.839\n",
      "ROC/AUC score for balanced training set is 0.792\n"
     ]
    }
   ],
   "source": [
    "# Plot the ROC curve - logistic regression model superior to pred_s model\n",
    "from sklearn.metrics import roc_curve, roc_auc_score\n",
    "fpr, tpr, threshold = roc_curve(y_train, y_train_preds)\n",
    "roc_auc = roc_auc_score(y_train, y_train_preds)\n",
    "fpr_base, tpr_base, threshold_base = roc_curve(y_train, y_base_train_preds)\n",
    "roc_auc_base = roc_auc_score(y_train, y_base_train_preds)\n",
    "\n",
    "def plot_roc_curve(fpr, tpr, fpr_bal, tpr_bal, label=None):\n",
    "    plt.plot(fpr, tpr, 'b', linewidth=2, label = 'AUC = %0.2f' % roc_auc)\n",
    "    plt.plot(fpr_base, tpr_base, 'r', linewidth=2, label = 'AUC = %0.2f' % roc_auc_base)\n",
    "    plt.plot([0, 1], [0, 1], 'k--')\n",
    "    plt.axis([0, 1, 0, 1])\n",
    "    plt.xlabel('False Positive Rate')\n",
    "    plt.ylabel('True Positive Rate')\n",
    "    plt.legend(loc=\"lower center\", fontsize=12)\n",
    "plot_roc_curve(fpr, tpr, fpr_base, tpr_base)\n",
    "plt.show()\n",
    "        \n",
    "print('ROC/AUC score for full training set is %0.3f' % roc_auc_score(y_train, y_train_preds))\n",
    "print('ROC/AUC score for balanced training set is %0.3f' % roc_auc_score(y_train, y_base_train_preds))"
   ]
  },
  {
   "cell_type": "code",
   "execution_count": 0,
   "metadata": {
    "colab": {
     "base_uri": "https://localhost:8080/",
     "height": 229
    },
    "colab_type": "code",
    "id": "41aClcI3HWjZ",
    "outputId": "1fd715d0-d7da-422b-9b81-6df4de51f316"
   },
   "outputs": [
    {
     "ename": "NameError",
     "evalue": "ignored",
     "output_type": "error",
     "traceback": [
      "\u001b[0;31m---------------------------------------------------------------------------\u001b[0m",
      "\u001b[0;31mNameError\u001b[0m                                 Traceback (most recent call last)",
      "\u001b[0;32m<ipython-input-1-92d369780931>\u001b[0m in \u001b[0;36m<module>\u001b[0;34m()\u001b[0m\n\u001b[1;32m      9\u001b[0m     \u001b[0mplt\u001b[0m\u001b[0;34m.\u001b[0m\u001b[0mylim\u001b[0m\u001b[0;34m(\u001b[0m\u001b[0;34m[\u001b[0m\u001b[0;36m0\u001b[0m\u001b[0;34m,\u001b[0m \u001b[0;36m1.1\u001b[0m\u001b[0;34m]\u001b[0m\u001b[0;34m)\u001b[0m\u001b[0;34m\u001b[0m\u001b[0;34m\u001b[0m\u001b[0m\n\u001b[1;32m     10\u001b[0m \u001b[0;34m\u001b[0m\u001b[0m\n\u001b[0;32m---> 11\u001b[0;31m \u001b[0mplt\u001b[0m\u001b[0;34m.\u001b[0m\u001b[0mfigure\u001b[0m\u001b[0;34m(\u001b[0m\u001b[0mfigsize\u001b[0m\u001b[0;34m=\u001b[0m\u001b[0;34m(\u001b[0m\u001b[0;36m8\u001b[0m\u001b[0;34m,\u001b[0m \u001b[0;36m4\u001b[0m\u001b[0;34m)\u001b[0m\u001b[0;34m)\u001b[0m\u001b[0;34m\u001b[0m\u001b[0;34m\u001b[0m\u001b[0m\n\u001b[0m\u001b[1;32m     12\u001b[0m \u001b[0mplot_precision_recall_vs_threshold\u001b[0m\u001b[0;34m(\u001b[0m\u001b[0mprecisions\u001b[0m\u001b[0;34m,\u001b[0m \u001b[0mrecalls\u001b[0m\u001b[0;34m,\u001b[0m \u001b[0mthresholds\u001b[0m\u001b[0;34m,\u001b[0m \u001b[0mbase_precisions\u001b[0m\u001b[0;34m,\u001b[0m \u001b[0mbase_recalls\u001b[0m\u001b[0;34m,\u001b[0m \u001b[0mbase_thresholds\u001b[0m\u001b[0;34m)\u001b[0m\u001b[0;34m\u001b[0m\u001b[0;34m\u001b[0m\u001b[0m\n\u001b[1;32m     13\u001b[0m \u001b[0mplt\u001b[0m\u001b[0;34m.\u001b[0m\u001b[0mxlim\u001b[0m\u001b[0;34m(\u001b[0m\u001b[0;34m[\u001b[0m\u001b[0;36m0\u001b[0m\u001b[0;34m,\u001b[0m \u001b[0;36m1\u001b[0m\u001b[0;34m]\u001b[0m\u001b[0;34m)\u001b[0m\u001b[0;34m\u001b[0m\u001b[0;34m\u001b[0m\u001b[0m\n",
      "\u001b[0;31mNameError\u001b[0m: name 'plt' is not defined"
     ]
    }
   ],
   "source": [
    "# Plot the precision recall curve - we see logistic regression model has similar recall to pred_s model, but precision is slightly improved. \n",
    "\n",
    "def plot_precision_recall_vs_threshold(precisions, recalls, thresholds, base_precisions, base_recalls, base_thresholds):\n",
    "    plt.plot(thresholds, precisions[:-1], \"b--\", label=\"Precision full data\", linewidth=2)\n",
    "    plt.plot(thresholds, recalls[:-1], \"b-\", label=\"Recall full data\", linewidth=2)\n",
    "    plt.plot(base_thresholds, base_precisions[:-1], \"g--\", label=\"Precision base model\", linewidth=2)\n",
    "    plt.plot(base_thresholds, base_recalls[:-1], \"g-\", label=\"Recall base model\", linewidth=2)\n",
    "    plt.xlabel(\"Threshold\", fontsize=16)\n",
    "    plt.legend(loc=\"lower center\", fontsize=12)\n",
    "    plt.ylim([0, 1.1])\n",
    "\n",
    "plt.figure(figsize=(8, 4))\n",
    "plot_precision_recall_vs_threshold(precisions, recalls, thresholds, base_precisions, base_recalls, base_thresholds)\n",
    "plt.xlim([0, 1])\n",
    "plt.show()"
   ]
  },
  {
   "cell_type": "code",
   "execution_count": 0,
   "metadata": {
    "colab": {
     "base_uri": "https://localhost:8080/",
     "height": 101
    },
    "colab_type": "code",
    "id": "K1T-BXwKNUAL",
    "outputId": "c62fcc2f-2372-4a20-abb7-b7a713b66694"
   },
   "outputs": [
    {
     "name": "stderr",
     "output_type": "stream",
     "text": [
      "/usr/local/lib/python3.6/dist-packages/pandas/core/frame.py:3940: SettingWithCopyWarning: \n",
      "A value is trying to be set on a copy of a slice from a DataFrame\n",
      "\n",
      "See the caveats in the documentation: http://pandas.pydata.org/pandas-docs/stable/indexing.html#indexing-view-versus-copy\n",
      "  errors=errors)\n"
     ]
    }
   ],
   "source": [
    "# Drop pred_s from test set\n",
    "\n",
    "val_df.drop(['pred_s'],axis=1,inplace=True)\n",
    "\n"
   ]
  },
  {
   "cell_type": "code",
   "execution_count": 0,
   "metadata": {
    "colab": {},
    "colab_type": "code",
    "id": "yJg73z8p4EuK"
   },
   "outputs": [],
   "source": [
    "# Scale the validation dataset\n",
    "x_val=scaler.fit_transform(x_val)"
   ]
  },
  {
   "cell_type": "code",
   "execution_count": 0,
   "metadata": {
    "colab": {
     "base_uri": "https://localhost:8080/",
     "height": 433
    },
    "colab_type": "code",
    "id": "l3VGFKSqfnBs",
    "outputId": "c7414bd9-afa1-406a-c45d-4ba2e7a1746a"
   },
   "outputs": [
    {
     "name": "stdout",
     "output_type": "stream",
     "text": [
      "Test Set:\n",
      "AUC:0.838\n",
      "accuracy:0.750\n",
      "recall:0.751\n",
      "precision:0.744\n",
      "specificity:0.749\n",
      " \n"
     ]
    },
    {
     "data": {
      "image/png": "[encoded data removed]",
      "text/plain": [
       "<Figure size 432x288 with 2 Axes>"
      ]
     },
     "metadata": {
      "tags": []
     },
     "output_type": "display_data"
    }
   ],
   "source": [
    "# Use the trained logistic regression model with the test dataset to see the results\n",
    "\n",
    "y_val_preds = log_reg.predict_proba(x_val)[:,1]\n",
    "y_preds = (y_val_preds>0.5).astype(int)\n",
    "\n",
    "print('Test Set:')\n",
    "lr_val_auc, lr_val_accuracy, lr_val_recall, \\\n",
    "    lr_val_precision, lr_val_specificity = print_report(y_val,y_val_preds, thresh)\n",
    "\n",
    "# model report     \n",
    "cm = confusion_matrix(y_val.values,y_preds)\n",
    "plot_confusion_matrix(cm, classes=class_names, title='Confusion matrix')"
   ]
  },
  {
   "cell_type": "code",
   "execution_count": 0,
   "metadata": {
    "colab": {},
    "colab_type": "code",
    "id": "573QSeo6fXaC"
   },
   "outputs": [],
   "source": []
  }
 ],
 "metadata": {
  "colab": {
   "collapsed_sections": [],
   "name": "final-project_attempt2.ipynb",
   "provenance": [],
   "version": "0.3.2"
  },
  "kernelspec": {
   "display_name": "Python 3",
   "language": "python",
   "name": "python3"
  },
  "language_info": {
   "codemirror_mode": {
    "name": "ipython",
    "version": 3
   },
   "file_extension": ".py",
   "mimetype": "text/x-python",
   "name": "python",
   "nbconvert_exporter": "python",
   "pygments_lexer": "ipython3",
   "version": "3.6.8"
  }
 },
 "nbformat": 4,
 "nbformat_minor": 1
}
