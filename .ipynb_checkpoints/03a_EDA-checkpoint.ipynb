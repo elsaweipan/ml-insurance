{
 "cells": [
  {
   "cell_type": "markdown",
   "metadata": {
    "colab_type": "text",
    "id": "pYs365bjQJP0"
   },
   "source": [
    "### check for distributions, correlation, ...\n",
    "<p>Q. how to deal with categorical data?\n",
    "<p>Todo. correlcation analysis"
   ]
  },
  {
   "cell_type": "code",
   "execution_count": 5,
   "metadata": {},
   "outputs": [],
   "source": [
    "## Imports\n",
    "import numpy as np\n",
    "import pandas as pd\n",
    "import os\n",
    "import pickle\n",
    "import seaborn as sns"
   ]
  },
  {
   "cell_type": "code",
   "execution_count": 6,
   "metadata": {},
   "outputs": [],
   "source": [
    "## to plot pretty figures\n",
    "%matplotlib inline\n",
    "import matplotlib\n",
    "import matplotlib.pyplot as plt\n",
    "plt.rcParams['axes.labelsize'] = 14\n",
    "plt.rcParams['xtick.labelsize'] = 12\n",
    "plt.rcParams['ytick.labelsize'] = 12\n",
    "\n",
    "## to make this notebook's output stable across runs\n",
    "np.random.seed(42)"
   ]
  },
  {
   "cell_type": "markdown",
   "metadata": {},
   "source": [
    "#### Read the data"
   ]
  },
  {
   "cell_type": "code",
   "execution_count": 7,
   "metadata": {},
   "outputs": [
    {
     "name": "stdout",
     "output_type": "stream",
     "text": [
      "['uniqueID', 'Var01', 'Var03', 'Var07', 'Var10', 'Var11', 'Var13', 'Var14', 'Var19', 'Var20', 'Var21', 'Var23', 'Var25', 'Var26', 'Var27', 'Var28', 'Var29', 'Var30', 'Var31', 'Var32', 'Var33', 'Var34', 'Var35', 'Var42', 'pred_s', 'Var47', 'Var48', 'Var49', 'Var50', 'Var51', 'Var52', 'Var53', 'Var55', 'c01', 'c02', 'c03', 'c06', 'c07', 'c08', 'c09', 'c10', 'c11', 'c12', 'c13', 'c14', 'c15', 'c17', 'c18', 'c19', 'c20', 'c21', 'c22', 'c23', 'c24', 'c25', 'c27', 'c28', 'c29', 'c30', 'c31', 'c32', 'c33', 'c36', 'c37', 'Var54', 'Var56', 'Var02', 'Var04', 'Var05', 'Var06', 'Var08', 'Var09', 'Var12', 'Var15', 'Var16', 'Var18', 'Var22', 'Var24', 'c04', 'c05', 'c16', 'c26', 'c34', 'c35', 'c38', 'c39', 'c40', 'id', 'train']\n"
     ]
    }
   ],
   "source": [
    "with open('../final_project_data/insurance_clf_data.pickle','rb') as file:\n",
    "    df_all = pickle.load(file)\n",
    "    \n",
    "print(list(df_all))"
   ]
  },
  {
   "cell_type": "markdown",
   "metadata": {
    "colab_type": "text",
    "id": "36VD1i8CQJP1"
   },
   "source": [
    "#### Train test split"
   ]
  },
  {
   "cell_type": "code",
   "execution_count": 8,
   "metadata": {
    "colab": {},
    "colab_type": "code",
    "id": "ACsjnO3mQJP1",
    "outputId": "2acdb071-83d8-4507-db1e-6f0f46257185"
   },
   "outputs": [
    {
     "name": "stdout",
     "output_type": "stream",
     "text": [
      "(1647565, 89)\n"
     ]
    }
   ],
   "source": [
    "## training set\n",
    "df_train = df_all.loc[df_all.train==\"Y\"]\n",
    "print(df_train.shape)"
   ]
  },
  {
   "cell_type": "code",
   "execution_count": 9,
   "metadata": {
    "colab": {},
    "colab_type": "code",
    "id": "WCNYXawrQJP3",
    "outputId": "49a9c98e-c789-4bc2-9a31-06f839ec8c7b"
   },
   "outputs": [
    {
     "name": "stdout",
     "output_type": "stream",
     "text": [
      "(148107, 89)\n"
     ]
    }
   ],
   "source": [
    "## test set\n",
    "df_test = df_all.loc[df_all.train==\"N\"]\n",
    "print(df_test.shape)"
   ]
  },
  {
   "cell_type": "markdown",
   "metadata": {
    "colab_type": "text",
    "id": "bDCHKsCbQJQZ"
   },
   "source": [
    "#### Unique values within each variable"
   ]
  },
  {
   "cell_type": "code",
   "execution_count": 10,
   "metadata": {
    "colab": {},
    "colab_type": "code",
    "id": "zW0IOjA7QJQa",
    "outputId": "e6b47fb2-4e88-4647-e853-83c0d6aaea40",
    "scrolled": true
   },
   "outputs": [],
   "source": [
    "# Look at some of the unique values within each variable \n",
    "def check_unique_values(df):\n",
    "    for col in list(df.columns):\n",
    "        uniques = df[col].unique() # get a list of unique values  \n",
    "        uniques.sort()\n",
    "        # if number of unique values is less than 30, print the values. Otherwise print the number of unique values\n",
    "        if len(uniques)<30:\n",
    "            print(col + ':')\n",
    "            print(uniques)\n",
    "        else:\n",
    "            print(col + ': ' + str(len(uniques)) + ' unique values')"
   ]
  },
  {
   "cell_type": "markdown",
   "metadata": {
    "colab_type": "text",
    "id": "1_B5saRRQJQG"
   },
   "source": [
    "# 03a_EDA_distribution"
   ]
  },
  {
   "cell_type": "code",
   "execution_count": 11,
   "metadata": {
    "colab": {},
    "colab_type": "code",
    "id": "p87MypcMQJQG"
   },
   "outputs": [],
   "source": [
    "def cat_barplot(var):\n",
    "    clean_var = df_train[var].fillna('Missing')\n",
    "    var_counts = clean_var.value_counts()\n",
    "    barplot = sns.barplot(x=var_counts.index, y=var_counts.values, alpha=1)\n",
    "    return var_counts, barplot"
   ]
  },
  {
   "cell_type": "code",
   "execution_count": 12,
   "metadata": {
    "colab": {},
    "colab_type": "code",
    "id": "qeBzmHNfQJQI",
    "outputId": "fa443b15-60a4-4dfa-bc90-eab54b72d258"
   },
   "outputs": [],
   "source": [
    "# plt.figure(figsize=(16,16))\n",
    "# plt.subplot(221); cat_barplot('Var03')\n",
    "# plt.subplot(222); cat_barplot('Var01')"
   ]
  },
  {
   "cell_type": "code",
   "execution_count": 13,
   "metadata": {
    "colab": {},
    "colab_type": "code",
    "id": "qeBzmHNfQJQI",
    "outputId": "fa443b15-60a4-4dfa-bc90-eab54b72d258"
   },
   "outputs": [
    {
     "data": {
      "text/plain": [
       "(Missing    664123\n",
       " 37.0       117525\n",
       " 22.0       117086\n",
       " 30.0       108554\n",
       " 14.0       104957\n",
       " 5.0         92740\n",
       " 17.0        92526\n",
       " 10.0        90665\n",
       " 26.0        81401\n",
       " 33.0        65693\n",
       " 2.0         56782\n",
       " 7.0         30845\n",
       " 0.0         24668\n",
       " Name: c04, dtype: int64,\n",
       " <matplotlib.axes._subplots.AxesSubplot at 0x1a24c3e438>)"
      ]
     },
     "execution_count": 13,
     "metadata": {},
     "output_type": "execute_result"
    },
    {
     "data": {
      "image/png": "[encoded data removed]",
      "text/plain": [
       "<Figure size 432x288 with 1 Axes>"
      ]
     },
     "metadata": {
      "needs_background": "light"
     },
     "output_type": "display_data"
    }
   ],
   "source": [
    "cat_barplot('c04')"
   ]
  },
  {
   "cell_type": "code",
   "execution_count": 14,
   "metadata": {
    "colab": {},
    "colab_type": "code",
    "id": "qeBzmHNfQJQI",
    "outputId": "fa443b15-60a4-4dfa-bc90-eab54b72d258"
   },
   "outputs": [
    {
     "data": {
      "text/plain": [
       "(3.0        279711\n",
       " Missing    252524\n",
       " 10.0       197003\n",
       " 14.0        84143\n",
       " 16.0        61173\n",
       " 35.0        58783\n",
       " 18.0        48583\n",
       " 26.0        47797\n",
       " 30.0        47589\n",
       " 28.0        46428\n",
       " 24.0        46177\n",
       " 38.0        44340\n",
       " 19.0        39979\n",
       " 31.0        38717\n",
       " 20.0        34538\n",
       " 37.0        34357\n",
       " 21.0        33486\n",
       " 32.0        32242\n",
       " 22.0        27943\n",
       " 34.0        27133\n",
       " 33.0        26030\n",
       " 23.0        25253\n",
       " 39.0        24284\n",
       " 27.0        23404\n",
       " 29.0        23196\n",
       " 25.0        21772\n",
       " 36.0        20980\n",
       " Name: c05, dtype: int64,\n",
       " <matplotlib.axes._subplots.AxesSubplot at 0x1a24c62630>)"
      ]
     },
     "execution_count": 14,
     "metadata": {},
     "output_type": "execute_result"
    },
    {
     "data": {
      "image/png": "[encoded data removed]",
      "text/plain": [
       "<Figure size 1152x1152 with 1 Axes>"
      ]
     },
     "metadata": {
      "needs_background": "light"
     },
     "output_type": "display_data"
    }
   ],
   "source": [
    "plt.figure(figsize=(16,16))\n",
    "cat_barplot('c05')"
   ]
  },
  {
   "cell_type": "markdown",
   "metadata": {
    "colab_type": "text",
    "id": "mMW9QQhIQJQP"
   },
   "source": [
    "#### Categorical data & odrinary data, relation with classification target 0/1 (Boxplots)"
   ]
  },
  {
   "cell_type": "code",
   "execution_count": 15,
   "metadata": {
    "colab": {},
    "colab_type": "code",
    "id": "uajHEA8HQJQP",
    "outputId": "6006ff46-a647-40e9-d874-93bc9eef14f9"
   },
   "outputs": [
    {
     "data": {
      "text/plain": [
       "<matplotlib.axes._subplots.AxesSubplot at 0x1a24c4a940>"
      ]
     },
     "execution_count": 15,
     "metadata": {},
     "output_type": "execute_result"
    },
    {
     "data": {
      "image/png": "[encoded data removed]",
      "text/plain": [
       "<Figure size 360x432 with 1 Axes>"
      ]
     },
     "metadata": {
      "needs_background": "light"
     },
     "output_type": "display_data"
    }
   ],
   "source": [
    "df_train.boxplot('c04','Var47', rot = 30,figsize=(5,6))"
   ]
  }
 ],
 "metadata": {
  "colab": {
   "collapsed_sections": [
    "OOLpCdgyQJRV",
    "4FVdmqd4QJRo"
   ],
   "name": "Insurance_classification_v5.ipynb",
   "provenance": [],
   "version": "0.3.2"
  },
  "kernelspec": {
   "display_name": "Python 3",
   "language": "python",
   "name": "python3"
  },
  "language_info": {
   "codemirror_mode": {
    "name": "ipython",
    "version": 3
   },
   "file_extension": ".py",
   "mimetype": "text/x-python",
   "name": "python",
   "nbconvert_exporter": "python",
   "pygments_lexer": "ipython3",
   "version": "3.6.8"
  }
 },
 "nbformat": 4,
 "nbformat_minor": 1
}
